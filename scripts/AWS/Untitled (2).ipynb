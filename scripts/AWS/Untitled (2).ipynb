{
 "cells": [
  {
   "cell_type": "code",
   "execution_count": 1,
   "id": "49c14978-5208-47c4-aeb4-56e4b3aaf51f",
   "metadata": {},
   "outputs": [],
   "source": [
    "Path1 = '../data/1000g/chr1_1000g_snps.txt'"
   ]
  },
  {
   "cell_type": "code",
   "execution_count": 4,
   "id": "65e182b9-0912-4132-8d7c-fd647afb1bf8",
   "metadata": {},
   "outputs": [
    {
     "data": {
      "text/plain": [
       "{'.'}"
      ]
     },
     "execution_count": 4,
     "metadata": {},
     "output_type": "execute_result"
    }
   ],
   "source": [
    "with open(Path1, \"r\") as file:\n",
    "    snps_1000g = set(file.read().splitlines())\n",
    "snps_1000g"
   ]
  }
 ],
 "metadata": {
  "kernelspec": {
   "display_name": "Python 3 (ipykernel)",
   "language": "python",
   "name": "python3"
  },
  "language_info": {
   "codemirror_mode": {
    "name": "ipython",
    "version": 3
   },
   "file_extension": ".py",
   "mimetype": "text/x-python",
   "name": "python",
   "nbconvert_exporter": "python",
   "pygments_lexer": "ipython3",
   "version": "3.9.16"
  }
 },
 "nbformat": 4,
 "nbformat_minor": 5
}
