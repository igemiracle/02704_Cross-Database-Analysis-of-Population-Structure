{
 "cells": [
  {
   "cell_type": "code",
   "execution_count": 1,
   "id": "799e316e",
   "metadata": {},
   "outputs": [
    {
     "name": "stdout",
     "output_type": "stream",
     "text": [
      "Reading HapMap3 positions...\n"
     ]
    },
    {
     "name": "stderr",
     "output_type": "stream",
     "text": [
      "100%|███████████████████████████████████████████| 22/22 [05:49<00:00, 15.89s/it]"
     ]
    },
    {
     "name": "stdout",
     "output_type": "stream",
     "text": [
      "\n",
      "Summary of common SNPs:\n",
      "Total HapMap SNPs: 697,393\n",
      "Total 1000G SNPs: 81,192,381\n",
      "Total common SNPs: 21,643\n",
      "\n",
      "Detailed statistics saved to: ../data/common_snps/common_snps_summary.csv\n"
     ]
    },
    {
     "name": "stderr",
     "output_type": "stream",
     "text": [
      "\n"
     ]
    }
   ],
   "source": [
    "import pandas as pd\n",
    "import subprocess\n",
    "import os\n",
    "from typing import Dict, Set, List, Tuple\n",
    "from concurrent.futures import ThreadPoolExecutor, as_completed\n",
    "from tqdm import tqdm\n",
    "\n",
    "def get_hapmap_positions(hapmap_file: str) -> Dict[int, Set[str]]:\n",
    "    \"\"\"Read HapMap3 SNP positions by chromosome\"\"\"\n",
    "    print(\"Reading HapMap3 positions...\")\n",
    "    hapmap_df = pd.read_csv(hapmap_file, sep='\\s+', header=None,\n",
    "                           names=['SNP', 'chromosome', 'morgans', 'position', 'ref', 'alt'])\n",
    "    \n",
    "    positions_by_chr = {}\n",
    "    for chrom in range(1, 23):\n",
    "        chr_data = hapmap_df[hapmap_df['chromosome'] == chrom]\n",
    "        positions_by_chr[chrom] = set(f\"{chrom}:{pos}\" for pos in chr_data['position'])\n",
    "    \n",
    "    return positions_by_chr\n",
    "\n",
    "def get_1000g_positions(vcf_file: str) -> Set[str]:\n",
    "    \"\"\"Extract SNP positions from VCF file\"\"\"\n",
    "    cmd = f\"bcftools query -f '%CHROM:%POS\\n' {vcf_file}\"\n",
    "    result = subprocess.run(cmd, shell=True, capture_output=True, text=True)\n",
    "    return set(result.stdout.strip().split('\\n'))\n",
    "\n",
    "def filter_vcf_by_positions(input_vcf: str, output_vcf: str, positions: Set[str]):\n",
    "    \"\"\"Filter VCF file to keep only specified positions\"\"\"\n",
    "    # Create temporary positions file\n",
    "    temp_pos_file = f\"temp_positions_{os.path.basename(input_vcf)}.txt\"\n",
    "    with open(temp_pos_file, 'w') as f:\n",
    "        for pos in positions:\n",
    "            chrom, pos = pos.split(':')\n",
    "            f.write(f\"{chrom}\\t{pos}\\n\")\n",
    "    \n",
    "    # Filter VCF\n",
    "    cmd = f'bcftools view -T {temp_pos_file} -Oz -o {output_vcf} {input_vcf}'\n",
    "    subprocess.run(cmd, shell=True, check=True)\n",
    "    \n",
    "    # Index filtered file\n",
    "    subprocess.run(f'bcftools index {output_vcf}', shell=True, check=True)\n",
    "    \n",
    "    # Remove temporary file\n",
    "    os.remove(temp_pos_file)\n",
    "\n",
    "def process_chromosome(chrom: int, hapmap_positions: Set[str], \n",
    "                      data_dir: str, output_dir: str) -> Tuple[int, Dict]:\n",
    "    \"\"\"Process a single chromosome to find and filter common SNPs\"\"\"\n",
    "    try:\n",
    "        # Input files\n",
    "        vcf_file = os.path.join(data_dir, f'filtered.chr{chrom}.phase3.vcf.gz')\n",
    "        \n",
    "        # Get 1000G positions\n",
    "        kg_positions = get_1000g_positions(vcf_file)\n",
    "        \n",
    "        # Find common positions\n",
    "        common_positions = hapmap_positions.intersection(kg_positions)\n",
    "        \n",
    "        # Create output directory if needed\n",
    "        os.makedirs(output_dir, exist_ok=True)\n",
    "        \n",
    "        # Filter VCF file\n",
    "        output_vcf = os.path.join(output_dir, f'common_snps.chr{chrom}.vcf.gz')\n",
    "        filter_vcf_by_positions(vcf_file, output_vcf, common_positions)\n",
    "        \n",
    "        stats = {\n",
    "            'chromosome': chrom,\n",
    "            'hapmap_count': len(hapmap_positions),\n",
    "            'kg_count': len(kg_positions),\n",
    "            'common_count': len(common_positions)\n",
    "        }\n",
    "        \n",
    "        return chrom, stats\n",
    "        \n",
    "    except Exception as e:\n",
    "        print(f\"Error processing chromosome {chrom}: {e}\")\n",
    "        return chrom, None\n",
    "\n",
    "def main():\n",
    "    # Configuration\n",
    "    DATA_DIR = '../data/1000g'\n",
    "    OUTPUT_DIR = '../data/common_snps'\n",
    "    HAPMAP_FILE = '/Users/jingl1/Desktop/CMU/02704/hw_data/02704_data/HapMap3.snp'  # Update with your HapMap3 file path\n",
    "    \n",
    "    # Create output directory\n",
    "    os.makedirs(OUTPUT_DIR, exist_ok=True)\n",
    "    \n",
    "    # Get HapMap positions by chromosome\n",
    "    hapmap_positions = get_hapmap_positions(HAPMAP_FILE)\n",
    "    \n",
    "    # Process all chromosomes\n",
    "    stats_all = []\n",
    "    with ThreadPoolExecutor(max_workers=3) as executor:\n",
    "        future_to_chrom = {}\n",
    "        for chrom in range(1, 23):\n",
    "            future = executor.submit(\n",
    "                process_chromosome,\n",
    "                chrom,\n",
    "                hapmap_positions[chrom],\n",
    "                DATA_DIR,\n",
    "                OUTPUT_DIR\n",
    "            )\n",
    "            future_to_chrom[future] = chrom\n",
    "        \n",
    "        for future in tqdm(as_completed(future_to_chrom), total=22):\n",
    "            chrom = future_to_chrom[future]\n",
    "            _, stats = future.result()\n",
    "            if stats:\n",
    "                stats_all.append(stats)\n",
    "    \n",
    "    # Create summary\n",
    "    stats_df = pd.DataFrame(stats_all)\n",
    "    stats_df['hapmap_pct'] = (stats_df['common_count'] / stats_df['hapmap_count'] * 100).round(2)\n",
    "    stats_df['kg_pct'] = (stats_df['common_count'] / stats_df['kg_count'] * 100).round(2)\n",
    "    \n",
    "    # Save summary\n",
    "    summary_file = os.path.join(OUTPUT_DIR, 'common_snps_summary.csv')\n",
    "    stats_df.to_csv(summary_file, index=False)\n",
    "    \n",
    "    # Print summary\n",
    "    print(\"\\nSummary of common SNPs:\")\n",
    "    print(f\"Total HapMap SNPs: {stats_df['hapmap_count'].sum():,}\")\n",
    "    print(f\"Total 1000G SNPs: {stats_df['kg_count'].sum():,}\")\n",
    "    print(f\"Total common SNPs: {stats_df['common_count'].sum():,}\")\n",
    "    print(f\"\\nDetailed statistics saved to: {summary_file}\")\n",
    "\n",
    "if __name__ == \"__main__\":\n",
    "    main()"
   ]
  },
  {
   "cell_type": "code",
   "execution_count": 6,
   "id": "a46f0784",
   "metadata": {},
   "outputs": [
    {
     "name": "stdout",
     "output_type": "stream",
     "text": [
      "\n",
      "Processing population: ASW\n",
      "Converting data for population: ASW\n",
      "Found 61 samples for ASW\n",
      "Processing chromosome 1 for ASW...\n",
      "Converting genotypes for 1617 variants and 61 samples...\n"
     ]
    },
    {
     "name": "stderr",
     "output_type": "stream",
     "text": [
      "100%|███████████████████████████████████| 1617/1617 [00:00<00:00, 145872.36it/s]\n"
     ]
    },
    {
     "name": "stdout",
     "output_type": "stream",
     "text": [
      "\n",
      "Genotype distribution:\n",
      "Genotype 0: 92256 (93.53%)\n",
      "Genotype 1: 3976 (4.03%)\n",
      "Genotype 2: 2354 (2.39%)\n",
      "Genotype 9: 51 (0.05%)\n",
      "Processing chromosome 2 for ASW...\n",
      "Converting genotypes for 1786 variants and 61 samples...\n"
     ]
    },
    {
     "name": "stderr",
     "output_type": "stream",
     "text": [
      "100%|███████████████████████████████████| 1786/1786 [00:00<00:00, 142331.08it/s]\n"
     ]
    },
    {
     "name": "stdout",
     "output_type": "stream",
     "text": [
      "\n",
      "Genotype distribution:\n",
      "Genotype 0: 102249 (93.85%)\n",
      "Genotype 1: 4523 (4.15%)\n",
      "Genotype 2: 2055 (1.89%)\n",
      "Genotype 9: 119 (0.11%)\n",
      "Processing chromosome 3 for ASW...\n",
      "Converting genotypes for 1446 variants and 61 samples...\n"
     ]
    },
    {
     "name": "stderr",
     "output_type": "stream",
     "text": [
      "100%|███████████████████████████████████| 1446/1446 [00:00<00:00, 104859.41it/s]\n"
     ]
    },
    {
     "name": "stdout",
     "output_type": "stream",
     "text": [
      "\n",
      "Genotype distribution:\n",
      "Genotype 0: 82774 (93.84%)\n",
      "Genotype 1: 3615 (4.10%)\n",
      "Genotype 2: 1809 (2.05%)\n",
      "Genotype 9: 8 (0.01%)\n",
      "Processing chromosome 4 for ASW...\n",
      "Converting genotypes for 1366 variants and 61 samples...\n"
     ]
    },
    {
     "name": "stderr",
     "output_type": "stream",
     "text": [
      "100%|███████████████████████████████████| 1366/1366 [00:00<00:00, 135932.51it/s]\n"
     ]
    },
    {
     "name": "stdout",
     "output_type": "stream",
     "text": [
      "\n",
      "Genotype distribution:\n",
      "Genotype 0: 78472 (94.17%)\n",
      "Genotype 1: 3429 (4.12%)\n",
      "Genotype 2: 1378 (1.65%)\n",
      "Genotype 9: 47 (0.06%)\n",
      "Processing chromosome 5 for ASW...\n",
      "Converting genotypes for 1325 variants and 61 samples...\n"
     ]
    },
    {
     "name": "stderr",
     "output_type": "stream",
     "text": [
      "100%|███████████████████████████████████| 1325/1325 [00:00<00:00, 136188.71it/s]\n"
     ]
    },
    {
     "name": "stdout",
     "output_type": "stream",
     "text": [
      "\n",
      "Genotype distribution:\n",
      "Genotype 0: 75478 (93.38%)\n",
      "Genotype 1: 3605 (4.46%)\n",
      "Genotype 2: 1707 (2.11%)\n",
      "Genotype 9: 35 (0.04%)\n",
      "Processing chromosome 6 for ASW...\n",
      "Converting genotypes for 1423 variants and 61 samples...\n"
     ]
    },
    {
     "name": "stderr",
     "output_type": "stream",
     "text": [
      "100%|███████████████████████████████████| 1423/1423 [00:00<00:00, 137024.07it/s]"
     ]
    },
    {
     "name": "stdout",
     "output_type": "stream",
     "text": [
      "\n",
      "Genotype distribution:\n",
      "Genotype 0: 80509 (92.75%)\n",
      "Genotype 1: 4029 (4.64%)\n",
      "Genotype 2: 2227 (2.57%)\n",
      "Genotype 9: 38 (0.04%)\n",
      "Processing chromosome 7 for ASW...\n"
     ]
    },
    {
     "name": "stderr",
     "output_type": "stream",
     "text": [
      "\n"
     ]
    },
    {
     "name": "stdout",
     "output_type": "stream",
     "text": [
      "Converting genotypes for 1215 variants and 61 samples...\n"
     ]
    },
    {
     "name": "stderr",
     "output_type": "stream",
     "text": [
      "100%|███████████████████████████████████| 1215/1215 [00:00<00:00, 136547.24it/s]"
     ]
    },
    {
     "name": "stdout",
     "output_type": "stream",
     "text": [
      "\n",
      "Genotype distribution:\n",
      "Genotype 0: 69518 (93.80%)\n",
      "Genotype 1: 3289 (4.44%)\n",
      "Genotype 2: 1248 (1.68%)\n",
      "Genotype 9: 60 (0.08%)\n",
      "Processing chromosome 8 for ASW...\n"
     ]
    },
    {
     "name": "stderr",
     "output_type": "stream",
     "text": [
      "\n"
     ]
    },
    {
     "name": "stdout",
     "output_type": "stream",
     "text": [
      "Converting genotypes for 1382 variants and 61 samples...\n"
     ]
    },
    {
     "name": "stderr",
     "output_type": "stream",
     "text": [
      "100%|███████████████████████████████████| 1382/1382 [00:00<00:00, 142315.94it/s]"
     ]
    },
    {
     "name": "stdout",
     "output_type": "stream",
     "text": [
      "\n",
      "Genotype distribution:\n",
      "Genotype 0: 79894 (94.77%)\n",
      "Genotype 1: 3016 (3.58%)\n",
      "Genotype 2: 1273 (1.51%)\n",
      "Genotype 9: 119 (0.14%)\n",
      "Processing chromosome 9 for ASW...\n"
     ]
    },
    {
     "name": "stderr",
     "output_type": "stream",
     "text": [
      "\n"
     ]
    },
    {
     "name": "stdout",
     "output_type": "stream",
     "text": [
      "Converting genotypes for 1038 variants and 61 samples...\n"
     ]
    },
    {
     "name": "stderr",
     "output_type": "stream",
     "text": [
      "100%|███████████████████████████████████| 1038/1038 [00:00<00:00, 135262.30it/s]"
     ]
    },
    {
     "name": "stdout",
     "output_type": "stream",
     "text": [
      "\n",
      "Genotype distribution:\n",
      "Genotype 0: 59525 (94.01%)\n",
      "Genotype 1: 2694 (4.25%)\n",
      "Genotype 2: 1043 (1.65%)\n",
      "Genotype 9: 56 (0.09%)\n",
      "Processing chromosome 10 for ASW...\n"
     ]
    },
    {
     "name": "stderr",
     "output_type": "stream",
     "text": [
      "\n"
     ]
    },
    {
     "name": "stdout",
     "output_type": "stream",
     "text": [
      "Converting genotypes for 1128 variants and 61 samples...\n"
     ]
    },
    {
     "name": "stderr",
     "output_type": "stream",
     "text": [
      "100%|███████████████████████████████████| 1128/1128 [00:00<00:00, 135637.59it/s]"
     ]
    },
    {
     "name": "stdout",
     "output_type": "stream",
     "text": [
      "\n",
      "Genotype distribution:\n",
      "Genotype 0: 64744 (94.09%)\n",
      "Genotype 1: 2696 (3.92%)\n",
      "Genotype 2: 1368 (1.99%)\n",
      "Processing chromosome 11 for ASW...\n"
     ]
    },
    {
     "name": "stderr",
     "output_type": "stream",
     "text": [
      "\n"
     ]
    },
    {
     "name": "stdout",
     "output_type": "stream",
     "text": [
      "Converting genotypes for 1154 variants and 61 samples...\n"
     ]
    },
    {
     "name": "stderr",
     "output_type": "stream",
     "text": [
      "100%|███████████████████████████████████| 1154/1154 [00:00<00:00, 135927.06it/s]"
     ]
    },
    {
     "name": "stdout",
     "output_type": "stream",
     "text": [
      "\n",
      "Genotype distribution:\n",
      "Genotype 0: 66529 (94.51%)\n",
      "Genotype 1: 2560 (3.64%)\n",
      "Genotype 2: 1274 (1.81%)\n",
      "Genotype 9: 31 (0.04%)\n",
      "Processing chromosome 12 for ASW...\n"
     ]
    },
    {
     "name": "stderr",
     "output_type": "stream",
     "text": [
      "\n"
     ]
    },
    {
     "name": "stdout",
     "output_type": "stream",
     "text": [
      "Converting genotypes for 1046 variants and 61 samples...\n"
     ]
    },
    {
     "name": "stderr",
     "output_type": "stream",
     "text": [
      "100%|███████████████████████████████████| 1046/1046 [00:00<00:00, 140567.17it/s]"
     ]
    },
    {
     "name": "stdout",
     "output_type": "stream",
     "text": [
      "\n",
      "Genotype distribution:\n",
      "Genotype 0: 59448 (93.17%)\n",
      "Genotype 1: 2806 (4.40%)\n",
      "Genotype 2: 1436 (2.25%)\n",
      "Genotype 9: 116 (0.18%)\n",
      "Processing chromosome 13 for ASW...\n"
     ]
    },
    {
     "name": "stderr",
     "output_type": "stream",
     "text": [
      "\n"
     ]
    },
    {
     "name": "stdout",
     "output_type": "stream",
     "text": [
      "Converting genotypes for 773 variants and 61 samples...\n"
     ]
    },
    {
     "name": "stderr",
     "output_type": "stream",
     "text": [
      "100%|█████████████████████████████████████| 773/773 [00:00<00:00, 122522.75it/s]"
     ]
    },
    {
     "name": "stdout",
     "output_type": "stream",
     "text": [
      "\n",
      "Genotype distribution:\n",
      "Genotype 0: 44128 (93.58%)\n",
      "Genotype 1: 1859 (3.94%)\n",
      "Genotype 2: 1112 (2.36%)\n",
      "Genotype 9: 54 (0.11%)\n",
      "Processing chromosome 14 for ASW...\n"
     ]
    },
    {
     "name": "stderr",
     "output_type": "stream",
     "text": [
      "\n"
     ]
    },
    {
     "name": "stdout",
     "output_type": "stream",
     "text": [
      "Converting genotypes for 667 variants and 61 samples...\n"
     ]
    },
    {
     "name": "stderr",
     "output_type": "stream",
     "text": [
      "100%|█████████████████████████████████████| 667/667 [00:00<00:00, 132186.77it/s]"
     ]
    },
    {
     "name": "stdout",
     "output_type": "stream",
     "text": [
      "\n",
      "Genotype distribution:\n",
      "Genotype 0: 37917 (93.19%)\n",
      "Genotype 1: 1794 (4.41%)\n",
      "Genotype 2: 881 (2.17%)\n",
      "Genotype 9: 95 (0.23%)\n",
      "Processing chromosome 15 for ASW...\n"
     ]
    },
    {
     "name": "stderr",
     "output_type": "stream",
     "text": [
      "\n"
     ]
    },
    {
     "name": "stdout",
     "output_type": "stream",
     "text": [
      "Converting genotypes for 637 variants and 61 samples...\n"
     ]
    },
    {
     "name": "stderr",
     "output_type": "stream",
     "text": [
      "100%|█████████████████████████████████████| 637/637 [00:00<00:00, 132135.10it/s]"
     ]
    },
    {
     "name": "stdout",
     "output_type": "stream",
     "text": [
      "\n",
      "Genotype distribution:\n",
      "Genotype 0: 36760 (94.60%)\n",
      "Genotype 1: 1399 (3.60%)\n",
      "Genotype 2: 698 (1.80%)\n",
      "Processing chromosome 16 for ASW...\n"
     ]
    },
    {
     "name": "stderr",
     "output_type": "stream",
     "text": [
      "\n"
     ]
    },
    {
     "name": "stdout",
     "output_type": "stream",
     "text": [
      "Converting genotypes for 835 variants and 61 samples...\n"
     ]
    },
    {
     "name": "stderr",
     "output_type": "stream",
     "text": [
      "100%|█████████████████████████████████████| 835/835 [00:00<00:00, 139559.43it/s]\n"
     ]
    },
    {
     "name": "stdout",
     "output_type": "stream",
     "text": [
      "\n",
      "Genotype distribution:\n",
      "Genotype 0: 47539 (93.33%)\n",
      "Genotype 1: 2330 (4.57%)\n",
      "Genotype 2: 1052 (2.07%)\n",
      "Genotype 9: 14 (0.03%)\n",
      "Processing chromosome 17 for ASW...\n",
      "Converting genotypes for 664 variants and 61 samples...\n"
     ]
    },
    {
     "name": "stderr",
     "output_type": "stream",
     "text": [
      "100%|█████████████████████████████████████| 664/664 [00:00<00:00, 129795.30it/s]\n"
     ]
    },
    {
     "name": "stdout",
     "output_type": "stream",
     "text": [
      "\n",
      "Genotype distribution:\n",
      "Genotype 0: 34451 (85.06%)\n",
      "Genotype 1: 3752 (9.26%)\n",
      "Genotype 2: 2257 (5.57%)\n",
      "Genotype 9: 44 (0.11%)\n",
      "Processing chromosome 18 for ASW...\n",
      "Converting genotypes for 598 variants and 61 samples...\n"
     ]
    },
    {
     "name": "stderr",
     "output_type": "stream",
     "text": [
      "100%|█████████████████████████████████████| 598/598 [00:00<00:00, 130621.49it/s]\n"
     ]
    },
    {
     "name": "stdout",
     "output_type": "stream",
     "text": [
      "\n",
      "Genotype distribution:\n",
      "Genotype 0: 34675 (95.06%)\n",
      "Genotype 1: 1119 (3.07%)\n",
      "Genotype 2: 653 (1.79%)\n",
      "Genotype 9: 31 (0.08%)\n",
      "Processing chromosome 19 for ASW...\n",
      "Converting genotypes for 367 variants and 61 samples...\n"
     ]
    },
    {
     "name": "stderr",
     "output_type": "stream",
     "text": [
      "100%|█████████████████████████████████████| 367/367 [00:00<00:00, 129093.39it/s]"
     ]
    },
    {
     "name": "stdout",
     "output_type": "stream",
     "text": [
      "\n",
      "Genotype distribution:\n",
      "Genotype 0: 21352 (95.38%)\n",
      "Genotype 1: 746 (3.33%)\n",
      "Genotype 2: 288 (1.29%)\n",
      "Genotype 9: 1 (0.00%)\n",
      "Processing chromosome 20 for ASW...\n"
     ]
    },
    {
     "name": "stderr",
     "output_type": "stream",
     "text": [
      "\n"
     ]
    },
    {
     "name": "stdout",
     "output_type": "stream",
     "text": [
      "Converting genotypes for 571 variants and 61 samples...\n"
     ]
    },
    {
     "name": "stderr",
     "output_type": "stream",
     "text": [
      "100%|█████████████████████████████████████| 571/571 [00:00<00:00, 140088.18it/s]\n"
     ]
    },
    {
     "name": "stdout",
     "output_type": "stream",
     "text": [
      "\n",
      "Genotype distribution:\n",
      "Genotype 0: 32377 (92.95%)\n",
      "Genotype 1: 1505 (4.32%)\n",
      "Genotype 2: 948 (2.72%)\n",
      "Genotype 9: 1 (0.00%)\n",
      "Processing chromosome 21 for ASW...\n",
      "Converting genotypes for 340 variants and 61 samples...\n"
     ]
    },
    {
     "name": "stderr",
     "output_type": "stream",
     "text": [
      "100%|█████████████████████████████████████| 340/340 [00:00<00:00, 116957.55it/s]\n"
     ]
    },
    {
     "name": "stdout",
     "output_type": "stream",
     "text": [
      "\n",
      "Genotype distribution:\n",
      "Genotype 0: 19549 (94.26%)\n",
      "Genotype 1: 842 (4.06%)\n",
      "Genotype 2: 342 (1.65%)\n",
      "Genotype 9: 7 (0.03%)\n",
      "Processing chromosome 22 for ASW...\n",
      "Converting genotypes for 286 variants and 61 samples...\n"
     ]
    },
    {
     "name": "stderr",
     "output_type": "stream",
     "text": [
      "100%|█████████████████████████████████████| 286/286 [00:00<00:00, 112826.46it/s]"
     ]
    },
    {
     "name": "stdout",
     "output_type": "stream",
     "text": [
      "\n",
      "Genotype distribution:\n",
      "Genotype 0: 16158 (92.62%)\n",
      "Genotype 1: 769 (4.41%)\n",
      "Genotype 2: 460 (2.64%)\n",
      "Genotype 9: 59 (0.34%)\n"
     ]
    },
    {
     "name": "stderr",
     "output_type": "stream",
     "text": [
      "\n"
     ]
    },
    {
     "name": "stdout",
     "output_type": "stream",
     "text": [
      "\n",
      "Writing genotypes to ../data/1000g/populations/ASW.geno...\n"
     ]
    },
    {
     "name": "stderr",
     "output_type": "stream",
     "text": [
      "100%|██████████████████████████████████| 21664/21664 [00:00<00:00, 72421.41it/s]\n"
     ]
    },
    {
     "name": "stdout",
     "output_type": "stream",
     "text": [
      "\n",
      "Conversion complete for ASW!\n",
      "Files created:\n",
      "1. ../data/1000g/populations/ASW.snp - SNP information (21664 variants)\n",
      "2. ../data/1000g/populations/ASW.ind - Sample information (61 samples)\n",
      "3. ../data/1000g/populations/ASW.geno - Genotype data\n",
      "\n",
      "Final genotype distribution:\n",
      "Genotype 0: 1236302 (93.55%)\n",
      "Genotype 1: 56353 (4.26%)\n",
      "Genotype 2: 27863 (2.11%)\n",
      "Genotype 9: 986 (0.07%)\n",
      "\n",
      "Processing population: CEU\n",
      "Converting data for population: CEU\n",
      "Found 99 samples for CEU\n",
      "Processing chromosome 1 for CEU...\n",
      "Converting genotypes for 1617 variants and 99 samples...\n"
     ]
    },
    {
     "name": "stderr",
     "output_type": "stream",
     "text": [
      "100%|████████████████████████████████████| 1617/1617 [00:00<00:00, 89170.11it/s]\n"
     ]
    },
    {
     "name": "stdout",
     "output_type": "stream",
     "text": [
      "\n",
      "Genotype distribution:\n",
      "Genotype 0: 151309 (94.52%)\n",
      "Genotype 1: 4827 (3.02%)\n",
      "Genotype 2: 3867 (2.42%)\n",
      "Genotype 9: 80 (0.05%)\n",
      "Processing chromosome 2 for CEU...\n",
      "Converting genotypes for 1786 variants and 99 samples...\n"
     ]
    },
    {
     "name": "stderr",
     "output_type": "stream",
     "text": [
      "100%|████████████████████████████████████| 1786/1786 [00:00<00:00, 91877.24it/s]\n"
     ]
    },
    {
     "name": "stdout",
     "output_type": "stream",
     "text": [
      "\n",
      "Genotype distribution:\n",
      "Genotype 0: 168296 (95.18%)\n",
      "Genotype 1: 5325 (3.01%)\n",
      "Genotype 2: 2973 (1.68%)\n",
      "Genotype 9: 220 (0.12%)\n",
      "Processing chromosome 3 for CEU...\n",
      "Converting genotypes for 1446 variants and 99 samples...\n"
     ]
    },
    {
     "name": "stderr",
     "output_type": "stream",
     "text": [
      "100%|████████████████████████████████████| 1446/1446 [00:00<00:00, 89441.87it/s]\n"
     ]
    },
    {
     "name": "stdout",
     "output_type": "stream",
     "text": [
      "\n",
      "Genotype distribution:\n",
      "Genotype 0: 136064 (95.05%)\n",
      "Genotype 1: 4194 (2.93%)\n",
      "Genotype 2: 2896 (2.02%)\n",
      "Processing chromosome 4 for CEU...\n",
      "Converting genotypes for 1366 variants and 99 samples...\n"
     ]
    },
    {
     "name": "stderr",
     "output_type": "stream",
     "text": [
      "100%|████████████████████████████████████| 1366/1366 [00:00<00:00, 89450.89it/s]\n"
     ]
    },
    {
     "name": "stdout",
     "output_type": "stream",
     "text": [
      "\n",
      "Genotype distribution:\n",
      "Genotype 0: 128312 (94.88%)\n",
      "Genotype 1: 4237 (3.13%)\n",
      "Genotype 2: 2631 (1.95%)\n",
      "Genotype 9: 54 (0.04%)\n",
      "Processing chromosome 5 for CEU...\n",
      "Converting genotypes for 1325 variants and 99 samples...\n"
     ]
    },
    {
     "name": "stderr",
     "output_type": "stream",
     "text": [
      "100%|████████████████████████████████████| 1325/1325 [00:00<00:00, 91246.39it/s]\n"
     ]
    },
    {
     "name": "stdout",
     "output_type": "stream",
     "text": [
      "\n",
      "Genotype distribution:\n",
      "Genotype 0: 123692 (94.30%)\n",
      "Genotype 1: 4686 (3.57%)\n",
      "Genotype 2: 2758 (2.10%)\n",
      "Genotype 9: 39 (0.03%)\n",
      "Processing chromosome 6 for CEU...\n",
      "Converting genotypes for 1423 variants and 99 samples...\n"
     ]
    },
    {
     "name": "stderr",
     "output_type": "stream",
     "text": [
      "100%|████████████████████████████████████| 1423/1423 [00:00<00:00, 87193.68it/s]\n"
     ]
    },
    {
     "name": "stdout",
     "output_type": "stream",
     "text": [
      "\n",
      "Genotype distribution:\n",
      "Genotype 0: 131233 (93.15%)\n",
      "Genotype 1: 5929 (4.21%)\n",
      "Genotype 2: 3708 (2.63%)\n",
      "Genotype 9: 7 (0.00%)\n",
      "Processing chromosome 7 for CEU...\n",
      "Converting genotypes for 1215 variants and 99 samples...\n"
     ]
    },
    {
     "name": "stderr",
     "output_type": "stream",
     "text": [
      "100%|████████████████████████████████████| 1215/1215 [00:00<00:00, 90132.28it/s]"
     ]
    },
    {
     "name": "stdout",
     "output_type": "stream",
     "text": [
      "\n",
      "Genotype distribution:\n",
      "Genotype 0: 114441 (95.14%)\n",
      "Genotype 1: 3980 (3.31%)\n",
      "Genotype 2: 1852 (1.54%)\n",
      "Genotype 9: 12 (0.01%)\n",
      "Processing chromosome 8 for CEU...\n"
     ]
    },
    {
     "name": "stderr",
     "output_type": "stream",
     "text": [
      "\n"
     ]
    },
    {
     "name": "stdout",
     "output_type": "stream",
     "text": [
      "Converting genotypes for 1382 variants and 99 samples...\n"
     ]
    },
    {
     "name": "stderr",
     "output_type": "stream",
     "text": [
      "100%|████████████████████████████████████| 1382/1382 [00:00<00:00, 89184.22it/s]"
     ]
    },
    {
     "name": "stdout",
     "output_type": "stream",
     "text": [
      "\n",
      "Genotype distribution:\n",
      "Genotype 0: 130900 (95.67%)\n",
      "Genotype 1: 3632 (2.65%)\n",
      "Genotype 2: 2112 (1.54%)\n",
      "Genotype 9: 174 (0.13%)\n",
      "Processing chromosome 9 for CEU...\n"
     ]
    },
    {
     "name": "stderr",
     "output_type": "stream",
     "text": [
      "\n"
     ]
    },
    {
     "name": "stdout",
     "output_type": "stream",
     "text": [
      "Converting genotypes for 1038 variants and 99 samples...\n"
     ]
    },
    {
     "name": "stderr",
     "output_type": "stream",
     "text": [
      "100%|████████████████████████████████████| 1038/1038 [00:00<00:00, 91467.87it/s]"
     ]
    },
    {
     "name": "stdout",
     "output_type": "stream",
     "text": [
      "\n",
      "Genotype distribution:\n",
      "Genotype 0: 97639 (95.01%)\n",
      "Genotype 1: 3206 (3.12%)\n",
      "Genotype 2: 1853 (1.80%)\n",
      "Genotype 9: 64 (0.06%)\n",
      "Processing chromosome 10 for CEU...\n"
     ]
    },
    {
     "name": "stderr",
     "output_type": "stream",
     "text": [
      "\n"
     ]
    },
    {
     "name": "stdout",
     "output_type": "stream",
     "text": [
      "Converting genotypes for 1128 variants and 99 samples...\n"
     ]
    },
    {
     "name": "stderr",
     "output_type": "stream",
     "text": [
      "100%|████████████████████████████████████| 1128/1128 [00:00<00:00, 89426.06it/s]"
     ]
    },
    {
     "name": "stdout",
     "output_type": "stream",
     "text": [
      "\n",
      "Genotype distribution:\n",
      "Genotype 0: 106238 (95.13%)\n",
      "Genotype 1: 3150 (2.82%)\n",
      "Genotype 2: 2284 (2.05%)\n",
      "Processing chromosome 11 for CEU...\n"
     ]
    },
    {
     "name": "stderr",
     "output_type": "stream",
     "text": [
      "\n"
     ]
    },
    {
     "name": "stdout",
     "output_type": "stream",
     "text": [
      "Converting genotypes for 1154 variants and 99 samples...\n"
     ]
    },
    {
     "name": "stderr",
     "output_type": "stream",
     "text": [
      "100%|████████████████████████████████████| 1154/1154 [00:00<00:00, 89781.80it/s]"
     ]
    },
    {
     "name": "stdout",
     "output_type": "stream",
     "text": [
      "\n",
      "Genotype distribution:\n",
      "Genotype 0: 108817 (95.25%)\n",
      "Genotype 1: 3166 (2.77%)\n",
      "Genotype 2: 2249 (1.97%)\n",
      "Genotype 9: 14 (0.01%)\n",
      "Processing chromosome 12 for CEU...\n"
     ]
    },
    {
     "name": "stderr",
     "output_type": "stream",
     "text": [
      "\n"
     ]
    },
    {
     "name": "stdout",
     "output_type": "stream",
     "text": [
      "Converting genotypes for 1046 variants and 99 samples...\n"
     ]
    },
    {
     "name": "stderr",
     "output_type": "stream",
     "text": [
      "100%|████████████████████████████████████| 1046/1046 [00:00<00:00, 86862.32it/s]"
     ]
    },
    {
     "name": "stdout",
     "output_type": "stream",
     "text": [
      "\n",
      "Genotype distribution:\n",
      "Genotype 0: 97050 (93.72%)\n",
      "Genotype 1: 3735 (3.61%)\n",
      "Genotype 2: 2684 (2.59%)\n",
      "Genotype 9: 85 (0.08%)\n",
      "Processing chromosome 13 for CEU...\n"
     ]
    },
    {
     "name": "stderr",
     "output_type": "stream",
     "text": [
      "\n"
     ]
    },
    {
     "name": "stdout",
     "output_type": "stream",
     "text": [
      "Converting genotypes for 773 variants and 99 samples...\n"
     ]
    },
    {
     "name": "stderr",
     "output_type": "stream",
     "text": [
      "100%|██████████████████████████████████████| 773/773 [00:00<00:00, 86015.89it/s]"
     ]
    },
    {
     "name": "stdout",
     "output_type": "stream",
     "text": [
      "\n",
      "Genotype distribution:\n",
      "Genotype 0: 71811 (93.84%)\n",
      "Genotype 1: 2525 (3.30%)\n",
      "Genotype 2: 2080 (2.72%)\n",
      "Genotype 9: 111 (0.15%)\n",
      "Processing chromosome 14 for CEU...\n"
     ]
    },
    {
     "name": "stderr",
     "output_type": "stream",
     "text": [
      "\n"
     ]
    },
    {
     "name": "stdout",
     "output_type": "stream",
     "text": [
      "Converting genotypes for 667 variants and 99 samples...\n"
     ]
    },
    {
     "name": "stderr",
     "output_type": "stream",
     "text": [
      "100%|██████████████████████████████████████| 667/667 [00:00<00:00, 92626.59it/s]"
     ]
    },
    {
     "name": "stdout",
     "output_type": "stream",
     "text": [
      "\n",
      "Genotype distribution:\n",
      "Genotype 0: 62167 (94.15%)\n",
      "Genotype 1: 2226 (3.37%)\n",
      "Genotype 2: 1473 (2.23%)\n",
      "Genotype 9: 167 (0.25%)\n",
      "Processing chromosome 15 for CEU...\n"
     ]
    },
    {
     "name": "stderr",
     "output_type": "stream",
     "text": [
      "\n"
     ]
    },
    {
     "name": "stdout",
     "output_type": "stream",
     "text": [
      "Converting genotypes for 637 variants and 99 samples...\n"
     ]
    },
    {
     "name": "stderr",
     "output_type": "stream",
     "text": [
      "100%|██████████████████████████████████████| 637/637 [00:00<00:00, 90583.88it/s]"
     ]
    },
    {
     "name": "stdout",
     "output_type": "stream",
     "text": [
      "\n",
      "Genotype distribution:\n",
      "Genotype 0: 60077 (95.27%)\n",
      "Genotype 1: 1974 (3.13%)\n",
      "Genotype 2: 1012 (1.60%)\n",
      "Processing chromosome 16 for CEU...\n"
     ]
    },
    {
     "name": "stderr",
     "output_type": "stream",
     "text": [
      "\n"
     ]
    },
    {
     "name": "stdout",
     "output_type": "stream",
     "text": [
      "Converting genotypes for 835 variants and 99 samples...\n"
     ]
    },
    {
     "name": "stderr",
     "output_type": "stream",
     "text": [
      "100%|██████████████████████████████████████| 835/835 [00:00<00:00, 92439.20it/s]"
     ]
    },
    {
     "name": "stdout",
     "output_type": "stream",
     "text": [
      "\n",
      "Genotype distribution:\n",
      "Genotype 0: 78211 (94.61%)\n",
      "Genotype 1: 2835 (3.43%)\n",
      "Genotype 2: 1588 (1.92%)\n",
      "Genotype 9: 31 (0.04%)\n",
      "Processing chromosome 17 for CEU...\n"
     ]
    },
    {
     "name": "stderr",
     "output_type": "stream",
     "text": [
      "\n"
     ]
    },
    {
     "name": "stdout",
     "output_type": "stream",
     "text": [
      "Converting genotypes for 664 variants and 99 samples...\n"
     ]
    },
    {
     "name": "stderr",
     "output_type": "stream",
     "text": [
      "100%|██████████████████████████████████████| 664/664 [00:00<00:00, 81712.81it/s]"
     ]
    },
    {
     "name": "stdout",
     "output_type": "stream",
     "text": [
      "\n",
      "Genotype distribution:\n",
      "Genotype 0: 55890 (85.02%)\n",
      "Genotype 1: 5112 (7.78%)\n",
      "Genotype 2: 4660 (7.09%)\n",
      "Genotype 9: 74 (0.11%)\n",
      "Processing chromosome 18 for CEU...\n"
     ]
    },
    {
     "name": "stderr",
     "output_type": "stream",
     "text": [
      "\n"
     ]
    },
    {
     "name": "stdout",
     "output_type": "stream",
     "text": [
      "Converting genotypes for 598 variants and 99 samples...\n"
     ]
    },
    {
     "name": "stderr",
     "output_type": "stream",
     "text": [
      "100%|██████████████████████████████████████| 598/598 [00:00<00:00, 84049.12it/s]"
     ]
    },
    {
     "name": "stdout",
     "output_type": "stream",
     "text": [
      "\n",
      "Genotype distribution:\n",
      "Genotype 0: 56613 (95.63%)\n",
      "Genotype 1: 1428 (2.41%)\n",
      "Genotype 2: 1142 (1.93%)\n",
      "Genotype 9: 19 (0.03%)\n",
      "Processing chromosome 19 for CEU...\n",
      "Converting genotypes for 367 variants and 99 samples...\n"
     ]
    },
    {
     "name": "stderr",
     "output_type": "stream",
     "text": [
      "\n",
      "100%|██████████████████████████████████████| 367/367 [00:00<00:00, 75887.87it/s]\n"
     ]
    },
    {
     "name": "stdout",
     "output_type": "stream",
     "text": [
      "\n",
      "Genotype distribution:\n",
      "Genotype 0: 34894 (96.04%)\n",
      "Genotype 1: 963 (2.65%)\n",
      "Genotype 2: 476 (1.31%)\n",
      "Processing chromosome 20 for CEU...\n",
      "Converting genotypes for 571 variants and 99 samples...\n"
     ]
    },
    {
     "name": "stderr",
     "output_type": "stream",
     "text": [
      "100%|██████████████████████████████████████| 571/571 [00:00<00:00, 85692.99it/s]\n"
     ]
    },
    {
     "name": "stdout",
     "output_type": "stream",
     "text": [
      "\n",
      "Genotype distribution:\n",
      "Genotype 0: 53244 (94.19%)\n",
      "Genotype 1: 1929 (3.41%)\n",
      "Genotype 2: 1355 (2.40%)\n",
      "Genotype 9: 1 (0.00%)\n",
      "Processing chromosome 21 for CEU...\n",
      "Converting genotypes for 340 variants and 99 samples...\n"
     ]
    },
    {
     "name": "stderr",
     "output_type": "stream",
     "text": [
      "100%|██████████████████████████████████████| 340/340 [00:00<00:00, 78251.94it/s]\n"
     ]
    },
    {
     "name": "stdout",
     "output_type": "stream",
     "text": [
      "\n",
      "Genotype distribution:\n",
      "Genotype 0: 31933 (94.87%)\n",
      "Genotype 1: 1033 (3.07%)\n",
      "Genotype 2: 650 (1.93%)\n",
      "Genotype 9: 44 (0.13%)\n",
      "Processing chromosome 22 for CEU...\n",
      "Converting genotypes for 286 variants and 99 samples...\n"
     ]
    },
    {
     "name": "stderr",
     "output_type": "stream",
     "text": [
      "100%|██████████████████████████████████████| 286/286 [00:00<00:00, 79378.70it/s]\n"
     ]
    },
    {
     "name": "stdout",
     "output_type": "stream",
     "text": [
      "\n",
      "Genotype distribution:\n",
      "Genotype 0: 26573 (93.85%)\n",
      "Genotype 1: 962 (3.40%)\n",
      "Genotype 2: 691 (2.44%)\n",
      "Genotype 9: 88 (0.31%)\n",
      "\n",
      "Writing genotypes to ../data/1000g/populations/CEU.geno...\n"
     ]
    },
    {
     "name": "stderr",
     "output_type": "stream",
     "text": [
      "100%|██████████████████████████████████| 21664/21664 [00:00<00:00, 45436.04it/s]\n"
     ]
    },
    {
     "name": "stdout",
     "output_type": "stream",
     "text": [
      "\n",
      "Conversion complete for CEU!\n",
      "Files created:\n",
      "1. ../data/1000g/populations/CEU.snp - SNP information (21664 variants)\n",
      "2. ../data/1000g/populations/CEU.ind - Sample information (99 samples)\n",
      "3. ../data/1000g/populations/CEU.geno - Genotype data\n",
      "\n",
      "Final genotype distribution:\n",
      "Genotype 0: 2025404 (94.44%)\n",
      "Genotype 1: 71054 (3.31%)\n",
      "Genotype 2: 46994 (2.19%)\n",
      "Genotype 9: 1284 (0.06%)\n",
      "\n",
      "Processing population: CHB\n",
      "Converting data for population: CHB\n",
      "Found 103 samples for CHB\n",
      "Processing chromosome 1 for CHB...\n",
      "Converting genotypes for 1617 variants and 103 samples...\n"
     ]
    },
    {
     "name": "stderr",
     "output_type": "stream",
     "text": [
      "100%|████████████████████████████████████| 1617/1617 [00:00<00:00, 84329.37it/s]\n"
     ]
    },
    {
     "name": "stdout",
     "output_type": "stream",
     "text": [
      "\n",
      "Genotype distribution:\n",
      "Genotype 0: 156840 (94.17%)\n",
      "Genotype 1: 4818 (2.89%)\n",
      "Genotype 2: 4754 (2.85%)\n",
      "Genotype 9: 139 (0.08%)\n",
      "Processing chromosome 2 for CHB...\n",
      "Converting genotypes for 1786 variants and 103 samples...\n"
     ]
    },
    {
     "name": "stderr",
     "output_type": "stream",
     "text": [
      "100%|████████████████████████████████████| 1786/1786 [00:00<00:00, 87007.84it/s]\n"
     ]
    },
    {
     "name": "stdout",
     "output_type": "stream",
     "text": [
      "\n",
      "Genotype distribution:\n",
      "Genotype 0: 174885 (95.07%)\n",
      "Genotype 1: 5096 (2.77%)\n",
      "Genotype 2: 3699 (2.01%)\n",
      "Genotype 9: 278 (0.15%)\n",
      "Processing chromosome 3 for CHB...\n",
      "Converting genotypes for 1446 variants and 103 samples...\n"
     ]
    },
    {
     "name": "stderr",
     "output_type": "stream",
     "text": [
      "100%|████████████████████████████████████| 1446/1446 [00:00<00:00, 88848.31it/s]\n"
     ]
    },
    {
     "name": "stdout",
     "output_type": "stream",
     "text": [
      "\n",
      "Genotype distribution:\n",
      "Genotype 0: 141676 (95.12%)\n",
      "Genotype 1: 4134 (2.78%)\n",
      "Genotype 2: 3128 (2.10%)\n",
      "Processing chromosome 4 for CHB...\n",
      "Converting genotypes for 1366 variants and 103 samples...\n"
     ]
    },
    {
     "name": "stderr",
     "output_type": "stream",
     "text": [
      "100%|████████████████████████████████████| 1366/1366 [00:00<00:00, 85246.53it/s]\n"
     ]
    },
    {
     "name": "stdout",
     "output_type": "stream",
     "text": [
      "\n",
      "Genotype distribution:\n",
      "Genotype 0: 133614 (94.97%)\n",
      "Genotype 1: 4128 (2.93%)\n",
      "Genotype 2: 2905 (2.06%)\n",
      "Genotype 9: 51 (0.04%)\n",
      "Processing chromosome 5 for CHB...\n",
      "Converting genotypes for 1325 variants and 103 samples...\n"
     ]
    },
    {
     "name": "stderr",
     "output_type": "stream",
     "text": [
      "100%|████████████████████████████████████| 1325/1325 [00:00<00:00, 86313.27it/s]\n"
     ]
    },
    {
     "name": "stdout",
     "output_type": "stream",
     "text": [
      "\n",
      "Genotype distribution:\n",
      "Genotype 0: 129099 (94.60%)\n",
      "Genotype 1: 4332 (3.17%)\n",
      "Genotype 2: 3021 (2.21%)\n",
      "Genotype 9: 23 (0.02%)\n",
      "Processing chromosome 6 for CHB...\n",
      "Converting genotypes for 1423 variants and 103 samples...\n"
     ]
    },
    {
     "name": "stderr",
     "output_type": "stream",
     "text": [
      "100%|████████████████████████████████████| 1423/1423 [00:00<00:00, 86314.78it/s]\n"
     ]
    },
    {
     "name": "stdout",
     "output_type": "stream",
     "text": [
      "\n",
      "Genotype distribution:\n",
      "Genotype 0: 136930 (93.42%)\n",
      "Genotype 1: 5116 (3.49%)\n",
      "Genotype 2: 4522 (3.09%)\n",
      "Genotype 9: 1 (0.00%)\n",
      "Processing chromosome 7 for CHB...\n",
      "Converting genotypes for 1215 variants and 103 samples...\n"
     ]
    },
    {
     "name": "stderr",
     "output_type": "stream",
     "text": [
      "100%|████████████████████████████████████| 1215/1215 [00:00<00:00, 86656.23it/s]\n"
     ]
    },
    {
     "name": "stdout",
     "output_type": "stream",
     "text": [
      "\n",
      "Genotype distribution:\n",
      "Genotype 0: 118534 (94.72%)\n",
      "Genotype 1: 4318 (3.45%)\n",
      "Genotype 2: 2291 (1.83%)\n",
      "Genotype 9: 2 (0.00%)\n",
      "Processing chromosome 8 for CHB...\n",
      "Converting genotypes for 1382 variants and 103 samples...\n"
     ]
    },
    {
     "name": "stderr",
     "output_type": "stream",
     "text": [
      "100%|████████████████████████████████████| 1382/1382 [00:00<00:00, 85865.59it/s]\n"
     ]
    },
    {
     "name": "stdout",
     "output_type": "stream",
     "text": [
      "\n",
      "Genotype distribution:\n",
      "Genotype 0: 135979 (95.53%)\n",
      "Genotype 1: 3750 (2.63%)\n",
      "Genotype 2: 2397 (1.68%)\n",
      "Genotype 9: 220 (0.15%)\n",
      "Processing chromosome 9 for CHB...\n",
      "Converting genotypes for 1038 variants and 103 samples...\n"
     ]
    },
    {
     "name": "stderr",
     "output_type": "stream",
     "text": [
      "100%|████████████████████████████████████| 1038/1038 [00:00<00:00, 82908.43it/s]\n"
     ]
    },
    {
     "name": "stdout",
     "output_type": "stream",
     "text": [
      "\n",
      "Genotype distribution:\n",
      "Genotype 0: 101124 (94.58%)\n",
      "Genotype 1: 3430 (3.21%)\n",
      "Genotype 2: 2276 (2.13%)\n",
      "Genotype 9: 84 (0.08%)\n",
      "Processing chromosome 10 for CHB...\n",
      "Converting genotypes for 1128 variants and 103 samples...\n"
     ]
    },
    {
     "name": "stderr",
     "output_type": "stream",
     "text": [
      "100%|████████████████████████████████████| 1128/1128 [00:00<00:00, 85745.42it/s]"
     ]
    },
    {
     "name": "stdout",
     "output_type": "stream",
     "text": [
      "\n",
      "Genotype distribution:\n",
      "Genotype 0: 110293 (94.93%)\n",
      "Genotype 1: 3162 (2.72%)\n",
      "Genotype 2: 2729 (2.35%)\n",
      "Processing chromosome 11 for CHB...\n"
     ]
    },
    {
     "name": "stderr",
     "output_type": "stream",
     "text": [
      "\n"
     ]
    },
    {
     "name": "stdout",
     "output_type": "stream",
     "text": [
      "Converting genotypes for 1154 variants and 103 samples...\n"
     ]
    },
    {
     "name": "stderr",
     "output_type": "stream",
     "text": [
      "100%|████████████████████████████████████| 1154/1154 [00:00<00:00, 88320.47it/s]"
     ]
    },
    {
     "name": "stdout",
     "output_type": "stream",
     "text": [
      "\n",
      "Genotype distribution:\n",
      "Genotype 0: 113880 (95.81%)\n",
      "Genotype 1: 2900 (2.44%)\n",
      "Genotype 2: 2042 (1.72%)\n",
      "Genotype 9: 40 (0.03%)\n",
      "Processing chromosome 12 for CHB...\n"
     ]
    },
    {
     "name": "stderr",
     "output_type": "stream",
     "text": [
      "\n"
     ]
    },
    {
     "name": "stdout",
     "output_type": "stream",
     "text": [
      "Converting genotypes for 1046 variants and 103 samples...\n"
     ]
    },
    {
     "name": "stderr",
     "output_type": "stream",
     "text": [
      "100%|████████████████████████████████████| 1046/1046 [00:00<00:00, 87655.43it/s]"
     ]
    },
    {
     "name": "stdout",
     "output_type": "stream",
     "text": [
      "\n",
      "Genotype distribution:\n",
      "Genotype 0: 101390 (94.11%)\n",
      "Genotype 1: 3248 (3.01%)\n",
      "Genotype 2: 2955 (2.74%)\n",
      "Genotype 9: 145 (0.13%)\n",
      "Processing chromosome 13 for CHB...\n"
     ]
    },
    {
     "name": "stderr",
     "output_type": "stream",
     "text": [
      "\n"
     ]
    },
    {
     "name": "stdout",
     "output_type": "stream",
     "text": [
      "Converting genotypes for 773 variants and 103 samples...\n"
     ]
    },
    {
     "name": "stderr",
     "output_type": "stream",
     "text": [
      "100%|██████████████████████████████████████| 773/773 [00:00<00:00, 84553.32it/s]"
     ]
    },
    {
     "name": "stdout",
     "output_type": "stream",
     "text": [
      "\n",
      "Genotype distribution:\n",
      "Genotype 0: 74869 (94.03%)\n",
      "Genotype 1: 2473 (3.11%)\n",
      "Genotype 2: 2173 (2.73%)\n",
      "Genotype 9: 104 (0.13%)\n",
      "Processing chromosome 14 for CHB...\n"
     ]
    },
    {
     "name": "stderr",
     "output_type": "stream",
     "text": [
      "\n"
     ]
    },
    {
     "name": "stdout",
     "output_type": "stream",
     "text": [
      "Converting genotypes for 667 variants and 103 samples...\n"
     ]
    },
    {
     "name": "stderr",
     "output_type": "stream",
     "text": [
      "100%|██████████████████████████████████████| 667/667 [00:00<00:00, 88982.21it/s]"
     ]
    },
    {
     "name": "stdout",
     "output_type": "stream",
     "text": [
      "\n",
      "Genotype distribution:\n",
      "Genotype 0: 65078 (94.73%)\n",
      "Genotype 1: 1996 (2.91%)\n",
      "Genotype 2: 1495 (2.18%)\n",
      "Genotype 9: 132 (0.19%)\n",
      "Processing chromosome 15 for CHB...\n"
     ]
    },
    {
     "name": "stderr",
     "output_type": "stream",
     "text": [
      "\n"
     ]
    },
    {
     "name": "stdout",
     "output_type": "stream",
     "text": [
      "Converting genotypes for 637 variants and 103 samples...\n"
     ]
    },
    {
     "name": "stderr",
     "output_type": "stream",
     "text": [
      "100%|██████████████████████████████████████| 637/637 [00:00<00:00, 82429.01it/s]"
     ]
    },
    {
     "name": "stdout",
     "output_type": "stream",
     "text": [
      "\n",
      "Genotype distribution:\n",
      "Genotype 0: 62482 (95.23%)\n",
      "Genotype 1: 1845 (2.81%)\n",
      "Genotype 2: 1284 (1.96%)\n",
      "Processing chromosome 16 for CHB...\n"
     ]
    },
    {
     "name": "stderr",
     "output_type": "stream",
     "text": [
      "\n"
     ]
    },
    {
     "name": "stdout",
     "output_type": "stream",
     "text": [
      "Converting genotypes for 835 variants and 103 samples...\n"
     ]
    },
    {
     "name": "stderr",
     "output_type": "stream",
     "text": [
      "100%|██████████████████████████████████████| 835/835 [00:00<00:00, 88100.11it/s]"
     ]
    },
    {
     "name": "stdout",
     "output_type": "stream",
     "text": [
      "\n",
      "Genotype distribution:\n",
      "Genotype 0: 81298 (94.53%)\n",
      "Genotype 1: 2971 (3.45%)\n",
      "Genotype 2: 1734 (2.02%)\n",
      "Genotype 9: 2 (0.00%)\n",
      "Processing chromosome 17 for CHB...\n"
     ]
    },
    {
     "name": "stderr",
     "output_type": "stream",
     "text": [
      "\n"
     ]
    },
    {
     "name": "stdout",
     "output_type": "stream",
     "text": [
      "Converting genotypes for 664 variants and 103 samples...\n"
     ]
    },
    {
     "name": "stderr",
     "output_type": "stream",
     "text": [
      "100%|██████████████████████████████████████| 664/664 [00:00<00:00, 80671.37it/s]"
     ]
    },
    {
     "name": "stdout",
     "output_type": "stream",
     "text": [
      "\n",
      "Genotype distribution:\n",
      "Genotype 0: 58412 (85.41%)\n",
      "Genotype 1: 5212 (7.62%)\n",
      "Genotype 2: 4649 (6.80%)\n",
      "Genotype 9: 119 (0.17%)\n",
      "Processing chromosome 18 for CHB...\n"
     ]
    },
    {
     "name": "stderr",
     "output_type": "stream",
     "text": [
      "\n"
     ]
    },
    {
     "name": "stdout",
     "output_type": "stream",
     "text": [
      "Converting genotypes for 598 variants and 103 samples...\n"
     ]
    },
    {
     "name": "stderr",
     "output_type": "stream",
     "text": [
      "100%|██████████████████████████████████████| 598/598 [00:00<00:00, 87271.88it/s]"
     ]
    },
    {
     "name": "stdout",
     "output_type": "stream",
     "text": [
      "\n",
      "Genotype distribution:\n",
      "Genotype 0: 58655 (95.23%)\n",
      "Genotype 1: 1629 (2.64%)\n",
      "Genotype 2: 1250 (2.03%)\n",
      "Genotype 9: 60 (0.10%)\n",
      "Processing chromosome 19 for CHB...\n",
      "Converting genotypes for 367 variants and 103 samples...\n"
     ]
    },
    {
     "name": "stderr",
     "output_type": "stream",
     "text": [
      "\n",
      "100%|██████████████████████████████████████| 367/367 [00:00<00:00, 75779.53it/s]\n"
     ]
    },
    {
     "name": "stdout",
     "output_type": "stream",
     "text": [
      "\n",
      "Genotype distribution:\n",
      "Genotype 0: 36230 (95.84%)\n",
      "Genotype 1: 1144 (3.03%)\n",
      "Genotype 2: 427 (1.13%)\n",
      "Processing chromosome 20 for CHB...\n",
      "Converting genotypes for 571 variants and 103 samples...\n"
     ]
    },
    {
     "name": "stderr",
     "output_type": "stream",
     "text": [
      "100%|██████████████████████████████████████| 571/571 [00:00<00:00, 83871.39it/s]"
     ]
    },
    {
     "name": "stdout",
     "output_type": "stream",
     "text": [
      "\n",
      "Genotype distribution:\n",
      "Genotype 0: 55347 (94.11%)\n",
      "Genotype 1: 1969 (3.35%)\n",
      "Genotype 2: 1497 (2.55%)\n",
      "Processing chromosome 21 for CHB...\n"
     ]
    },
    {
     "name": "stderr",
     "output_type": "stream",
     "text": [
      "\n"
     ]
    },
    {
     "name": "stdout",
     "output_type": "stream",
     "text": [
      "Converting genotypes for 340 variants and 103 samples...\n"
     ]
    },
    {
     "name": "stderr",
     "output_type": "stream",
     "text": [
      "100%|██████████████████████████████████████| 340/340 [00:00<00:00, 83910.76it/s]"
     ]
    },
    {
     "name": "stdout",
     "output_type": "stream",
     "text": [
      "\n",
      "Genotype distribution:\n",
      "Genotype 0: 33415 (95.42%)\n",
      "Genotype 1: 1028 (2.94%)\n",
      "Genotype 2: 566 (1.62%)\n",
      "Genotype 9: 11 (0.03%)\n",
      "Processing chromosome 22 for CHB...\n"
     ]
    },
    {
     "name": "stderr",
     "output_type": "stream",
     "text": [
      "\n"
     ]
    },
    {
     "name": "stdout",
     "output_type": "stream",
     "text": [
      "Converting genotypes for 286 variants and 103 samples...\n"
     ]
    },
    {
     "name": "stderr",
     "output_type": "stream",
     "text": [
      "100%|██████████████████████████████████████| 286/286 [00:00<00:00, 80562.19it/s]\n"
     ]
    },
    {
     "name": "stdout",
     "output_type": "stream",
     "text": [
      "\n",
      "Genotype distribution:\n",
      "Genotype 0: 27859 (94.57%)\n",
      "Genotype 1: 837 (2.84%)\n",
      "Genotype 2: 713 (2.42%)\n",
      "Genotype 9: 49 (0.17%)\n",
      "\n",
      "Writing genotypes to ../data/1000g/populations/CHB.geno...\n"
     ]
    },
    {
     "name": "stderr",
     "output_type": "stream",
     "text": [
      "100%|██████████████████████████████████| 21664/21664 [00:00<00:00, 44079.57it/s]\n"
     ]
    },
    {
     "name": "stdout",
     "output_type": "stream",
     "text": [
      "\n",
      "Conversion complete for CHB!\n",
      "Files created:\n",
      "1. ../data/1000g/populations/CHB.snp - SNP information (21664 variants)\n",
      "2. ../data/1000g/populations/CHB.ind - Sample information (103 samples)\n",
      "3. ../data/1000g/populations/CHB.geno - Genotype data\n",
      "\n",
      "Final genotype distribution:\n",
      "Genotype 0: 2107889 (94.47%)\n",
      "Genotype 1: 69536 (3.12%)\n",
      "Genotype 2: 52507 (2.35%)\n",
      "Genotype 9: 1460 (0.07%)\n",
      "\n",
      "Processing population: JPT\n",
      "Converting data for population: JPT\n",
      "Found 104 samples for JPT\n",
      "Processing chromosome 1 for JPT...\n",
      "Converting genotypes for 1617 variants and 104 samples...\n"
     ]
    },
    {
     "name": "stderr",
     "output_type": "stream",
     "text": [
      "100%|████████████████████████████████████| 1617/1617 [00:00<00:00, 85101.82it/s]\n"
     ]
    },
    {
     "name": "stdout",
     "output_type": "stream",
     "text": [
      "\n",
      "Genotype distribution:\n",
      "Genotype 0: 158456 (94.22%)\n",
      "Genotype 1: 4802 (2.86%)\n",
      "Genotype 2: 4763 (2.83%)\n",
      "Genotype 9: 147 (0.09%)\n",
      "Processing chromosome 2 for JPT...\n",
      "Converting genotypes for 1786 variants and 104 samples...\n"
     ]
    },
    {
     "name": "stderr",
     "output_type": "stream",
     "text": [
      "100%|████████████████████████████████████| 1786/1786 [00:00<00:00, 87515.06it/s]\n"
     ]
    },
    {
     "name": "stdout",
     "output_type": "stream",
     "text": [
      "\n",
      "Genotype distribution:\n",
      "Genotype 0: 176541 (95.05%)\n",
      "Genotype 1: 5147 (2.77%)\n",
      "Genotype 2: 3768 (2.03%)\n",
      "Genotype 9: 288 (0.16%)\n",
      "Processing chromosome 3 for JPT...\n",
      "Converting genotypes for 1446 variants and 104 samples...\n"
     ]
    },
    {
     "name": "stderr",
     "output_type": "stream",
     "text": [
      "100%|████████████████████████████████████| 1446/1446 [00:00<00:00, 82760.85it/s]\n"
     ]
    },
    {
     "name": "stdout",
     "output_type": "stream",
     "text": [
      "\n",
      "Genotype distribution:\n",
      "Genotype 0: 142893 (95.02%)\n",
      "Genotype 1: 4101 (2.73%)\n",
      "Genotype 2: 3390 (2.25%)\n",
      "Processing chromosome 4 for JPT...\n",
      "Converting genotypes for 1366 variants and 104 samples...\n"
     ]
    },
    {
     "name": "stderr",
     "output_type": "stream",
     "text": [
      "100%|████████████████████████████████████| 1366/1366 [00:00<00:00, 85604.44it/s]\n"
     ]
    },
    {
     "name": "stdout",
     "output_type": "stream",
     "text": [
      "\n",
      "Genotype distribution:\n",
      "Genotype 0: 134878 (94.94%)\n",
      "Genotype 1: 4180 (2.94%)\n",
      "Genotype 2: 2959 (2.08%)\n",
      "Genotype 9: 47 (0.03%)\n",
      "Processing chromosome 5 for JPT...\n",
      "Converting genotypes for 1325 variants and 104 samples...\n"
     ]
    },
    {
     "name": "stderr",
     "output_type": "stream",
     "text": [
      "100%|████████████████████████████████████| 1325/1325 [00:00<00:00, 86039.34it/s]\n"
     ]
    },
    {
     "name": "stdout",
     "output_type": "stream",
     "text": [
      "\n",
      "Genotype distribution:\n",
      "Genotype 0: 130196 (94.48%)\n",
      "Genotype 1: 4358 (3.16%)\n",
      "Genotype 2: 3214 (2.33%)\n",
      "Genotype 9: 32 (0.02%)\n",
      "Processing chromosome 6 for JPT...\n",
      "Converting genotypes for 1423 variants and 104 samples...\n"
     ]
    },
    {
     "name": "stderr",
     "output_type": "stream",
     "text": [
      "100%|████████████████████████████████████| 1423/1423 [00:00<00:00, 84425.98it/s]\n"
     ]
    },
    {
     "name": "stdout",
     "output_type": "stream",
     "text": [
      "\n",
      "Genotype distribution:\n",
      "Genotype 0: 138460 (93.56%)\n",
      "Genotype 1: 5004 (3.38%)\n",
      "Genotype 2: 4524 (3.06%)\n",
      "Genotype 9: 4 (0.00%)\n",
      "Processing chromosome 7 for JPT...\n",
      "Converting genotypes for 1215 variants and 104 samples...\n"
     ]
    },
    {
     "name": "stderr",
     "output_type": "stream",
     "text": [
      "100%|████████████████████████████████████| 1215/1215 [00:00<00:00, 86195.99it/s]\n"
     ]
    },
    {
     "name": "stdout",
     "output_type": "stream",
     "text": [
      "\n",
      "Genotype distribution:\n",
      "Genotype 0: 119574 (94.63%)\n",
      "Genotype 1: 4358 (3.45%)\n",
      "Genotype 2: 2426 (1.92%)\n",
      "Genotype 9: 2 (0.00%)\n",
      "Processing chromosome 8 for JPT...\n",
      "Converting genotypes for 1382 variants and 104 samples...\n"
     ]
    },
    {
     "name": "stderr",
     "output_type": "stream",
     "text": [
      "100%|████████████████████████████████████| 1382/1382 [00:00<00:00, 85630.92it/s]\n"
     ]
    },
    {
     "name": "stdout",
     "output_type": "stream",
     "text": [
      "\n",
      "Genotype distribution:\n",
      "Genotype 0: 137114 (95.40%)\n",
      "Genotype 1: 3873 (2.69%)\n",
      "Genotype 2: 2509 (1.75%)\n",
      "Genotype 9: 232 (0.16%)\n",
      "Processing chromosome 9 for JPT...\n",
      "Converting genotypes for 1038 variants and 104 samples...\n"
     ]
    },
    {
     "name": "stderr",
     "output_type": "stream",
     "text": [
      "100%|████████████████████████████████████| 1038/1038 [00:00<00:00, 81957.94it/s]"
     ]
    },
    {
     "name": "stdout",
     "output_type": "stream",
     "text": [
      "\n",
      "Genotype distribution:\n",
      "Genotype 0: 102141 (94.62%)\n",
      "Genotype 1: 3519 (3.26%)\n",
      "Genotype 2: 2238 (2.07%)\n",
      "Genotype 9: 54 (0.05%)\n",
      "Processing chromosome 10 for JPT...\n"
     ]
    },
    {
     "name": "stderr",
     "output_type": "stream",
     "text": [
      "\n"
     ]
    },
    {
     "name": "stdout",
     "output_type": "stream",
     "text": [
      "Converting genotypes for 1128 variants and 104 samples...\n"
     ]
    },
    {
     "name": "stderr",
     "output_type": "stream",
     "text": [
      "100%|████████████████████████████████████| 1128/1128 [00:00<00:00, 87625.71it/s]"
     ]
    },
    {
     "name": "stdout",
     "output_type": "stream",
     "text": [
      "\n",
      "Genotype distribution:\n",
      "Genotype 0: 111326 (94.90%)\n",
      "Genotype 1: 3233 (2.76%)\n",
      "Genotype 2: 2753 (2.35%)\n",
      "Processing chromosome 11 for JPT...\n"
     ]
    },
    {
     "name": "stderr",
     "output_type": "stream",
     "text": [
      "\n"
     ]
    },
    {
     "name": "stdout",
     "output_type": "stream",
     "text": [
      "Converting genotypes for 1154 variants and 104 samples...\n"
     ]
    },
    {
     "name": "stderr",
     "output_type": "stream",
     "text": [
      "100%|████████████████████████████████████| 1154/1154 [00:00<00:00, 84777.94it/s]"
     ]
    },
    {
     "name": "stdout",
     "output_type": "stream",
     "text": [
      "\n",
      "Genotype distribution:\n",
      "Genotype 0: 114906 (95.74%)\n",
      "Genotype 1: 2970 (2.47%)\n",
      "Genotype 2: 2109 (1.76%)\n",
      "Genotype 9: 31 (0.03%)\n",
      "Processing chromosome 12 for JPT...\n"
     ]
    },
    {
     "name": "stderr",
     "output_type": "stream",
     "text": [
      "\n"
     ]
    },
    {
     "name": "stdout",
     "output_type": "stream",
     "text": [
      "Converting genotypes for 1046 variants and 104 samples...\n"
     ]
    },
    {
     "name": "stderr",
     "output_type": "stream",
     "text": [
      "100%|████████████████████████████████████| 1046/1046 [00:00<00:00, 83407.64it/s]"
     ]
    },
    {
     "name": "stdout",
     "output_type": "stream",
     "text": [
      "\n",
      "Genotype distribution:\n",
      "Genotype 0: 102469 (94.19%)\n",
      "Genotype 1: 3211 (2.95%)\n",
      "Genotype 2: 2978 (2.74%)\n",
      "Genotype 9: 126 (0.12%)\n",
      "Processing chromosome 13 for JPT...\n"
     ]
    },
    {
     "name": "stderr",
     "output_type": "stream",
     "text": [
      "\n"
     ]
    },
    {
     "name": "stdout",
     "output_type": "stream",
     "text": [
      "Converting genotypes for 773 variants and 104 samples...\n"
     ]
    },
    {
     "name": "stderr",
     "output_type": "stream",
     "text": [
      "100%|██████████████████████████████████████| 773/773 [00:00<00:00, 79346.98it/s]"
     ]
    },
    {
     "name": "stdout",
     "output_type": "stream",
     "text": [
      "\n",
      "Genotype distribution:\n",
      "Genotype 0: 75528 (93.95%)\n",
      "Genotype 1: 2572 (3.20%)\n",
      "Genotype 2: 2207 (2.75%)\n",
      "Genotype 9: 85 (0.11%)\n",
      "Processing chromosome 14 for JPT...\n"
     ]
    },
    {
     "name": "stderr",
     "output_type": "stream",
     "text": [
      "\n"
     ]
    },
    {
     "name": "stdout",
     "output_type": "stream",
     "text": [
      "Converting genotypes for 667 variants and 104 samples...\n"
     ]
    },
    {
     "name": "stderr",
     "output_type": "stream",
     "text": [
      "100%|██████████████████████████████████████| 667/667 [00:00<00:00, 87017.13it/s]"
     ]
    },
    {
     "name": "stdout",
     "output_type": "stream",
     "text": [
      "\n",
      "Genotype distribution:\n",
      "Genotype 0: 65781 (94.83%)\n",
      "Genotype 1: 1934 (2.79%)\n",
      "Genotype 2: 1537 (2.22%)\n",
      "Genotype 9: 116 (0.17%)\n",
      "Processing chromosome 15 for JPT...\n"
     ]
    },
    {
     "name": "stderr",
     "output_type": "stream",
     "text": [
      "\n"
     ]
    },
    {
     "name": "stdout",
     "output_type": "stream",
     "text": [
      "Converting genotypes for 637 variants and 104 samples...\n"
     ]
    },
    {
     "name": "stderr",
     "output_type": "stream",
     "text": [
      "100%|██████████████████████████████████████| 637/637 [00:00<00:00, 87838.11it/s]"
     ]
    },
    {
     "name": "stdout",
     "output_type": "stream",
     "text": [
      "\n",
      "Genotype distribution:\n",
      "Genotype 0: 63085 (95.23%)\n",
      "Genotype 1: 1854 (2.80%)\n",
      "Genotype 2: 1309 (1.98%)\n",
      "Processing chromosome 16 for JPT...\n"
     ]
    },
    {
     "name": "stderr",
     "output_type": "stream",
     "text": [
      "\n"
     ]
    },
    {
     "name": "stdout",
     "output_type": "stream",
     "text": [
      "Converting genotypes for 835 variants and 104 samples...\n"
     ]
    },
    {
     "name": "stderr",
     "output_type": "stream",
     "text": [
      "100%|██████████████████████████████████████| 835/835 [00:00<00:00, 83516.01it/s]"
     ]
    },
    {
     "name": "stdout",
     "output_type": "stream",
     "text": [
      "\n",
      "Genotype distribution:\n",
      "Genotype 0: 82137 (94.58%)\n",
      "Genotype 1: 2915 (3.36%)\n",
      "Genotype 2: 1783 (2.05%)\n",
      "Genotype 9: 5 (0.01%)\n",
      "Processing chromosome 17 for JPT...\n"
     ]
    },
    {
     "name": "stderr",
     "output_type": "stream",
     "text": [
      "\n"
     ]
    },
    {
     "name": "stdout",
     "output_type": "stream",
     "text": [
      "Converting genotypes for 664 variants and 104 samples...\n"
     ]
    },
    {
     "name": "stderr",
     "output_type": "stream",
     "text": [
      "100%|██████████████████████████████████████| 664/664 [00:00<00:00, 81063.51it/s]"
     ]
    },
    {
     "name": "stdout",
     "output_type": "stream",
     "text": [
      "\n",
      "Genotype distribution:\n",
      "Genotype 0: 58966 (85.39%)\n",
      "Genotype 1: 4668 (6.76%)\n",
      "Genotype 2: 5308 (7.69%)\n",
      "Genotype 9: 114 (0.17%)\n",
      "Processing chromosome 18 for JPT...\n"
     ]
    },
    {
     "name": "stderr",
     "output_type": "stream",
     "text": [
      "\n"
     ]
    },
    {
     "name": "stdout",
     "output_type": "stream",
     "text": [
      "Converting genotypes for 598 variants and 104 samples...\n"
     ]
    },
    {
     "name": "stderr",
     "output_type": "stream",
     "text": [
      "100%|██████████████████████████████████████| 598/598 [00:00<00:00, 87821.91it/s]\n"
     ]
    },
    {
     "name": "stdout",
     "output_type": "stream",
     "text": [
      "\n",
      "Genotype distribution:\n",
      "Genotype 0: 59164 (95.13%)\n",
      "Genotype 1: 1671 (2.69%)\n",
      "Genotype 2: 1289 (2.07%)\n",
      "Genotype 9: 68 (0.11%)\n",
      "Processing chromosome 19 for JPT...\n",
      "Converting genotypes for 367 variants and 104 samples...\n"
     ]
    },
    {
     "name": "stderr",
     "output_type": "stream",
     "text": [
      "100%|██████████████████████████████████████| 367/367 [00:00<00:00, 79674.41it/s]\n"
     ]
    },
    {
     "name": "stdout",
     "output_type": "stream",
     "text": [
      "\n",
      "Genotype distribution:\n",
      "Genotype 0: 36609 (95.92%)\n",
      "Genotype 1: 1109 (2.91%)\n",
      "Genotype 2: 450 (1.18%)\n",
      "Processing chromosome 20 for JPT...\n",
      "Converting genotypes for 571 variants and 104 samples...\n"
     ]
    },
    {
     "name": "stderr",
     "output_type": "stream",
     "text": [
      "100%|██████████████████████████████████████| 571/571 [00:00<00:00, 80580.99it/s]"
     ]
    },
    {
     "name": "stdout",
     "output_type": "stream",
     "text": [
      "\n",
      "Genotype distribution:\n",
      "Genotype 0: 55764 (93.90%)\n",
      "Genotype 1: 2071 (3.49%)\n",
      "Genotype 2: 1549 (2.61%)\n",
      "Processing chromosome 21 for JPT...\n"
     ]
    },
    {
     "name": "stderr",
     "output_type": "stream",
     "text": [
      "\n"
     ]
    },
    {
     "name": "stdout",
     "output_type": "stream",
     "text": [
      "Converting genotypes for 340 variants and 104 samples...\n"
     ]
    },
    {
     "name": "stderr",
     "output_type": "stream",
     "text": [
      "100%|██████████████████████████████████████| 340/340 [00:00<00:00, 81872.97it/s]"
     ]
    },
    {
     "name": "stdout",
     "output_type": "stream",
     "text": [
      "\n",
      "Genotype distribution:\n",
      "Genotype 0: 33756 (95.46%)\n",
      "Genotype 1: 1080 (3.05%)\n",
      "Genotype 2: 519 (1.47%)\n",
      "Genotype 9: 5 (0.01%)\n",
      "Processing chromosome 22 for JPT...\n"
     ]
    },
    {
     "name": "stderr",
     "output_type": "stream",
     "text": [
      "\n"
     ]
    },
    {
     "name": "stdout",
     "output_type": "stream",
     "text": [
      "Converting genotypes for 286 variants and 104 samples...\n"
     ]
    },
    {
     "name": "stderr",
     "output_type": "stream",
     "text": [
      "100%|██████████████████████████████████████| 286/286 [00:00<00:00, 82615.08it/s]\n"
     ]
    },
    {
     "name": "stdout",
     "output_type": "stream",
     "text": [
      "\n",
      "Genotype distribution:\n",
      "Genotype 0: 28163 (94.68%)\n",
      "Genotype 1: 836 (2.81%)\n",
      "Genotype 2: 705 (2.37%)\n",
      "Genotype 9: 40 (0.13%)\n",
      "\n",
      "Writing genotypes to ../data/1000g/populations/JPT.geno...\n"
     ]
    },
    {
     "name": "stderr",
     "output_type": "stream",
     "text": [
      "100%|██████████████████████████████████| 21664/21664 [00:00<00:00, 42836.91it/s]\n"
     ]
    },
    {
     "name": "stdout",
     "output_type": "stream",
     "text": [
      "\n",
      "Conversion complete for JPT!\n",
      "Files created:\n",
      "1. ../data/1000g/populations/JPT.snp - SNP information (21664 variants)\n",
      "2. ../data/1000g/populations/JPT.ind - Sample information (104 samples)\n",
      "3. ../data/1000g/populations/JPT.geno - Genotype data\n",
      "\n",
      "Final genotype distribution:\n",
      "Genotype 0: 2127907 (94.45%)\n",
      "Genotype 1: 69466 (3.08%)\n",
      "Genotype 2: 54287 (2.41%)\n",
      "Genotype 9: 1396 (0.06%)\n",
      "\n",
      "Processing population: LWK\n",
      "Converting data for population: LWK\n",
      "Found 99 samples for LWK\n",
      "Processing chromosome 1 for LWK...\n",
      "Converting genotypes for 1617 variants and 99 samples...\n"
     ]
    },
    {
     "name": "stderr",
     "output_type": "stream",
     "text": [
      "100%|████████████████████████████████████| 1617/1617 [00:00<00:00, 89322.78it/s]\n"
     ]
    },
    {
     "name": "stdout",
     "output_type": "stream",
     "text": [
      "\n",
      "Genotype distribution:\n",
      "Genotype 0: 149453 (93.36%)\n",
      "Genotype 1: 6622 (4.14%)\n",
      "Genotype 2: 3941 (2.46%)\n",
      "Genotype 9: 67 (0.04%)\n",
      "Processing chromosome 2 for LWK...\n",
      "Converting genotypes for 1786 variants and 99 samples...\n"
     ]
    },
    {
     "name": "stderr",
     "output_type": "stream",
     "text": [
      "100%|████████████████████████████████████| 1786/1786 [00:00<00:00, 92842.87it/s]\n"
     ]
    },
    {
     "name": "stdout",
     "output_type": "stream",
     "text": [
      "\n",
      "Genotype distribution:\n",
      "Genotype 0: 165684 (93.71%)\n",
      "Genotype 1: 7296 (4.13%)\n",
      "Genotype 2: 3670 (2.08%)\n",
      "Genotype 9: 164 (0.09%)\n",
      "Processing chromosome 3 for LWK...\n",
      "Converting genotypes for 1446 variants and 99 samples...\n"
     ]
    },
    {
     "name": "stderr",
     "output_type": "stream",
     "text": [
      "100%|████████████████████████████████████| 1446/1446 [00:00<00:00, 90669.35it/s]\n"
     ]
    },
    {
     "name": "stdout",
     "output_type": "stream",
     "text": [
      "\n",
      "Genotype distribution:\n",
      "Genotype 0: 134142 (93.70%)\n",
      "Genotype 1: 5881 (4.11%)\n",
      "Genotype 2: 3108 (2.17%)\n",
      "Genotype 9: 23 (0.02%)\n",
      "Processing chromosome 4 for LWK...\n",
      "Converting genotypes for 1366 variants and 99 samples...\n"
     ]
    },
    {
     "name": "stderr",
     "output_type": "stream",
     "text": [
      "100%|████████████████████████████████████| 1366/1366 [00:00<00:00, 89417.39it/s]\n"
     ]
    },
    {
     "name": "stdout",
     "output_type": "stream",
     "text": [
      "\n",
      "Genotype distribution:\n",
      "Genotype 0: 127193 (94.05%)\n",
      "Genotype 1: 5595 (4.14%)\n",
      "Genotype 2: 2359 (1.74%)\n",
      "Genotype 9: 87 (0.06%)\n",
      "Processing chromosome 5 for LWK...\n",
      "Converting genotypes for 1325 variants and 99 samples...\n"
     ]
    },
    {
     "name": "stderr",
     "output_type": "stream",
     "text": [
      "100%|████████████████████████████████████| 1325/1325 [00:00<00:00, 90591.93it/s]\n"
     ]
    },
    {
     "name": "stdout",
     "output_type": "stream",
     "text": [
      "\n",
      "Genotype distribution:\n",
      "Genotype 0: 122140 (93.11%)\n",
      "Genotype 1: 5940 (4.53%)\n",
      "Genotype 2: 3020 (2.30%)\n",
      "Genotype 9: 75 (0.06%)\n",
      "Processing chromosome 6 for LWK...\n",
      "Converting genotypes for 1423 variants and 99 samples...\n"
     ]
    },
    {
     "name": "stderr",
     "output_type": "stream",
     "text": [
      "100%|████████████████████████████████████| 1423/1423 [00:00<00:00, 91866.81it/s]\n"
     ]
    },
    {
     "name": "stdout",
     "output_type": "stream",
     "text": [
      "\n",
      "Genotype distribution:\n",
      "Genotype 0: 130775 (92.83%)\n",
      "Genotype 1: 6122 (4.35%)\n",
      "Genotype 2: 3897 (2.77%)\n",
      "Genotype 9: 83 (0.06%)\n",
      "Processing chromosome 7 for LWK...\n",
      "Converting genotypes for 1215 variants and 99 samples...\n"
     ]
    },
    {
     "name": "stderr",
     "output_type": "stream",
     "text": [
      "100%|████████████████████████████████████| 1215/1215 [00:00<00:00, 87922.56it/s]\n"
     ]
    },
    {
     "name": "stdout",
     "output_type": "stream",
     "text": [
      "\n",
      "Genotype distribution:\n",
      "Genotype 0: 112634 (93.64%)\n",
      "Genotype 1: 5337 (4.44%)\n",
      "Genotype 2: 2235 (1.86%)\n",
      "Genotype 9: 79 (0.07%)\n",
      "Processing chromosome 8 for LWK...\n",
      "Converting genotypes for 1382 variants and 99 samples...\n"
     ]
    },
    {
     "name": "stderr",
     "output_type": "stream",
     "text": [
      "100%|████████████████████████████████████| 1382/1382 [00:00<00:00, 88499.31it/s]"
     ]
    },
    {
     "name": "stdout",
     "output_type": "stream",
     "text": [
      "\n",
      "Genotype distribution:\n",
      "Genotype 0: 129612 (94.73%)\n",
      "Genotype 1: 4843 (3.54%)\n",
      "Genotype 2: 2167 (1.58%)\n",
      "Genotype 9: 196 (0.14%)\n"
     ]
    },
    {
     "name": "stderr",
     "output_type": "stream",
     "text": [
      "\n"
     ]
    },
    {
     "name": "stdout",
     "output_type": "stream",
     "text": [
      "Processing chromosome 9 for LWK...\n",
      "Converting genotypes for 1038 variants and 99 samples...\n"
     ]
    },
    {
     "name": "stderr",
     "output_type": "stream",
     "text": [
      "100%|████████████████████████████████████| 1038/1038 [00:00<00:00, 87829.08it/s]"
     ]
    },
    {
     "name": "stdout",
     "output_type": "stream",
     "text": [
      "\n",
      "Genotype distribution:\n",
      "Genotype 0: 96362 (93.77%)\n",
      "Genotype 1: 4518 (4.40%)\n",
      "Genotype 2: 1805 (1.76%)\n",
      "Genotype 9: 77 (0.07%)\n",
      "Processing chromosome 10 for LWK...\n"
     ]
    },
    {
     "name": "stderr",
     "output_type": "stream",
     "text": [
      "\n"
     ]
    },
    {
     "name": "stdout",
     "output_type": "stream",
     "text": [
      "Converting genotypes for 1128 variants and 99 samples...\n"
     ]
    },
    {
     "name": "stderr",
     "output_type": "stream",
     "text": [
      "100%|████████████████████████████████████| 1128/1128 [00:00<00:00, 88352.26it/s]"
     ]
    },
    {
     "name": "stdout",
     "output_type": "stream",
     "text": [
      "\n",
      "Genotype distribution:\n",
      "Genotype 0: 104857 (93.90%)\n",
      "Genotype 1: 4453 (3.99%)\n",
      "Genotype 2: 2362 (2.12%)\n",
      "Processing chromosome 11 for LWK...\n"
     ]
    },
    {
     "name": "stderr",
     "output_type": "stream",
     "text": [
      "\n"
     ]
    },
    {
     "name": "stdout",
     "output_type": "stream",
     "text": [
      "Converting genotypes for 1154 variants and 99 samples...\n"
     ]
    },
    {
     "name": "stderr",
     "output_type": "stream",
     "text": [
      "100%|████████████████████████████████████| 1154/1154 [00:00<00:00, 91893.74it/s]"
     ]
    },
    {
     "name": "stdout",
     "output_type": "stream",
     "text": [
      "\n",
      "Genotype distribution:\n",
      "Genotype 0: 107998 (94.53%)\n",
      "Genotype 1: 4030 (3.53%)\n",
      "Genotype 2: 2175 (1.90%)\n",
      "Genotype 9: 43 (0.04%)\n",
      "Processing chromosome 12 for LWK...\n"
     ]
    },
    {
     "name": "stderr",
     "output_type": "stream",
     "text": [
      "\n"
     ]
    },
    {
     "name": "stdout",
     "output_type": "stream",
     "text": [
      "Converting genotypes for 1046 variants and 99 samples...\n"
     ]
    },
    {
     "name": "stderr",
     "output_type": "stream",
     "text": [
      "100%|████████████████████████████████████| 1046/1046 [00:00<00:00, 92688.86it/s]"
     ]
    },
    {
     "name": "stdout",
     "output_type": "stream",
     "text": [
      "\n",
      "Genotype distribution:\n",
      "Genotype 0: 96625 (93.31%)\n",
      "Genotype 1: 4425 (4.27%)\n",
      "Genotype 2: 2291 (2.21%)\n",
      "Genotype 9: 213 (0.21%)\n",
      "Processing chromosome 13 for LWK...\n"
     ]
    },
    {
     "name": "stderr",
     "output_type": "stream",
     "text": [
      "\n"
     ]
    },
    {
     "name": "stdout",
     "output_type": "stream",
     "text": [
      "Converting genotypes for 773 variants and 99 samples...\n"
     ]
    },
    {
     "name": "stderr",
     "output_type": "stream",
     "text": [
      "100%|██████████████████████████████████████| 773/773 [00:00<00:00, 87812.06it/s]"
     ]
    },
    {
     "name": "stdout",
     "output_type": "stream",
     "text": [
      "\n",
      "Genotype distribution:\n",
      "Genotype 0: 71633 (93.60%)\n",
      "Genotype 1: 3042 (3.98%)\n",
      "Genotype 2: 1783 (2.33%)\n",
      "Genotype 9: 69 (0.09%)\n",
      "Processing chromosome 14 for LWK...\n"
     ]
    },
    {
     "name": "stderr",
     "output_type": "stream",
     "text": [
      "\n"
     ]
    },
    {
     "name": "stdout",
     "output_type": "stream",
     "text": [
      "Converting genotypes for 667 variants and 99 samples...\n"
     ]
    },
    {
     "name": "stderr",
     "output_type": "stream",
     "text": [
      "100%|██████████████████████████████████████| 667/667 [00:00<00:00, 85139.56it/s]"
     ]
    },
    {
     "name": "stdout",
     "output_type": "stream",
     "text": [
      "\n",
      "Genotype distribution:\n",
      "Genotype 0: 61356 (92.92%)\n",
      "Genotype 1: 3037 (4.60%)\n",
      "Genotype 2: 1493 (2.26%)\n",
      "Genotype 9: 147 (0.22%)\n",
      "Processing chromosome 15 for LWK...\n"
     ]
    },
    {
     "name": "stderr",
     "output_type": "stream",
     "text": [
      "\n"
     ]
    },
    {
     "name": "stdout",
     "output_type": "stream",
     "text": [
      "Converting genotypes for 637 variants and 99 samples...\n"
     ]
    },
    {
     "name": "stderr",
     "output_type": "stream",
     "text": [
      "100%|██████████████████████████████████████| 637/637 [00:00<00:00, 86358.90it/s]"
     ]
    },
    {
     "name": "stdout",
     "output_type": "stream",
     "text": [
      "\n",
      "Genotype distribution:\n",
      "Genotype 0: 59474 (94.31%)\n",
      "Genotype 1: 2335 (3.70%)\n",
      "Genotype 2: 1254 (1.99%)\n",
      "Processing chromosome 16 for LWK...\n"
     ]
    },
    {
     "name": "stderr",
     "output_type": "stream",
     "text": [
      "\n"
     ]
    },
    {
     "name": "stdout",
     "output_type": "stream",
     "text": [
      "Converting genotypes for 835 variants and 99 samples...\n"
     ]
    },
    {
     "name": "stderr",
     "output_type": "stream",
     "text": [
      "100%|██████████████████████████████████████| 835/835 [00:00<00:00, 90027.35it/s]"
     ]
    },
    {
     "name": "stdout",
     "output_type": "stream",
     "text": [
      "\n",
      "Genotype distribution:\n",
      "Genotype 0: 76944 (93.08%)\n",
      "Genotype 1: 3810 (4.61%)\n",
      "Genotype 2: 1873 (2.27%)\n",
      "Genotype 9: 38 (0.05%)\n",
      "Processing chromosome 17 for LWK...\n"
     ]
    },
    {
     "name": "stderr",
     "output_type": "stream",
     "text": [
      "\n"
     ]
    },
    {
     "name": "stdout",
     "output_type": "stream",
     "text": [
      "Converting genotypes for 664 variants and 99 samples...\n"
     ]
    },
    {
     "name": "stderr",
     "output_type": "stream",
     "text": [
      "100%|██████████████████████████████████████| 664/664 [00:00<00:00, 84512.29it/s]"
     ]
    },
    {
     "name": "stdout",
     "output_type": "stream",
     "text": [
      "\n",
      "Genotype distribution:\n",
      "Genotype 0: 56117 (85.37%)\n",
      "Genotype 1: 5824 (8.86%)\n",
      "Genotype 2: 3739 (5.69%)\n",
      "Genotype 9: 56 (0.09%)\n",
      "Processing chromosome 18 for LWK...\n"
     ]
    },
    {
     "name": "stderr",
     "output_type": "stream",
     "text": [
      "\n"
     ]
    },
    {
     "name": "stdout",
     "output_type": "stream",
     "text": [
      "Converting genotypes for 598 variants and 99 samples...\n"
     ]
    },
    {
     "name": "stderr",
     "output_type": "stream",
     "text": [
      "100%|██████████████████████████████████████| 598/598 [00:00<00:00, 85246.02it/s]"
     ]
    },
    {
     "name": "stdout",
     "output_type": "stream",
     "text": [
      "\n",
      "Genotype distribution:\n",
      "Genotype 0: 56248 (95.01%)\n",
      "Genotype 1: 1857 (3.14%)\n",
      "Genotype 2: 1062 (1.79%)\n",
      "Genotype 9: 35 (0.06%)\n",
      "Processing chromosome 19 for LWK...\n"
     ]
    },
    {
     "name": "stderr",
     "output_type": "stream",
     "text": [
      "\n"
     ]
    },
    {
     "name": "stdout",
     "output_type": "stream",
     "text": [
      "Converting genotypes for 367 variants and 99 samples...\n"
     ]
    },
    {
     "name": "stderr",
     "output_type": "stream",
     "text": [
      "100%|██████████████████████████████████████| 367/367 [00:00<00:00, 79349.94it/s]"
     ]
    },
    {
     "name": "stdout",
     "output_type": "stream",
     "text": [
      "\n",
      "Genotype distribution:\n",
      "Genotype 0: 34604 (95.24%)\n",
      "Genotype 1: 1220 (3.36%)\n",
      "Genotype 2: 509 (1.40%)\n",
      "Processing chromosome 20 for LWK...\n"
     ]
    },
    {
     "name": "stderr",
     "output_type": "stream",
     "text": [
      "\n"
     ]
    },
    {
     "name": "stdout",
     "output_type": "stream",
     "text": [
      "Converting genotypes for 571 variants and 99 samples...\n"
     ]
    },
    {
     "name": "stderr",
     "output_type": "stream",
     "text": [
      "100%|██████████████████████████████████████| 571/571 [00:00<00:00, 82873.03it/s]\n"
     ]
    },
    {
     "name": "stdout",
     "output_type": "stream",
     "text": [
      "\n",
      "Genotype distribution:\n",
      "Genotype 0: 52451 (92.79%)\n",
      "Genotype 1: 2493 (4.41%)\n",
      "Genotype 2: 1583 (2.80%)\n",
      "Genotype 9: 2 (0.00%)\n",
      "Processing chromosome 21 for LWK...\n",
      "Converting genotypes for 340 variants and 99 samples...\n"
     ]
    },
    {
     "name": "stderr",
     "output_type": "stream",
     "text": [
      "100%|██████████████████████████████████████| 340/340 [00:00<00:00, 77786.69it/s]"
     ]
    },
    {
     "name": "stdout",
     "output_type": "stream",
     "text": [
      "\n",
      "Genotype distribution:\n",
      "Genotype 0: 31722 (94.24%)\n",
      "Genotype 1: 1344 (3.99%)\n",
      "Genotype 2: 585 (1.74%)\n",
      "Genotype 9: 9 (0.03%)\n",
      "Processing chromosome 22 for LWK...\n"
     ]
    },
    {
     "name": "stderr",
     "output_type": "stream",
     "text": [
      "\n"
     ]
    },
    {
     "name": "stdout",
     "output_type": "stream",
     "text": [
      "Converting genotypes for 286 variants and 99 samples...\n"
     ]
    },
    {
     "name": "stderr",
     "output_type": "stream",
     "text": [
      "100%|██████████████████████████████████████| 286/286 [00:00<00:00, 77257.10it/s]"
     ]
    },
    {
     "name": "stdout",
     "output_type": "stream",
     "text": [
      "\n",
      "Genotype distribution:\n",
      "Genotype 0: 26226 (92.63%)\n",
      "Genotype 1: 1263 (4.46%)\n",
      "Genotype 2: 740 (2.61%)\n",
      "Genotype 9: 85 (0.30%)\n"
     ]
    },
    {
     "name": "stderr",
     "output_type": "stream",
     "text": [
      "\n"
     ]
    },
    {
     "name": "stdout",
     "output_type": "stream",
     "text": [
      "\n",
      "Writing genotypes to ../data/1000g/populations/LWK.geno...\n"
     ]
    },
    {
     "name": "stderr",
     "output_type": "stream",
     "text": [
      "100%|██████████████████████████████████| 21664/21664 [00:00<00:00, 44540.29it/s]\n"
     ]
    },
    {
     "name": "stdout",
     "output_type": "stream",
     "text": [
      "\n",
      "Conversion complete for LWK!\n",
      "Files created:\n",
      "1. ../data/1000g/populations/LWK.snp - SNP information (21664 variants)\n",
      "2. ../data/1000g/populations/LWK.ind - Sample information (99 samples)\n",
      "3. ../data/1000g/populations/LWK.geno - Genotype data\n",
      "\n",
      "Final genotype distribution:\n",
      "Genotype 0: 2004250 (93.45%)\n",
      "Genotype 1: 91287 (4.26%)\n",
      "Genotype 2: 47651 (2.22%)\n",
      "Genotype 9: 1548 (0.07%)\n",
      "\n",
      "Processing population: MXL\n",
      "Converting data for population: MXL\n",
      "Found 64 samples for MXL\n",
      "Processing chromosome 1 for MXL...\n",
      "Converting genotypes for 1617 variants and 64 samples...\n"
     ]
    },
    {
     "name": "stderr",
     "output_type": "stream",
     "text": [
      "100%|███████████████████████████████████| 1617/1617 [00:00<00:00, 140217.69it/s]\n"
     ]
    },
    {
     "name": "stdout",
     "output_type": "stream",
     "text": [
      "\n",
      "Genotype distribution:\n",
      "Genotype 0: 97713 (94.42%)\n",
      "Genotype 1: 3145 (3.04%)\n",
      "Genotype 2: 2574 (2.49%)\n",
      "Genotype 9: 56 (0.05%)\n",
      "Processing chromosome 2 for MXL...\n",
      "Converting genotypes for 1786 variants and 64 samples...\n"
     ]
    },
    {
     "name": "stderr",
     "output_type": "stream",
     "text": [
      "100%|███████████████████████████████████| 1786/1786 [00:00<00:00, 137778.68it/s]\n"
     ]
    },
    {
     "name": "stdout",
     "output_type": "stream",
     "text": [
      "\n",
      "Genotype distribution:\n",
      "Genotype 0: 108584 (95.00%)\n",
      "Genotype 1: 3545 (3.10%)\n",
      "Genotype 2: 2006 (1.75%)\n",
      "Genotype 9: 169 (0.15%)\n",
      "Processing chromosome 3 for MXL...\n",
      "Converting genotypes for 1446 variants and 64 samples...\n"
     ]
    },
    {
     "name": "stderr",
     "output_type": "stream",
     "text": [
      "100%|███████████████████████████████████| 1446/1446 [00:00<00:00, 137101.60it/s]\n"
     ]
    },
    {
     "name": "stdout",
     "output_type": "stream",
     "text": [
      "\n",
      "Genotype distribution:\n",
      "Genotype 0: 87835 (94.91%)\n",
      "Genotype 1: 2862 (3.09%)\n",
      "Genotype 2: 1847 (2.00%)\n",
      "Processing chromosome 4 for MXL...\n",
      "Converting genotypes for 1366 variants and 64 samples...\n"
     ]
    },
    {
     "name": "stderr",
     "output_type": "stream",
     "text": [
      "100%|███████████████████████████████████| 1366/1366 [00:00<00:00, 134106.20it/s]\n"
     ]
    },
    {
     "name": "stdout",
     "output_type": "stream",
     "text": [
      "\n",
      "Genotype distribution:\n",
      "Genotype 0: 82948 (94.88%)\n",
      "Genotype 1: 2734 (3.13%)\n",
      "Genotype 2: 1709 (1.95%)\n",
      "Genotype 9: 33 (0.04%)\n",
      "Processing chromosome 5 for MXL...\n",
      "Converting genotypes for 1325 variants and 64 samples...\n"
     ]
    },
    {
     "name": "stderr",
     "output_type": "stream",
     "text": [
      "100%|███████████████████████████████████| 1325/1325 [00:00<00:00, 131630.81it/s]\n"
     ]
    },
    {
     "name": "stdout",
     "output_type": "stream",
     "text": [
      "\n",
      "Genotype distribution:\n",
      "Genotype 0: 79906 (94.23%)\n",
      "Genotype 1: 3108 (3.67%)\n",
      "Genotype 2: 1770 (2.09%)\n",
      "Genotype 9: 16 (0.02%)\n",
      "Processing chromosome 6 for MXL...\n",
      "Converting genotypes for 1423 variants and 64 samples...\n"
     ]
    },
    {
     "name": "stderr",
     "output_type": "stream",
     "text": [
      "100%|███████████████████████████████████| 1423/1423 [00:00<00:00, 135743.24it/s]"
     ]
    },
    {
     "name": "stdout",
     "output_type": "stream",
     "text": [
      "\n",
      "Genotype distribution:\n",
      "Genotype 0: 84910 (93.23%)\n",
      "Genotype 1: 3674 (4.03%)\n",
      "Genotype 2: 2481 (2.72%)\n",
      "Genotype 9: 7 (0.01%)\n",
      "Processing chromosome 7 for MXL...\n"
     ]
    },
    {
     "name": "stderr",
     "output_type": "stream",
     "text": [
      "\n"
     ]
    },
    {
     "name": "stdout",
     "output_type": "stream",
     "text": [
      "Converting genotypes for 1215 variants and 64 samples...\n"
     ]
    },
    {
     "name": "stderr",
     "output_type": "stream",
     "text": [
      "100%|███████████████████████████████████| 1215/1215 [00:00<00:00, 136547.24it/s]"
     ]
    },
    {
     "name": "stdout",
     "output_type": "stream",
     "text": [
      "\n",
      "Genotype distribution:\n",
      "Genotype 0: 73861 (94.99%)\n",
      "Genotype 1: 2610 (3.36%)\n",
      "Genotype 2: 1280 (1.65%)\n",
      "Genotype 9: 9 (0.01%)\n",
      "Processing chromosome 8 for MXL...\n"
     ]
    },
    {
     "name": "stderr",
     "output_type": "stream",
     "text": [
      "\n"
     ]
    },
    {
     "name": "stdout",
     "output_type": "stream",
     "text": [
      "Converting genotypes for 1382 variants and 64 samples...\n"
     ]
    },
    {
     "name": "stderr",
     "output_type": "stream",
     "text": [
      "100%|███████████████████████████████████| 1382/1382 [00:00<00:00, 142298.47it/s]"
     ]
    },
    {
     "name": "stdout",
     "output_type": "stream",
     "text": [
      "\n",
      "Genotype distribution:\n",
      "Genotype 0: 84502 (95.54%)\n",
      "Genotype 1: 2422 (2.74%)\n",
      "Genotype 2: 1397 (1.58%)\n",
      "Genotype 9: 127 (0.14%)\n",
      "Processing chromosome 9 for MXL...\n"
     ]
    },
    {
     "name": "stderr",
     "output_type": "stream",
     "text": [
      "\n"
     ]
    },
    {
     "name": "stdout",
     "output_type": "stream",
     "text": [
      "Converting genotypes for 1038 variants and 64 samples...\n"
     ]
    },
    {
     "name": "stderr",
     "output_type": "stream",
     "text": [
      "100%|███████████████████████████████████| 1038/1038 [00:00<00:00, 138344.06it/s]"
     ]
    },
    {
     "name": "stdout",
     "output_type": "stream",
     "text": [
      "\n",
      "Genotype distribution:\n",
      "Genotype 0: 63061 (94.93%)\n",
      "Genotype 1: 2089 (3.14%)\n",
      "Genotype 2: 1243 (1.87%)\n",
      "Genotype 9: 39 (0.06%)\n",
      "Processing chromosome 10 for MXL...\n"
     ]
    },
    {
     "name": "stderr",
     "output_type": "stream",
     "text": [
      "\n"
     ]
    },
    {
     "name": "stdout",
     "output_type": "stream",
     "text": [
      "Converting genotypes for 1128 variants and 64 samples...\n"
     ]
    },
    {
     "name": "stderr",
     "output_type": "stream",
     "text": [
      "100%|███████████████████████████████████| 1128/1128 [00:00<00:00, 136956.87it/s]"
     ]
    },
    {
     "name": "stdout",
     "output_type": "stream",
     "text": [
      "\n",
      "Genotype distribution:\n",
      "Genotype 0: 68390 (94.73%)\n",
      "Genotype 1: 2234 (3.09%)\n",
      "Genotype 2: 1564 (2.17%)\n",
      "Genotype 9: 4 (0.01%)\n",
      "Processing chromosome 11 for MXL...\n"
     ]
    },
    {
     "name": "stderr",
     "output_type": "stream",
     "text": [
      "\n"
     ]
    },
    {
     "name": "stdout",
     "output_type": "stream",
     "text": [
      "Converting genotypes for 1154 variants and 64 samples...\n"
     ]
    },
    {
     "name": "stderr",
     "output_type": "stream",
     "text": [
      "100%|███████████████████████████████████| 1154/1154 [00:00<00:00, 136244.63it/s]"
     ]
    },
    {
     "name": "stdout",
     "output_type": "stream",
     "text": [
      "\n",
      "Genotype distribution:\n",
      "Genotype 0: 70496 (95.45%)\n",
      "Genotype 1: 2030 (2.75%)\n",
      "Genotype 2: 1315 (1.78%)\n",
      "Genotype 9: 15 (0.02%)\n",
      "Processing chromosome 12 for MXL...\n"
     ]
    },
    {
     "name": "stderr",
     "output_type": "stream",
     "text": [
      "\n"
     ]
    },
    {
     "name": "stdout",
     "output_type": "stream",
     "text": [
      "Converting genotypes for 1046 variants and 64 samples...\n"
     ]
    },
    {
     "name": "stderr",
     "output_type": "stream",
     "text": [
      "100%|███████████████████████████████████| 1046/1046 [00:00<00:00, 127543.52it/s]"
     ]
    },
    {
     "name": "stdout",
     "output_type": "stream",
     "text": [
      "\n",
      "Genotype distribution:\n",
      "Genotype 0: 62758 (93.75%)\n",
      "Genotype 1: 2345 (3.50%)\n",
      "Genotype 2: 1771 (2.65%)\n",
      "Genotype 9: 70 (0.10%)\n",
      "Processing chromosome 13 for MXL...\n"
     ]
    },
    {
     "name": "stderr",
     "output_type": "stream",
     "text": [
      "\n"
     ]
    },
    {
     "name": "stdout",
     "output_type": "stream",
     "text": [
      "Converting genotypes for 773 variants and 64 samples...\n"
     ]
    },
    {
     "name": "stderr",
     "output_type": "stream",
     "text": [
      "100%|█████████████████████████████████████| 773/773 [00:00<00:00, 126514.89it/s]"
     ]
    },
    {
     "name": "stdout",
     "output_type": "stream",
     "text": [
      "\n",
      "Genotype distribution:\n",
      "Genotype 0: 46350 (93.69%)\n",
      "Genotype 1: 1727 (3.49%)\n",
      "Genotype 2: 1334 (2.70%)\n",
      "Genotype 9: 61 (0.12%)\n",
      "Processing chromosome 14 for MXL...\n"
     ]
    },
    {
     "name": "stderr",
     "output_type": "stream",
     "text": [
      "\n"
     ]
    },
    {
     "name": "stdout",
     "output_type": "stream",
     "text": [
      "Converting genotypes for 667 variants and 64 samples...\n"
     ]
    },
    {
     "name": "stderr",
     "output_type": "stream",
     "text": [
      "100%|█████████████████████████████████████| 667/667 [00:00<00:00, 125893.29it/s]"
     ]
    },
    {
     "name": "stdout",
     "output_type": "stream",
     "text": [
      "\n",
      "Genotype distribution:\n",
      "Genotype 0: 40282 (94.36%)\n",
      "Genotype 1: 1440 (3.37%)\n",
      "Genotype 2: 902 (2.11%)\n",
      "Genotype 9: 64 (0.15%)\n",
      "Processing chromosome 15 for MXL...\n"
     ]
    },
    {
     "name": "stderr",
     "output_type": "stream",
     "text": [
      "\n"
     ]
    },
    {
     "name": "stdout",
     "output_type": "stream",
     "text": [
      "Converting genotypes for 637 variants and 64 samples...\n"
     ]
    },
    {
     "name": "stderr",
     "output_type": "stream",
     "text": [
      "100%|█████████████████████████████████████| 637/637 [00:00<00:00, 136544.78it/s]"
     ]
    },
    {
     "name": "stdout",
     "output_type": "stream",
     "text": [
      "\n",
      "Genotype distribution:\n",
      "Genotype 0: 38855 (95.31%)\n",
      "Genotype 1: 1194 (2.93%)\n",
      "Genotype 2: 719 (1.76%)\n",
      "Processing chromosome 16 for MXL...\n"
     ]
    },
    {
     "name": "stderr",
     "output_type": "stream",
     "text": [
      "\n"
     ]
    },
    {
     "name": "stdout",
     "output_type": "stream",
     "text": [
      "Converting genotypes for 835 variants and 64 samples...\n"
     ]
    },
    {
     "name": "stderr",
     "output_type": "stream",
     "text": [
      "100%|█████████████████████████████████████| 835/835 [00:00<00:00, 136865.21it/s]"
     ]
    },
    {
     "name": "stdout",
     "output_type": "stream",
     "text": [
      "\n",
      "Genotype distribution:\n",
      "Genotype 0: 50420 (94.35%)\n",
      "Genotype 1: 2013 (3.77%)\n",
      "Genotype 2: 992 (1.86%)\n",
      "Genotype 9: 15 (0.03%)\n",
      "Processing chromosome 17 for MXL...\n"
     ]
    },
    {
     "name": "stderr",
     "output_type": "stream",
     "text": [
      "\n"
     ]
    },
    {
     "name": "stdout",
     "output_type": "stream",
     "text": [
      "Converting genotypes for 664 variants and 64 samples...\n"
     ]
    },
    {
     "name": "stderr",
     "output_type": "stream",
     "text": [
      "100%|█████████████████████████████████████| 664/664 [00:00<00:00, 133817.89it/s]"
     ]
    },
    {
     "name": "stdout",
     "output_type": "stream",
     "text": [
      "\n",
      "Genotype distribution:\n",
      "Genotype 0: 36259 (85.32%)\n",
      "Genotype 1: 3402 (8.01%)\n",
      "Genotype 2: 2764 (6.50%)\n",
      "Genotype 9: 71 (0.17%)\n",
      "Processing chromosome 18 for MXL...\n"
     ]
    },
    {
     "name": "stderr",
     "output_type": "stream",
     "text": [
      "\n"
     ]
    },
    {
     "name": "stdout",
     "output_type": "stream",
     "text": [
      "Converting genotypes for 598 variants and 64 samples...\n"
     ]
    },
    {
     "name": "stderr",
     "output_type": "stream",
     "text": [
      "100%|█████████████████████████████████████| 598/598 [00:00<00:00, 135292.83it/s]\n"
     ]
    },
    {
     "name": "stdout",
     "output_type": "stream",
     "text": [
      "\n",
      "Genotype distribution:\n",
      "Genotype 0: 36555 (95.51%)\n",
      "Genotype 1: 1005 (2.63%)\n",
      "Genotype 2: 702 (1.83%)\n",
      "Genotype 9: 10 (0.03%)\n",
      "Processing chromosome 19 for MXL...\n",
      "Converting genotypes for 367 variants and 64 samples...\n"
     ]
    },
    {
     "name": "stderr",
     "output_type": "stream",
     "text": [
      "100%|█████████████████████████████████████| 367/367 [00:00<00:00, 126556.74it/s]"
     ]
    },
    {
     "name": "stdout",
     "output_type": "stream",
     "text": [
      "\n",
      "Genotype distribution:\n",
      "Genotype 0: 22521 (95.88%)\n",
      "Genotype 1: 683 (2.91%)\n",
      "Genotype 2: 283 (1.20%)\n",
      "Genotype 9: 1 (0.00%)\n",
      "Processing chromosome 20 for MXL...\n"
     ]
    },
    {
     "name": "stderr",
     "output_type": "stream",
     "text": [
      "\n"
     ]
    },
    {
     "name": "stdout",
     "output_type": "stream",
     "text": [
      "Converting genotypes for 571 variants and 64 samples...\n"
     ]
    },
    {
     "name": "stderr",
     "output_type": "stream",
     "text": [
      "100%|█████████████████████████████████████| 571/571 [00:00<00:00, 118385.94it/s]\n"
     ]
    },
    {
     "name": "stdout",
     "output_type": "stream",
     "text": [
      "\n",
      "Genotype distribution:\n",
      "Genotype 0: 34283 (93.81%)\n",
      "Genotype 1: 1363 (3.73%)\n",
      "Genotype 2: 898 (2.46%)\n",
      "Processing chromosome 21 for MXL...\n",
      "Converting genotypes for 340 variants and 64 samples...\n"
     ]
    },
    {
     "name": "stderr",
     "output_type": "stream",
     "text": [
      "100%|█████████████████████████████████████| 340/340 [00:00<00:00, 120008.70it/s]"
     ]
    },
    {
     "name": "stdout",
     "output_type": "stream",
     "text": [
      "\n",
      "Genotype distribution:\n",
      "Genotype 0: 20711 (95.18%)\n",
      "Genotype 1: 669 (3.07%)\n",
      "Genotype 2: 364 (1.67%)\n",
      "Genotype 9: 16 (0.07%)\n",
      "Processing chromosome 22 for MXL...\n"
     ]
    },
    {
     "name": "stderr",
     "output_type": "stream",
     "text": [
      "\n"
     ]
    },
    {
     "name": "stdout",
     "output_type": "stream",
     "text": [
      "Converting genotypes for 286 variants and 64 samples...\n"
     ]
    },
    {
     "name": "stderr",
     "output_type": "stream",
     "text": [
      "100%|█████████████████████████████████████| 286/286 [00:00<00:00, 116928.64it/s]\n"
     ]
    },
    {
     "name": "stdout",
     "output_type": "stream",
     "text": [
      "\n",
      "Genotype distribution:\n",
      "Genotype 0: 17206 (94.00%)\n",
      "Genotype 1: 596 (3.26%)\n",
      "Genotype 2: 445 (2.43%)\n",
      "Genotype 9: 57 (0.31%)\n",
      "\n",
      "Writing genotypes to ../data/1000g/populations/MXL.geno...\n"
     ]
    },
    {
     "name": "stderr",
     "output_type": "stream",
     "text": [
      "100%|██████████████████████████████████| 21664/21664 [00:00<00:00, 69352.05it/s]\n"
     ]
    },
    {
     "name": "stdout",
     "output_type": "stream",
     "text": [
      "\n",
      "Conversion complete for MXL!\n",
      "Files created:\n",
      "1. ../data/1000g/populations/MXL.snp - SNP information (21664 variants)\n",
      "2. ../data/1000g/populations/MXL.ind - Sample information (64 samples)\n",
      "3. ../data/1000g/populations/MXL.geno - Genotype data\n",
      "\n",
      "Final genotype distribution:\n",
      "Genotype 0: 1308406 (94.37%)\n",
      "Genotype 1: 46890 (3.38%)\n",
      "Genotype 2: 30360 (2.19%)\n",
      "Genotype 9: 840 (0.06%)\n",
      "\n",
      "Processing population: TSI\n",
      "Converting data for population: TSI\n",
      "Found 107 samples for TSI\n",
      "Processing chromosome 1 for TSI...\n",
      "Converting genotypes for 1617 variants and 107 samples...\n"
     ]
    },
    {
     "name": "stderr",
     "output_type": "stream",
     "text": [
      "100%|████████████████████████████████████| 1617/1617 [00:00<00:00, 84402.83it/s]\n"
     ]
    },
    {
     "name": "stdout",
     "output_type": "stream",
     "text": [
      "\n",
      "Genotype distribution:\n",
      "Genotype 0: 163716 (94.62%)\n",
      "Genotype 1: 5087 (2.94%)\n",
      "Genotype 2: 4126 (2.38%)\n",
      "Genotype 9: 90 (0.05%)\n",
      "Processing chromosome 2 for TSI...\n",
      "Converting genotypes for 1786 variants and 107 samples...\n"
     ]
    },
    {
     "name": "stderr",
     "output_type": "stream",
     "text": [
      "100%|████████████████████████████████████| 1786/1786 [00:00<00:00, 85171.76it/s]\n"
     ]
    },
    {
     "name": "stdout",
     "output_type": "stream",
     "text": [
      "\n",
      "Genotype distribution:\n",
      "Genotype 0: 181658 (95.06%)\n",
      "Genotype 1: 5788 (3.03%)\n",
      "Genotype 2: 3410 (1.78%)\n",
      "Genotype 9: 246 (0.13%)\n",
      "Processing chromosome 3 for TSI...\n",
      "Converting genotypes for 1446 variants and 107 samples...\n"
     ]
    },
    {
     "name": "stderr",
     "output_type": "stream",
     "text": [
      "100%|████████████████████████████████████| 1446/1446 [00:00<00:00, 86748.91it/s]\n"
     ]
    },
    {
     "name": "stdout",
     "output_type": "stream",
     "text": [
      "\n",
      "Genotype distribution:\n",
      "Genotype 0: 147121 (95.09%)\n",
      "Genotype 1: 4428 (2.86%)\n",
      "Genotype 2: 3172 (2.05%)\n",
      "Genotype 9: 1 (0.00%)\n",
      "Processing chromosome 4 for TSI...\n",
      "Converting genotypes for 1366 variants and 107 samples...\n"
     ]
    },
    {
     "name": "stderr",
     "output_type": "stream",
     "text": [
      "100%|████████████████████████████████████| 1366/1366 [00:00<00:00, 83979.53it/s]\n"
     ]
    },
    {
     "name": "stdout",
     "output_type": "stream",
     "text": [
      "\n",
      "Genotype distribution:\n",
      "Genotype 0: 138724 (94.91%)\n",
      "Genotype 1: 4533 (3.10%)\n",
      "Genotype 2: 2841 (1.94%)\n",
      "Genotype 9: 64 (0.04%)\n",
      "Processing chromosome 5 for TSI...\n",
      "Converting genotypes for 1325 variants and 107 samples...\n"
     ]
    },
    {
     "name": "stderr",
     "output_type": "stream",
     "text": [
      "100%|████████████████████████████████████| 1325/1325 [00:00<00:00, 83712.97it/s]\n"
     ]
    },
    {
     "name": "stdout",
     "output_type": "stream",
     "text": [
      "\n",
      "Genotype distribution:\n",
      "Genotype 0: 133711 (94.31%)\n",
      "Genotype 1: 5057 (3.57%)\n",
      "Genotype 2: 2981 (2.10%)\n",
      "Genotype 9: 26 (0.02%)\n",
      "Processing chromosome 6 for TSI...\n",
      "Converting genotypes for 1423 variants and 107 samples...\n"
     ]
    },
    {
     "name": "stderr",
     "output_type": "stream",
     "text": [
      "100%|████████████████████████████████████| 1423/1423 [00:00<00:00, 84908.80it/s]\n"
     ]
    },
    {
     "name": "stdout",
     "output_type": "stream",
     "text": [
      "\n",
      "Genotype distribution:\n",
      "Genotype 0: 141780 (93.12%)\n",
      "Genotype 1: 6448 (4.23%)\n",
      "Genotype 2: 4019 (2.64%)\n",
      "Genotype 9: 14 (0.01%)\n",
      "Processing chromosome 7 for TSI...\n",
      "Converting genotypes for 1215 variants and 107 samples...\n"
     ]
    },
    {
     "name": "stderr",
     "output_type": "stream",
     "text": [
      "100%|████████████████████████████████████| 1215/1215 [00:00<00:00, 84526.11it/s]\n"
     ]
    },
    {
     "name": "stdout",
     "output_type": "stream",
     "text": [
      "\n",
      "Genotype distribution:\n",
      "Genotype 0: 123413 (94.93%)\n",
      "Genotype 1: 4410 (3.39%)\n",
      "Genotype 2: 2169 (1.67%)\n",
      "Genotype 9: 13 (0.01%)\n",
      "Processing chromosome 8 for TSI...\n",
      "Converting genotypes for 1382 variants and 107 samples...\n"
     ]
    },
    {
     "name": "stderr",
     "output_type": "stream",
     "text": [
      "100%|████████████████████████████████████| 1382/1382 [00:00<00:00, 83363.70it/s]\n"
     ]
    },
    {
     "name": "stdout",
     "output_type": "stream",
     "text": [
      "\n",
      "Genotype distribution:\n",
      "Genotype 0: 141470 (95.67%)\n",
      "Genotype 1: 3916 (2.65%)\n",
      "Genotype 2: 2293 (1.55%)\n",
      "Genotype 9: 195 (0.13%)\n",
      "Processing chromosome 9 for TSI...\n",
      "Converting genotypes for 1038 variants and 107 samples...\n"
     ]
    },
    {
     "name": "stderr",
     "output_type": "stream",
     "text": [
      "100%|████████████████████████████████████| 1038/1038 [00:00<00:00, 84056.14it/s]"
     ]
    },
    {
     "name": "stdout",
     "output_type": "stream",
     "text": [
      "\n",
      "Genotype distribution:\n",
      "Genotype 0: 105494 (94.98%)\n",
      "Genotype 1: 3577 (3.22%)\n",
      "Genotype 2: 1925 (1.73%)\n",
      "Genotype 9: 70 (0.06%)\n",
      "Processing chromosome 10 for TSI...\n"
     ]
    },
    {
     "name": "stderr",
     "output_type": "stream",
     "text": [
      "\n"
     ]
    },
    {
     "name": "stdout",
     "output_type": "stream",
     "text": [
      "Converting genotypes for 1128 variants and 107 samples...\n"
     ]
    },
    {
     "name": "stderr",
     "output_type": "stream",
     "text": [
      "100%|████████████████████████████████████| 1128/1128 [00:00<00:00, 83210.36it/s]"
     ]
    },
    {
     "name": "stdout",
     "output_type": "stream",
     "text": [
      "\n",
      "Genotype distribution:\n",
      "Genotype 0: 114855 (95.16%)\n",
      "Genotype 1: 3511 (2.91%)\n",
      "Genotype 2: 2330 (1.93%)\n",
      "Processing chromosome 11 for TSI...\n"
     ]
    },
    {
     "name": "stderr",
     "output_type": "stream",
     "text": [
      "\n"
     ]
    },
    {
     "name": "stdout",
     "output_type": "stream",
     "text": [
      "Converting genotypes for 1154 variants and 107 samples...\n"
     ]
    },
    {
     "name": "stderr",
     "output_type": "stream",
     "text": [
      "100%|████████████████████████████████████| 1154/1154 [00:00<00:00, 84001.09it/s]"
     ]
    },
    {
     "name": "stdout",
     "output_type": "stream",
     "text": [
      "\n",
      "Genotype distribution:\n",
      "Genotype 0: 117558 (95.21%)\n",
      "Genotype 1: 3408 (2.76%)\n",
      "Genotype 2: 2494 (2.02%)\n",
      "Genotype 9: 18 (0.01%)\n",
      "Processing chromosome 12 for TSI...\n"
     ]
    },
    {
     "name": "stderr",
     "output_type": "stream",
     "text": [
      "\n"
     ]
    },
    {
     "name": "stdout",
     "output_type": "stream",
     "text": [
      "Converting genotypes for 1046 variants and 107 samples...\n"
     ]
    },
    {
     "name": "stderr",
     "output_type": "stream",
     "text": [
      "100%|████████████████████████████████████| 1046/1046 [00:00<00:00, 84292.23it/s]"
     ]
    },
    {
     "name": "stdout",
     "output_type": "stream",
     "text": [
      "\n",
      "Genotype distribution:\n",
      "Genotype 0: 104791 (93.63%)\n",
      "Genotype 1: 4127 (3.69%)\n",
      "Genotype 2: 2910 (2.60%)\n",
      "Genotype 9: 94 (0.08%)\n",
      "Processing chromosome 13 for TSI...\n"
     ]
    },
    {
     "name": "stderr",
     "output_type": "stream",
     "text": [
      "\n"
     ]
    },
    {
     "name": "stdout",
     "output_type": "stream",
     "text": [
      "Converting genotypes for 773 variants and 107 samples...\n"
     ]
    },
    {
     "name": "stderr",
     "output_type": "stream",
     "text": [
      "100%|██████████████████████████████████████| 773/773 [00:00<00:00, 83152.45it/s]"
     ]
    },
    {
     "name": "stdout",
     "output_type": "stream",
     "text": [
      "\n",
      "Genotype distribution:\n",
      "Genotype 0: 77583 (93.80%)\n",
      "Genotype 1: 2756 (3.33%)\n",
      "Genotype 2: 2252 (2.72%)\n",
      "Genotype 9: 120 (0.15%)\n",
      "Processing chromosome 14 for TSI...\n"
     ]
    },
    {
     "name": "stderr",
     "output_type": "stream",
     "text": [
      "\n"
     ]
    },
    {
     "name": "stdout",
     "output_type": "stream",
     "text": [
      "Converting genotypes for 667 variants and 107 samples...\n"
     ]
    },
    {
     "name": "stderr",
     "output_type": "stream",
     "text": [
      "100%|██████████████████████████████████████| 667/667 [00:00<00:00, 78841.19it/s]"
     ]
    },
    {
     "name": "stdout",
     "output_type": "stream",
     "text": [
      "\n",
      "Genotype distribution:\n",
      "Genotype 0: 67178 (94.13%)\n",
      "Genotype 1: 2426 (3.40%)\n",
      "Genotype 2: 1596 (2.24%)\n",
      "Genotype 9: 169 (0.24%)\n",
      "Processing chromosome 15 for TSI...\n"
     ]
    },
    {
     "name": "stderr",
     "output_type": "stream",
     "text": [
      "\n"
     ]
    },
    {
     "name": "stdout",
     "output_type": "stream",
     "text": [
      "Converting genotypes for 637 variants and 107 samples...\n"
     ]
    },
    {
     "name": "stderr",
     "output_type": "stream",
     "text": [
      "100%|██████████████████████████████████████| 637/637 [00:00<00:00, 80989.77it/s]"
     ]
    },
    {
     "name": "stdout",
     "output_type": "stream",
     "text": [
      "\n",
      "Genotype distribution:\n",
      "Genotype 0: 64854 (95.15%)\n",
      "Genotype 1: 2199 (3.23%)\n",
      "Genotype 2: 1105 (1.62%)\n",
      "Genotype 9: 1 (0.00%)\n",
      "Processing chromosome 16 for TSI...\n"
     ]
    },
    {
     "name": "stderr",
     "output_type": "stream",
     "text": [
      "\n"
     ]
    },
    {
     "name": "stdout",
     "output_type": "stream",
     "text": [
      "Converting genotypes for 835 variants and 107 samples...\n"
     ]
    },
    {
     "name": "stderr",
     "output_type": "stream",
     "text": [
      "100%|██████████████████████████████████████| 835/835 [00:00<00:00, 85055.47it/s]"
     ]
    },
    {
     "name": "stdout",
     "output_type": "stream",
     "text": [
      "\n",
      "Genotype distribution:\n",
      "Genotype 0: 84462 (94.53%)\n",
      "Genotype 1: 3185 (3.56%)\n",
      "Genotype 2: 1659 (1.86%)\n",
      "Genotype 9: 39 (0.04%)\n",
      "Processing chromosome 17 for TSI...\n"
     ]
    },
    {
     "name": "stderr",
     "output_type": "stream",
     "text": [
      "\n"
     ]
    },
    {
     "name": "stdout",
     "output_type": "stream",
     "text": [
      "Converting genotypes for 664 variants and 107 samples...\n"
     ]
    },
    {
     "name": "stderr",
     "output_type": "stream",
     "text": [
      "100%|██████████████████████████████████████| 664/664 [00:00<00:00, 81772.80it/s]"
     ]
    },
    {
     "name": "stdout",
     "output_type": "stream",
     "text": [
      "\n",
      "Genotype distribution:\n",
      "Genotype 0: 60512 (85.17%)\n",
      "Genotype 1: 5611 (7.90%)\n",
      "Genotype 2: 4853 (6.83%)\n",
      "Genotype 9: 72 (0.10%)\n",
      "Processing chromosome 18 for TSI...\n"
     ]
    },
    {
     "name": "stderr",
     "output_type": "stream",
     "text": [
      "\n"
     ]
    },
    {
     "name": "stdout",
     "output_type": "stream",
     "text": [
      "Converting genotypes for 598 variants and 107 samples...\n"
     ]
    },
    {
     "name": "stderr",
     "output_type": "stream",
     "text": [
      "100%|██████████████████████████████████████| 598/598 [00:00<00:00, 85580.52it/s]"
     ]
    },
    {
     "name": "stdout",
     "output_type": "stream",
     "text": [
      "\n",
      "Genotype distribution:\n",
      "Genotype 0: 61042 (95.40%)\n",
      "Genotype 1: 1554 (2.43%)\n",
      "Genotype 2: 1374 (2.15%)\n",
      "Genotype 9: 16 (0.03%)\n",
      "Processing chromosome 19 for TSI...\n"
     ]
    },
    {
     "name": "stderr",
     "output_type": "stream",
     "text": [
      "\n"
     ]
    },
    {
     "name": "stdout",
     "output_type": "stream",
     "text": [
      "Converting genotypes for 367 variants and 107 samples...\n"
     ]
    },
    {
     "name": "stderr",
     "output_type": "stream",
     "text": [
      "100%|██████████████████████████████████████| 367/367 [00:00<00:00, 77687.98it/s]\n"
     ]
    },
    {
     "name": "stdout",
     "output_type": "stream",
     "text": [
      "\n",
      "Genotype distribution:\n",
      "Genotype 0: 37725 (96.07%)\n",
      "Genotype 1: 1035 (2.64%)\n",
      "Genotype 2: 509 (1.30%)\n",
      "Processing chromosome 20 for TSI...\n",
      "Converting genotypes for 571 variants and 107 samples...\n"
     ]
    },
    {
     "name": "stderr",
     "output_type": "stream",
     "text": [
      "100%|██████████████████████████████████████| 571/571 [00:00<00:00, 76995.58it/s]\n"
     ]
    },
    {
     "name": "stdout",
     "output_type": "stream",
     "text": [
      "\n",
      "Genotype distribution:\n",
      "Genotype 0: 57508 (94.13%)\n",
      "Genotype 1: 2099 (3.44%)\n",
      "Genotype 2: 1490 (2.44%)\n",
      "Processing chromosome 21 for TSI...\n",
      "Converting genotypes for 340 variants and 107 samples...\n"
     ]
    },
    {
     "name": "stderr",
     "output_type": "stream",
     "text": [
      "100%|██████████████████████████████████████| 340/340 [00:00<00:00, 78540.69it/s]"
     ]
    },
    {
     "name": "stdout",
     "output_type": "stream",
     "text": [
      "\n",
      "Genotype distribution:\n",
      "Genotype 0: 34491 (94.81%)\n",
      "Genotype 1: 1169 (3.21%)\n",
      "Genotype 2: 671 (1.84%)\n",
      "Genotype 9: 49 (0.13%)\n",
      "Processing chromosome 22 for TSI...\n"
     ]
    },
    {
     "name": "stderr",
     "output_type": "stream",
     "text": [
      "\n"
     ]
    },
    {
     "name": "stdout",
     "output_type": "stream",
     "text": [
      "Converting genotypes for 286 variants and 107 samples...\n"
     ]
    },
    {
     "name": "stderr",
     "output_type": "stream",
     "text": [
      "100%|██████████████████████████████████████| 286/286 [00:00<00:00, 75302.63it/s]"
     ]
    },
    {
     "name": "stdout",
     "output_type": "stream",
     "text": [
      "\n",
      "Genotype distribution:\n",
      "Genotype 0: 28769 (94.01%)\n",
      "Genotype 1: 950 (3.10%)\n",
      "Genotype 2: 785 (2.57%)\n",
      "Genotype 9: 98 (0.32%)\n"
     ]
    },
    {
     "name": "stderr",
     "output_type": "stream",
     "text": [
      "\n"
     ]
    },
    {
     "name": "stdout",
     "output_type": "stream",
     "text": [
      "\n",
      "Writing genotypes to ../data/1000g/populations/TSI.geno...\n"
     ]
    },
    {
     "name": "stderr",
     "output_type": "stream",
     "text": [
      "100%|██████████████████████████████████| 21664/21664 [00:00<00:00, 41089.76it/s]\n"
     ]
    },
    {
     "name": "stdout",
     "output_type": "stream",
     "text": [
      "\n",
      "Conversion complete for TSI!\n",
      "Files created:\n",
      "1. ../data/1000g/populations/TSI.snp - SNP information (21664 variants)\n",
      "2. ../data/1000g/populations/TSI.ind - Sample information (107 samples)\n",
      "3. ../data/1000g/populations/TSI.geno - Genotype data\n",
      "\n",
      "Final genotype distribution:\n",
      "Genotype 0: 2188415 (94.41%)\n",
      "Genotype 1: 77274 (3.33%)\n",
      "Genotype 2: 50964 (2.20%)\n",
      "Genotype 9: 1395 (0.06%)\n",
      "\n",
      "Processing population: YRI\n",
      "Converting data for population: YRI\n",
      "Found 108 samples for YRI\n",
      "Processing chromosome 1 for YRI...\n",
      "Converting genotypes for 1617 variants and 108 samples...\n"
     ]
    },
    {
     "name": "stderr",
     "output_type": "stream",
     "text": [
      "100%|████████████████████████████████████| 1617/1617 [00:00<00:00, 85813.57it/s]\n"
     ]
    },
    {
     "name": "stdout",
     "output_type": "stream",
     "text": [
      "\n",
      "Genotype distribution:\n",
      "Genotype 0: 162983 (93.33%)\n",
      "Genotype 1: 7279 (4.17%)\n",
      "Genotype 2: 4295 (2.46%)\n",
      "Genotype 9: 79 (0.05%)\n",
      "Processing chromosome 2 for YRI...\n",
      "Converting genotypes for 1786 variants and 108 samples...\n"
     ]
    },
    {
     "name": "stderr",
     "output_type": "stream",
     "text": [
      "100%|████████████████████████████████████| 1786/1786 [00:00<00:00, 82505.75it/s]\n"
     ]
    },
    {
     "name": "stdout",
     "output_type": "stream",
     "text": [
      "\n",
      "Genotype distribution:\n",
      "Genotype 0: 180716 (93.69%)\n",
      "Genotype 1: 7876 (4.08%)\n",
      "Genotype 2: 4107 (2.13%)\n",
      "Genotype 9: 189 (0.10%)\n",
      "Processing chromosome 3 for YRI...\n",
      "Converting genotypes for 1446 variants and 108 samples...\n"
     ]
    },
    {
     "name": "stderr",
     "output_type": "stream",
     "text": [
      "100%|████████████████████████████████████| 1446/1446 [00:00<00:00, 80279.60it/s]"
     ]
    },
    {
     "name": "stdout",
     "output_type": "stream",
     "text": [
      "\n",
      "Genotype distribution:\n",
      "Genotype 0: 146244 (93.65%)\n",
      "Genotype 1: 6480 (4.15%)\n",
      "Genotype 2: 3419 (2.19%)\n",
      "Genotype 9: 25 (0.02%)\n",
      "Processing chromosome 4 for YRI...\n"
     ]
    },
    {
     "name": "stderr",
     "output_type": "stream",
     "text": [
      "\n"
     ]
    },
    {
     "name": "stdout",
     "output_type": "stream",
     "text": [
      "Converting genotypes for 1366 variants and 108 samples...\n"
     ]
    },
    {
     "name": "stderr",
     "output_type": "stream",
     "text": [
      "100%|████████████████████████████████████| 1366/1366 [00:00<00:00, 81914.38it/s]"
     ]
    },
    {
     "name": "stdout",
     "output_type": "stream",
     "text": [
      "\n",
      "Genotype distribution:\n",
      "Genotype 0: 138777 (94.07%)\n",
      "Genotype 1: 6197 (4.20%)\n",
      "Genotype 2: 2459 (1.67%)\n",
      "Genotype 9: 95 (0.06%)\n",
      "Processing chromosome 5 for YRI...\n"
     ]
    },
    {
     "name": "stderr",
     "output_type": "stream",
     "text": [
      "\n"
     ]
    },
    {
     "name": "stdout",
     "output_type": "stream",
     "text": [
      "Converting genotypes for 1325 variants and 108 samples...\n"
     ]
    },
    {
     "name": "stderr",
     "output_type": "stream",
     "text": [
      "100%|████████████████████████████████████| 1325/1325 [00:00<00:00, 79862.23it/s]"
     ]
    },
    {
     "name": "stdout",
     "output_type": "stream",
     "text": [
      "\n",
      "Genotype distribution:\n",
      "Genotype 0: 133211 (93.09%)\n",
      "Genotype 1: 6500 (4.54%)\n",
      "Genotype 2: 3297 (2.30%)\n",
      "Genotype 9: 92 (0.06%)\n"
     ]
    },
    {
     "name": "stderr",
     "output_type": "stream",
     "text": [
      "\n"
     ]
    },
    {
     "name": "stdout",
     "output_type": "stream",
     "text": [
      "Processing chromosome 6 for YRI...\n",
      "Converting genotypes for 1423 variants and 108 samples...\n"
     ]
    },
    {
     "name": "stderr",
     "output_type": "stream",
     "text": [
      "100%|████████████████████████████████████| 1423/1423 [00:00<00:00, 83147.51it/s]\n"
     ]
    },
    {
     "name": "stdout",
     "output_type": "stream",
     "text": [
      "\n",
      "Genotype distribution:\n",
      "Genotype 0: 142443 (92.69%)\n",
      "Genotype 1: 6979 (4.54%)\n",
      "Genotype 2: 4165 (2.71%)\n",
      "Genotype 9: 97 (0.06%)\n",
      "Processing chromosome 7 for YRI...\n",
      "Converting genotypes for 1215 variants and 108 samples...\n"
     ]
    },
    {
     "name": "stderr",
     "output_type": "stream",
     "text": [
      "100%|████████████████████████████████████| 1215/1215 [00:00<00:00, 82860.38it/s]"
     ]
    },
    {
     "name": "stdout",
     "output_type": "stream",
     "text": [
      "\n",
      "Genotype distribution:\n",
      "Genotype 0: 122763 (93.56%)\n",
      "Genotype 1: 5757 (4.39%)\n",
      "Genotype 2: 2571 (1.96%)\n",
      "Genotype 9: 129 (0.10%)\n"
     ]
    },
    {
     "name": "stderr",
     "output_type": "stream",
     "text": [
      "\n"
     ]
    },
    {
     "name": "stdout",
     "output_type": "stream",
     "text": [
      "Processing chromosome 8 for YRI...\n",
      "Converting genotypes for 1382 variants and 108 samples...\n"
     ]
    },
    {
     "name": "stderr",
     "output_type": "stream",
     "text": [
      "100%|████████████████████████████████████| 1382/1382 [00:00<00:00, 84032.01it/s]\n"
     ]
    },
    {
     "name": "stdout",
     "output_type": "stream",
     "text": [
      "\n",
      "Genotype distribution:\n",
      "Genotype 0: 141321 (94.68%)\n",
      "Genotype 1: 5309 (3.56%)\n",
      "Genotype 2: 2404 (1.61%)\n",
      "Genotype 9: 222 (0.15%)\n",
      "Processing chromosome 9 for YRI...\n",
      "Converting genotypes for 1038 variants and 108 samples...\n"
     ]
    },
    {
     "name": "stderr",
     "output_type": "stream",
     "text": [
      "100%|████████████████████████████████████| 1038/1038 [00:00<00:00, 75370.26it/s]\n"
     ]
    },
    {
     "name": "stdout",
     "output_type": "stream",
     "text": [
      "\n",
      "Genotype distribution:\n",
      "Genotype 0: 105208 (93.85%)\n",
      "Genotype 1: 4820 (4.30%)\n",
      "Genotype 2: 1995 (1.78%)\n",
      "Genotype 9: 81 (0.07%)\n",
      "Processing chromosome 10 for YRI...\n",
      "Converting genotypes for 1128 variants and 108 samples...\n"
     ]
    },
    {
     "name": "stderr",
     "output_type": "stream",
     "text": [
      "100%|████████████████████████████████████| 1128/1128 [00:00<00:00, 81163.37it/s]\n"
     ]
    },
    {
     "name": "stdout",
     "output_type": "stream",
     "text": [
      "\n",
      "Genotype distribution:\n",
      "Genotype 0: 114383 (93.89%)\n",
      "Genotype 1: 4861 (3.99%)\n",
      "Genotype 2: 2580 (2.12%)\n",
      "Processing chromosome 11 for YRI...\n",
      "Converting genotypes for 1154 variants and 108 samples...\n"
     ]
    },
    {
     "name": "stderr",
     "output_type": "stream",
     "text": [
      "100%|████████████████████████████████████| 1154/1154 [00:00<00:00, 83871.54it/s]"
     ]
    },
    {
     "name": "stdout",
     "output_type": "stream",
     "text": [
      "\n",
      "Genotype distribution:\n",
      "Genotype 0: 117717 (94.45%)\n",
      "Genotype 1: 4467 (3.58%)\n",
      "Genotype 2: 2383 (1.91%)\n",
      "Genotype 9: 65 (0.05%)\n",
      "Processing chromosome 12 for YRI...\n"
     ]
    },
    {
     "name": "stderr",
     "output_type": "stream",
     "text": [
      "\n"
     ]
    },
    {
     "name": "stdout",
     "output_type": "stream",
     "text": [
      "Converting genotypes for 1046 variants and 108 samples...\n"
     ]
    },
    {
     "name": "stderr",
     "output_type": "stream",
     "text": [
      "100%|████████████████████████████████████| 1046/1046 [00:00<00:00, 81494.23it/s]"
     ]
    },
    {
     "name": "stdout",
     "output_type": "stream",
     "text": [
      "\n",
      "Genotype distribution:\n",
      "Genotype 0: 105264 (93.18%)\n",
      "Genotype 1: 4916 (4.35%)\n",
      "Genotype 2: 2547 (2.25%)\n",
      "Genotype 9: 241 (0.21%)\n",
      "Processing chromosome 13 for YRI...\n"
     ]
    },
    {
     "name": "stderr",
     "output_type": "stream",
     "text": [
      "\n"
     ]
    },
    {
     "name": "stdout",
     "output_type": "stream",
     "text": [
      "Converting genotypes for 773 variants and 108 samples...\n"
     ]
    },
    {
     "name": "stderr",
     "output_type": "stream",
     "text": [
      "100%|██████████████████████████████████████| 773/773 [00:00<00:00, 79151.34it/s]"
     ]
    },
    {
     "name": "stdout",
     "output_type": "stream",
     "text": [
      "\n",
      "Genotype distribution:\n",
      "Genotype 0: 78211 (93.68%)\n",
      "Genotype 1: 3193 (3.82%)\n",
      "Genotype 2: 2003 (2.40%)\n",
      "Genotype 9: 77 (0.09%)\n",
      "Processing chromosome 14 for YRI...\n"
     ]
    },
    {
     "name": "stderr",
     "output_type": "stream",
     "text": [
      "\n"
     ]
    },
    {
     "name": "stdout",
     "output_type": "stream",
     "text": [
      "Converting genotypes for 667 variants and 108 samples...\n"
     ]
    },
    {
     "name": "stderr",
     "output_type": "stream",
     "text": [
      "100%|██████████████████████████████████████| 667/667 [00:00<00:00, 81861.03it/s]"
     ]
    },
    {
     "name": "stdout",
     "output_type": "stream",
     "text": [
      "\n",
      "Genotype distribution:\n",
      "Genotype 0: 66953 (92.94%)\n",
      "Genotype 1: 3290 (4.57%)\n",
      "Genotype 2: 1647 (2.29%)\n",
      "Genotype 9: 146 (0.20%)\n",
      "Processing chromosome 15 for YRI...\n"
     ]
    },
    {
     "name": "stderr",
     "output_type": "stream",
     "text": [
      "\n"
     ]
    },
    {
     "name": "stdout",
     "output_type": "stream",
     "text": [
      "Converting genotypes for 637 variants and 108 samples...\n"
     ]
    },
    {
     "name": "stderr",
     "output_type": "stream",
     "text": [
      "100%|██████████████████████████████████████| 637/637 [00:00<00:00, 77636.18it/s]"
     ]
    },
    {
     "name": "stdout",
     "output_type": "stream",
     "text": [
      "\n",
      "Genotype distribution:\n",
      "Genotype 0: 65095 (94.62%)\n",
      "Genotype 1: 2355 (3.42%)\n",
      "Genotype 2: 1346 (1.96%)\n",
      "Processing chromosome 16 for YRI...\n"
     ]
    },
    {
     "name": "stderr",
     "output_type": "stream",
     "text": [
      "\n"
     ]
    },
    {
     "name": "stdout",
     "output_type": "stream",
     "text": [
      "Converting genotypes for 835 variants and 108 samples...\n"
     ]
    },
    {
     "name": "stderr",
     "output_type": "stream",
     "text": [
      "100%|██████████████████████████████████████| 835/835 [00:00<00:00, 80491.00it/s]"
     ]
    },
    {
     "name": "stdout",
     "output_type": "stream",
     "text": [
      "\n",
      "Genotype distribution:\n",
      "Genotype 0: 83947 (93.09%)\n",
      "Genotype 1: 4131 (4.58%)\n",
      "Genotype 2: 2080 (2.31%)\n",
      "Genotype 9: 22 (0.02%)\n",
      "Processing chromosome 17 for YRI...\n"
     ]
    },
    {
     "name": "stderr",
     "output_type": "stream",
     "text": [
      "\n"
     ]
    },
    {
     "name": "stdout",
     "output_type": "stream",
     "text": [
      "Converting genotypes for 664 variants and 108 samples...\n"
     ]
    },
    {
     "name": "stderr",
     "output_type": "stream",
     "text": [
      "100%|██████████████████████████████████████| 664/664 [00:00<00:00, 78842.09it/s]"
     ]
    },
    {
     "name": "stdout",
     "output_type": "stream",
     "text": [
      "\n",
      "Genotype distribution:\n",
      "Genotype 0: 61242 (85.40%)\n",
      "Genotype 1: 6224 (8.68%)\n",
      "Genotype 2: 4186 (5.84%)\n",
      "Genotype 9: 60 (0.08%)\n",
      "Processing chromosome 18 for YRI...\n"
     ]
    },
    {
     "name": "stderr",
     "output_type": "stream",
     "text": [
      "\n"
     ]
    },
    {
     "name": "stdout",
     "output_type": "stream",
     "text": [
      "Converting genotypes for 598 variants and 108 samples...\n"
     ]
    },
    {
     "name": "stderr",
     "output_type": "stream",
     "text": [
      "100%|██████████████████████████████████████| 598/598 [00:00<00:00, 83520.16it/s]"
     ]
    },
    {
     "name": "stdout",
     "output_type": "stream",
     "text": [
      "\n",
      "Genotype distribution:\n",
      "Genotype 0: 61315 (94.94%)\n",
      "Genotype 1: 2099 (3.25%)\n",
      "Genotype 2: 1119 (1.73%)\n",
      "Genotype 9: 51 (0.08%)\n",
      "Processing chromosome 19 for YRI...\n"
     ]
    },
    {
     "name": "stderr",
     "output_type": "stream",
     "text": [
      "\n"
     ]
    },
    {
     "name": "stdout",
     "output_type": "stream",
     "text": [
      "Converting genotypes for 367 variants and 108 samples...\n"
     ]
    },
    {
     "name": "stderr",
     "output_type": "stream",
     "text": [
      "100%|██████████████████████████████████████| 367/367 [00:00<00:00, 78272.63it/s]"
     ]
    },
    {
     "name": "stdout",
     "output_type": "stream",
     "text": [
      "\n",
      "Genotype distribution:\n",
      "Genotype 0: 37855 (95.51%)\n",
      "Genotype 1: 1246 (3.14%)\n",
      "Genotype 2: 535 (1.35%)\n",
      "Processing chromosome 20 for YRI...\n"
     ]
    },
    {
     "name": "stderr",
     "output_type": "stream",
     "text": [
      "\n"
     ]
    },
    {
     "name": "stdout",
     "output_type": "stream",
     "text": [
      "Converting genotypes for 571 variants and 108 samples...\n"
     ]
    },
    {
     "name": "stderr",
     "output_type": "stream",
     "text": [
      "100%|██████████████████████████████████████| 571/571 [00:00<00:00, 78561.51it/s]"
     ]
    },
    {
     "name": "stdout",
     "output_type": "stream",
     "text": [
      "\n",
      "Genotype distribution:\n",
      "Genotype 0: 57329 (92.96%)\n",
      "Genotype 1: 2550 (4.14%)\n",
      "Genotype 2: 1789 (2.90%)\n",
      "Processing chromosome 21 for YRI...\n"
     ]
    },
    {
     "name": "stderr",
     "output_type": "stream",
     "text": [
      "\n"
     ]
    },
    {
     "name": "stdout",
     "output_type": "stream",
     "text": [
      "Converting genotypes for 340 variants and 108 samples...\n"
     ]
    },
    {
     "name": "stderr",
     "output_type": "stream",
     "text": [
      "100%|██████████████████████████████████████| 340/340 [00:00<00:00, 82747.09it/s]"
     ]
    },
    {
     "name": "stdout",
     "output_type": "stream",
     "text": [
      "\n",
      "Genotype distribution:\n",
      "Genotype 0: 34555 (94.10%)\n",
      "Genotype 1: 1518 (4.13%)\n",
      "Genotype 2: 639 (1.74%)\n",
      "Genotype 9: 8 (0.02%)\n",
      "Processing chromosome 22 for YRI...\n",
      "Converting genotypes for 286 variants and 108 samples...\n"
     ]
    },
    {
     "name": "stderr",
     "output_type": "stream",
     "text": [
      "\n",
      "100%|██████████████████████████████████████| 286/286 [00:00<00:00, 75302.63it/s]\n"
     ]
    },
    {
     "name": "stdout",
     "output_type": "stream",
     "text": [
      "\n",
      "Genotype distribution:\n",
      "Genotype 0: 28586 (92.55%)\n",
      "Genotype 1: 1324 (4.29%)\n",
      "Genotype 2: 881 (2.85%)\n",
      "Genotype 9: 97 (0.31%)\n",
      "\n",
      "Writing genotypes to ../data/1000g/populations/YRI.geno...\n"
     ]
    },
    {
     "name": "stderr",
     "output_type": "stream",
     "text": [
      "100%|██████████████████████████████████| 21664/21664 [00:00<00:00, 41390.28it/s]"
     ]
    },
    {
     "name": "stdout",
     "output_type": "stream",
     "text": [
      "\n",
      "Conversion complete for YRI!\n",
      "Files created:\n",
      "1. ../data/1000g/populations/YRI.snp - SNP information (21664 variants)\n",
      "2. ../data/1000g/populations/YRI.ind - Sample information (108 samples)\n",
      "3. ../data/1000g/populations/YRI.geno - Genotype data\n",
      "\n",
      "Final genotype distribution:\n",
      "Genotype 0: 2186118 (93.44%)\n",
      "Genotype 1: 99371 (4.25%)\n",
      "Genotype 2: 52447 (2.24%)\n",
      "Genotype 9: 1776 (0.08%)\n"
     ]
    },
    {
     "name": "stderr",
     "output_type": "stream",
     "text": [
      "\n"
     ]
    }
   ],
   "source": [
    "import os\n",
    "import subprocess\n",
    "import pandas as pd\n",
    "import numpy as np\n",
    "from tqdm import tqdm\n",
    "import tempfile\n",
    "\n",
    "class VCFPopulationConverter:\n",
    "    def __init__(self, data_dir: str = '../data/1000g', common_snps_dir: str = '../data/common_snps'):\n",
    "        self.data_dir = data_dir\n",
    "        self.common_snps_dir = common_snps_dir\n",
    "        self.output_dir = os.path.join(data_dir, 'populations')\n",
    "        os.makedirs(self.output_dir, exist_ok=True)\n",
    "        \n",
    "        # Load population mapping\n",
    "        self.sample_pop_map = self._load_population_mapping()\n",
    "    \n",
    "    def _load_population_mapping(self):\n",
    "        panel_file = os.path.join(self.data_dir, 'integrated_call_samples.panel')\n",
    "        panel_df = pd.read_csv(panel_file, sep='\\t')\n",
    "        return dict(zip(panel_df['sample'], panel_df['pop']))\n",
    "    \n",
    "    def _get_population_samples(self, population):\n",
    "        samples = [sample for sample, pop in self.sample_pop_map.items() \n",
    "                  if pop == population]\n",
    "        return sorted(samples)\n",
    "    \n",
    "    def _convert_chromosome(self, chrom, population, samples):\n",
    "        \"\"\"Convert a single chromosome for a population\"\"\"\n",
    "        print(f\"Processing chromosome {chrom} for {population}...\")\n",
    "        \n",
    "        # Input VCF file\n",
    "        vcf_file = os.path.join(self.common_snps_dir, f'common_snps.chr{chrom}.vcf.gz')\n",
    "        \n",
    "        # Create temporary directory\n",
    "        with tempfile.TemporaryDirectory() as temp_dir:\n",
    "            # Create sample file\n",
    "            sample_file = os.path.join(temp_dir, 'samples.txt')\n",
    "            with open(sample_file, 'w') as f:\n",
    "                for sample in samples:\n",
    "                    f.write(f\"{sample}\\n\")\n",
    "            \n",
    "            # Extract population VCF\n",
    "            temp_vcf = os.path.join(temp_dir, f'temp_{population}.vcf.gz')\n",
    "            cmd = f\"bcftools view -S {sample_file} -Oz -o {temp_vcf} {vcf_file}\"\n",
    "            subprocess.run(cmd, shell=True, check=True)\n",
    "            subprocess.run(f\"bcftools index {temp_vcf}\", shell=True, check=True)\n",
    "            \n",
    "            # Get variant info\n",
    "            variant_file = os.path.join(temp_dir, 'variants.txt')\n",
    "            cmd = f\"bcftools query -f '%CHROM\\t%POS\\t%REF\\t%ALT\\n' {temp_vcf} > {variant_file}\"\n",
    "            subprocess.run(cmd, shell=True, check=True)\n",
    "            \n",
    "            variant_data = pd.read_csv(variant_file, sep='\\t',\n",
    "                                     names=['chromosome', 'position', 'ref', 'alt'])\n",
    "            n_variants = len(variant_data)\n",
    "            \n",
    "            # Get and convert genotypes\n",
    "            geno_file = os.path.join(temp_dir, 'genotypes.txt')\n",
    "            cmd = f\"bcftools query -f '%CHROM\\t%POS[\\t%GT]\\n' {temp_vcf} > {geno_file}\"\n",
    "            subprocess.run(cmd, shell=True, check=True)\n",
    "            \n",
    "            # Read and convert genotypes\n",
    "            n_samples = len(samples)\n",
    "            geno_array = np.zeros((n_variants, n_samples), dtype=np.uint8)\n",
    "            \n",
    "            print(f\"Converting genotypes for {n_variants} variants and {n_samples} samples...\")\n",
    "            with open(geno_file, 'r') as f:\n",
    "                for i, line in enumerate(tqdm(f, total=n_variants)):\n",
    "                    parts = line.strip().split('\\t')\n",
    "                    gts = parts[2:]  # Skip CHROM and POS\n",
    "                    \n",
    "                    for j, gt in enumerate(gts):\n",
    "                        if gt in ['0|0', '0/0']:\n",
    "                            code = 0\n",
    "                        elif gt in ['0|1', '1|0', '0/1', '1/0']:\n",
    "                            code = 1\n",
    "                        elif gt in ['1|1', '1/1']:\n",
    "                            code = 2\n",
    "                        else:\n",
    "                            code = 9\n",
    "                        geno_array[i, j] = code\n",
    "            \n",
    "            # Verify genotype conversion\n",
    "            unique_gts = np.unique(geno_array, return_counts=True)\n",
    "            print(\"\\nGenotype distribution:\")\n",
    "            for gt, count in zip(*unique_gts):\n",
    "                print(f\"Genotype {gt}: {count} ({count/(n_variants*n_samples)*100:.2f}%)\")\n",
    "        \n",
    "        return geno_array, variant_data\n",
    "    \n",
    "    def convert_population(self, population):\n",
    "        \"\"\"Convert all chromosomes for a population to HapMap format\"\"\"\n",
    "        print(f\"Converting data for population: {population}\")\n",
    "        \n",
    "        # Get samples\n",
    "        samples = self._get_population_samples(population)\n",
    "        if not samples:\n",
    "            raise ValueError(f\"No samples found for population {population}\")\n",
    "        \n",
    "        print(f\"Found {len(samples)} samples for {population}\")\n",
    "        \n",
    "        # Process chromosomes\n",
    "        all_genotypes = []\n",
    "        all_variants = []\n",
    "        \n",
    "        for chrom in range(1, 23):\n",
    "            geno_array, variant_data = self._convert_chromosome(chrom, population, samples)\n",
    "            all_genotypes.append(geno_array)\n",
    "            all_variants.append(variant_data)\n",
    "        \n",
    "        # Combine data\n",
    "        final_genotypes = np.vstack(all_genotypes)\n",
    "        final_variants = pd.concat(all_variants, ignore_index=True)\n",
    "        \n",
    "        # Save output files\n",
    "        output_prefix = os.path.join(self.output_dir, population)\n",
    "        \n",
    "        # 1. SNP file\n",
    "        final_variants['morgans'] = 0.0\n",
    "        snp_file = f\"{output_prefix}.snp\"\n",
    "        final_variants.to_csv(snp_file, sep='\\t', index=False, header=False)\n",
    "        \n",
    "        # 2. Sample file\n",
    "        ind_data = pd.DataFrame({\n",
    "            'sample': samples,\n",
    "            'sex': 'U',\n",
    "            'pop': population\n",
    "        })\n",
    "        ind_file = f\"{output_prefix}.ind\"\n",
    "        ind_data.to_csv(ind_file, sep='\\t', index=False, header=False)\n",
    "        \n",
    "        # 3. Genotype file\n",
    "        geno_file = f\"{output_prefix}.geno\"\n",
    "        print(f\"\\nWriting genotypes to {geno_file}...\")\n",
    "        with open(geno_file, 'w') as f:\n",
    "            for row in tqdm(final_genotypes):\n",
    "                f.write(''.join(map(str, row)) + '\\n')\n",
    "        \n",
    "        print(f\"\\nConversion complete for {population}!\")\n",
    "        print(f\"Files created:\")\n",
    "        print(f\"1. {snp_file} - SNP information ({len(final_variants)} variants)\")\n",
    "        print(f\"2. {ind_file} - Sample information ({len(samples)} samples)\")\n",
    "        print(f\"3. {geno_file} - Genotype data\")\n",
    "        \n",
    "        # Print final statistics\n",
    "        total_gts = final_genotypes.size\n",
    "        gt_counts = np.unique(final_genotypes, return_counts=True)\n",
    "        print(\"\\nFinal genotype distribution:\")\n",
    "        for gt, count in zip(*gt_counts):\n",
    "            print(f\"Genotype {gt}: {count} ({count/total_gts*100:.2f}%)\")\n",
    "        \n",
    "        return final_genotypes, final_variants, samples\n",
    "\n",
    "    def convert_all_populations(self, populations=None):\n",
    "        if populations is None:\n",
    "            populations = ['ASW', 'CEU', 'CHB', 'JPT', 'LWK', 'MXL', 'TSI', 'YRI']\n",
    "        \n",
    "        for population in populations:\n",
    "            try:\n",
    "                print(f\"\\nProcessing population: {population}\")\n",
    "                self.convert_population(population)\n",
    "            except Exception as e:\n",
    "                print(f\"Error processing population {population}: {e}\")\n",
    "\n",
    "if __name__ == \"__main__\":\n",
    "    converter = VCFPopulationConverter()\n",
    "    converter.convert_all_populations()"
   ]
  },
  {
   "cell_type": "code",
   "execution_count": 7,
   "id": "8e65fdf9",
   "metadata": {},
   "outputs": [
    {
     "name": "stdout",
     "output_type": "stream",
     "text": [
      "Starting MAF filtering for all chromosomes...\n",
      "Processing ../data/1000g/filtered.chr1.phase3.vcf.gz\n",
      "Filtering variants with MAF < 5%...\n",
      "Processing ../data/1000g/filtered.chr2.phase3.vcf.gz\n",
      "Filtering variants with MAF < 5%...\n",
      "Processing ../data/1000g/filtered.chr3.phase3.vcf.gz\n",
      "Filtering variants with MAF < 5%...\n",
      "Processing ../data/1000g/filtered.chr4.phase3.vcf.gz\n",
      "Filtering variants with MAF < 5%...\n",
      "Processing ../data/1000g/filtered.chr5.phase3.vcf.gz\n",
      "Filtering variants with MAF < 5%...\n",
      "Processing ../data/1000g/filtered.chr6.phase3.vcf.gz\n",
      "Filtering variants with MAF < 5%...\n",
      "Processing ../data/1000g/filtered.chr7.phase3.vcf.gz\n",
      "Filtering variants with MAF < 5%...\n",
      "Processing ../data/1000g/filtered.chr8.phase3.vcf.gz\n",
      "Filtering variants with MAF < 5%...\n",
      "Processing ../data/1000g/filtered.chr9.phase3.vcf.gz\n",
      "Filtering variants with MAF < 5%...\n",
      "Processing ../data/1000g/filtered.chr10.phase3.vcf.gz\n",
      "Filtering variants with MAF < 5%...\n",
      "Processing ../data/1000g/filtered.chr11.phase3.vcf.gz\n",
      "Filtering variants with MAF < 5%...\n",
      "Processing ../data/1000g/filtered.chr12.phase3.vcf.gz\n",
      "Filtering variants with MAF < 5%...\n",
      "Processing ../data/1000g/filtered.chr13.phase3.vcf.gz\n",
      "Filtering variants with MAF < 5%...\n",
      "Processing ../data/1000g/filtered.chr14.phase3.vcf.gz\n",
      "Filtering variants with MAF < 5%...\n",
      "Processing ../data/1000g/filtered.chr15.phase3.vcf.gz\n",
      "Filtering variants with MAF < 5%...\n",
      "Processing ../data/1000g/filtered.chr16.phase3.vcf.gz\n",
      "Filtering variants with MAF < 5%...\n",
      "Processing ../data/1000g/filtered.chr17.phase3.vcf.gz\n",
      "Filtering variants with MAF < 5%...\n",
      "Processing ../data/1000g/filtered.chr18.phase3.vcf.gz\n",
      "Filtering variants with MAF < 5%...\n",
      "Processing ../data/1000g/filtered.chr19.phase3.vcf.gz\n",
      "Filtering variants with MAF < 5%...\n",
      "Processing ../data/1000g/filtered.chr20.phase3.vcf.gz\n",
      "Filtering variants with MAF < 5%...\n",
      "Processing ../data/1000g/filtered.chr21.phase3.vcf.gz\n",
      "Filtering variants with MAF < 5%...\n",
      "Processing ../data/1000g/filtered.chr22.phase3.vcf.gz\n",
      "Filtering variants with MAF < 5%...\n",
      "\n",
      "MAF Filtering Summary:\n",
      "    chromosome  filtered_variants  \\\n",
      "0            1             633841   \n",
      "1            2             675710   \n",
      "2            3             583523   \n",
      "3            4             603946   \n",
      "4            5             512157   \n",
      "5            6             548585   \n",
      "6            7             482234   \n",
      "7            8             447449   \n",
      "8            9             353854   \n",
      "9           10             416405   \n",
      "10          11             400116   \n",
      "11          12             392922   \n",
      "12          13             297420   \n",
      "13          14             267809   \n",
      "14          15             241113   \n",
      "15          16             255765   \n",
      "16          17             227840   \n",
      "17          18             231990   \n",
      "18          19             195210   \n",
      "19          20             178461   \n",
      "20          21             119743   \n",
      "21          22             116458   \n",
      "\n",
      "                                          output_file  \n",
      "0   ../data/1000g/maf_filtered/maf_filtered.chr1.p...  \n",
      "1   ../data/1000g/maf_filtered/maf_filtered.chr2.p...  \n",
      "2   ../data/1000g/maf_filtered/maf_filtered.chr3.p...  \n",
      "3   ../data/1000g/maf_filtered/maf_filtered.chr4.p...  \n",
      "4   ../data/1000g/maf_filtered/maf_filtered.chr5.p...  \n",
      "5   ../data/1000g/maf_filtered/maf_filtered.chr6.p...  \n",
      "6   ../data/1000g/maf_filtered/maf_filtered.chr7.p...  \n",
      "7   ../data/1000g/maf_filtered/maf_filtered.chr8.p...  \n",
      "8   ../data/1000g/maf_filtered/maf_filtered.chr9.p...  \n",
      "9   ../data/1000g/maf_filtered/maf_filtered.chr10....  \n",
      "10  ../data/1000g/maf_filtered/maf_filtered.chr11....  \n",
      "11  ../data/1000g/maf_filtered/maf_filtered.chr12....  \n",
      "12  ../data/1000g/maf_filtered/maf_filtered.chr13....  \n",
      "13  ../data/1000g/maf_filtered/maf_filtered.chr14....  \n",
      "14  ../data/1000g/maf_filtered/maf_filtered.chr15....  \n",
      "15  ../data/1000g/maf_filtered/maf_filtered.chr16....  \n",
      "16  ../data/1000g/maf_filtered/maf_filtered.chr17....  \n",
      "17  ../data/1000g/maf_filtered/maf_filtered.chr18....  \n",
      "18  ../data/1000g/maf_filtered/maf_filtered.chr19....  \n",
      "19  ../data/1000g/maf_filtered/maf_filtered.chr20....  \n",
      "20  ../data/1000g/maf_filtered/maf_filtered.chr21....  \n",
      "21  ../data/1000g/maf_filtered/maf_filtered.chr22....  \n",
      "\n",
      "Total variants after filtering: 8,182,551\n",
      "\n",
      "Detailed summary saved to: ../data/1000g/maf_filtered/maf_filtering_summary.csv\n",
      "\n",
      "Filtering complete!\n",
      "Filtered VCF files are saved in: ../data/1000g/maf_filtered\n"
     ]
    }
   ],
   "source": [
    "import os\n",
    "import subprocess\n",
    "from tqdm import tqdm\n",
    "import pandas as pd\n",
    "\n",
    "class MAFFilter:\n",
    "    def __init__(self, data_dir='../data/1000g', output_dir=None):\n",
    "        self.data_dir = data_dir\n",
    "        self.output_dir = output_dir or os.path.join(data_dir, 'maf_filtered')\n",
    "        os.makedirs(self.output_dir, exist_ok=True)\n",
    "    \n",
    "    def calculate_maf(self, vcf_file: str, output_file: str):\n",
    "        \"\"\"Calculate MAF for each variant and filter those with MAF < 5%\"\"\"\n",
    "        print(f\"Processing {vcf_file}\")\n",
    "        \n",
    "        # Calculate allele frequencies using bcftools\n",
    "        cmd = (f\"bcftools +fill-tags {vcf_file} -- -t AF,MAF | \"\n",
    "               f\"bcftools view -i 'MAF >= 0.05' -Oz -o {output_file}\")\n",
    "        \n",
    "        print(\"Filtering variants with MAF < 5%...\")\n",
    "        subprocess.run(cmd, shell=True, check=True)\n",
    "        \n",
    "        # Index the filtered file\n",
    "        subprocess.run(f\"bcftools index {output_file}\", shell=True, check=True)\n",
    "        \n",
    "        # Get statistics\n",
    "        stats_cmd = f\"bcftools stats {output_file}\"\n",
    "        stats = subprocess.run(stats_cmd, shell=True, capture_output=True, text=True).stdout\n",
    "        \n",
    "        return output_file, stats\n",
    "    \n",
    "    def filter_all_chromosomes(self):\n",
    "        \"\"\"Filter all chromosomes\"\"\"\n",
    "        results = []\n",
    "        \n",
    "        for chrom in range(1, 23):\n",
    "            input_vcf = os.path.join(self.data_dir, \n",
    "                                   f'filtered.chr{chrom}.phase3.vcf.gz')\n",
    "            output_vcf = os.path.join(self.output_dir, \n",
    "                                    f'maf_filtered.chr{chrom}.phase3.vcf.gz')\n",
    "            \n",
    "            if not os.path.exists(input_vcf):\n",
    "                print(f\"Warning: Input file not found: {input_vcf}\")\n",
    "                continue\n",
    "            \n",
    "            # Calculate MAF and filter\n",
    "            filtered_file, stats = self.calculate_maf(input_vcf, output_vcf)\n",
    "            \n",
    "            # Extract key statistics\n",
    "            variant_counts = {}\n",
    "            for line in stats.split('\\n'):\n",
    "                if line.startswith('SN'):\n",
    "                    if 'number of records:' in line:\n",
    "                        variant_counts['total'] = int(line.split()[-1])\n",
    "            \n",
    "            results.append({\n",
    "                'chromosome': chrom,\n",
    "                'filtered_variants': variant_counts.get('total', 0),\n",
    "                'output_file': filtered_file\n",
    "            })\n",
    "        \n",
    "        # Create summary\n",
    "        summary_df = pd.DataFrame(results)\n",
    "        summary_file = os.path.join(self.output_dir, 'maf_filtering_summary.csv')\n",
    "        summary_df.to_csv(summary_file, index=False)\n",
    "        \n",
    "        print(\"\\nMAF Filtering Summary:\")\n",
    "        print(summary_df)\n",
    "        print(f\"\\nTotal variants after filtering: {summary_df['filtered_variants'].sum():,}\")\n",
    "        print(f\"\\nDetailed summary saved to: {summary_file}\")\n",
    "        \n",
    "        return summary_df\n",
    "\n",
    "def main():\n",
    "    # Initialize filter\n",
    "    maf_filter = MAFFilter()\n",
    "    \n",
    "    # Run filtering\n",
    "    print(\"Starting MAF filtering for all chromosomes...\")\n",
    "    summary = maf_filter.filter_all_chromosomes()\n",
    "    \n",
    "    print(\"\\nFiltering complete!\")\n",
    "    print(\"Filtered VCF files are saved in:\", maf_filter.output_dir)\n",
    "\n",
    "if __name__ == \"__main__\":\n",
    "    main()"
   ]
  },
  {
   "cell_type": "code",
   "execution_count": 11,
   "id": "95b812bc",
   "metadata": {},
   "outputs": [
    {
     "name": "stdout",
     "output_type": "stream",
     "text": [
      "\n",
      "Processing population: ASW\n",
      "Loading common SNP positions...\n",
      "Chromosome 1: 1617 common SNPs\n",
      "Chromosome 2: 1786 common SNPs\n",
      "Chromosome 3: 1446 common SNPs\n",
      "Chromosome 4: 1366 common SNPs\n",
      "Chromosome 5: 1325 common SNPs\n",
      "Chromosome 6: 1423 common SNPs\n",
      "Chromosome 7: 1215 common SNPs\n",
      "Chromosome 8: 1382 common SNPs\n",
      "Chromosome 9: 1038 common SNPs\n",
      "Chromosome 10: 1128 common SNPs\n",
      "Chromosome 11: 1154 common SNPs\n",
      "Chromosome 12: 1046 common SNPs\n",
      "Chromosome 13: 773 common SNPs\n",
      "Chromosome 14: 667 common SNPs\n",
      "Chromosome 15: 637 common SNPs\n",
      "Chromosome 16: 835 common SNPs\n",
      "Chromosome 17: 664 common SNPs\n",
      "Chromosome 18: 598 common SNPs\n",
      "Chromosome 19: 367 common SNPs\n",
      "Chromosome 20: 571 common SNPs\n",
      "Chromosome 21: 340 common SNPs\n",
      "Chromosome 22: 286 common SNPs\n",
      "\n",
      "Reading HapMap3 data...\n",
      "Reading data from /Users/jingl1/Desktop/CMU/02704/hw_data/02704_data/ASW\n",
      "Read 718848 SNPs\n",
      "Sample SNP data:\n",
      "          SNP  chromosome  morgans  position ref alt\n",
      "0   rs3131972           1      0.0    742584   G   A\n",
      "1   rs3131969           1      0.0    744045   G   A\n",
      "2   rs3131967           1      0.0    744197   C   T\n",
      "3   rs1048488           1      0.0    750775   T   C\n",
      "4  rs12562034           1      0.0    758311   G   A\n",
      "Read 49 samples\n",
      "Reading genotype data...\n"
     ]
    },
    {
     "name": "stderr",
     "output_type": "stream",
     "text": [
      "718848it [00:02, 264627.22it/s]\n",
      "Traceback (most recent call last):\n",
      "  File \"/var/folders/96/2s64979965l0x1hmvz6rctxh0000gp/T/ipykernel_35761/819443221.py\", line 154, in filter_all_populations\n",
      "    self.filter_population(population)\n",
      "  File \"/var/folders/96/2s64979965l0x1hmvz6rctxh0000gp/T/ipykernel_35761/819443221.py\", line 128, in filter_population\n",
      "    raise ValueError(\"No matching SNPs found! Please check the chromosome numbering and position matching logic.\")\n",
      "ValueError: No matching SNPs found! Please check the chromosome numbering and position matching logic.\n"
     ]
    },
    {
     "name": "stdout",
     "output_type": "stream",
     "text": [
      "Genotype array shape: (718848, 49)\n",
      "\n",
      "Chromosome distribution in HapMap data:\n",
      "chromosome\n",
      "1     55983\n",
      "2     58409\n",
      "3     48655\n",
      "4     43809\n",
      "5     45045\n",
      "6     46016\n",
      "7     38578\n",
      "8     38291\n",
      "9     32252\n",
      "10    36847\n",
      "11    36514\n",
      "12    33528\n",
      "13    26595\n",
      "14    22956\n",
      "15    21459\n",
      "16    22191\n",
      "17    19210\n",
      "18    21196\n",
      "19    13472\n",
      "20    18359\n",
      "21    10281\n",
      "22     9447\n",
      "23    19755\n",
      "Name: count, dtype: int64\n",
      "\n",
      "Finding common SNPs...\n",
      "Error processing population ASW: No matching SNPs found! Please check the chromosome numbering and position matching logic.\n",
      "\n",
      "Processing population: CEU\n",
      "Loading common SNP positions...\n",
      "Chromosome 1: 1617 common SNPs\n",
      "Chromosome 2: 1786 common SNPs\n",
      "Chromosome 3: 1446 common SNPs\n",
      "Chromosome 4: 1366 common SNPs\n",
      "Chromosome 5: 1325 common SNPs\n",
      "Chromosome 6: 1423 common SNPs\n",
      "Chromosome 7: 1215 common SNPs\n",
      "Chromosome 8: 1382 common SNPs\n",
      "Chromosome 9: 1038 common SNPs\n",
      "Chromosome 10: 1128 common SNPs\n",
      "Chromosome 11: 1154 common SNPs\n",
      "Chromosome 12: 1046 common SNPs\n",
      "Chromosome 13: 773 common SNPs\n",
      "Chromosome 14: 667 common SNPs\n",
      "Chromosome 15: 637 common SNPs\n",
      "Chromosome 16: 835 common SNPs\n",
      "Chromosome 17: 664 common SNPs\n",
      "Chromosome 18: 598 common SNPs\n",
      "Chromosome 19: 367 common SNPs\n",
      "Chromosome 20: 571 common SNPs\n",
      "Chromosome 21: 340 common SNPs\n",
      "Chromosome 22: 286 common SNPs\n",
      "\n",
      "Reading HapMap3 data...\n",
      "Reading data from /Users/jingl1/Desktop/CMU/02704/hw_data/02704_data/CEU\n",
      "Read 718848 SNPs\n",
      "Sample SNP data:\n",
      "          SNP  chromosome  morgans  position ref alt\n",
      "0   rs3131972           1      0.0    742584   G   A\n",
      "1   rs3131969           1      0.0    744045   G   A\n",
      "2   rs3131967           1      0.0    744197   C   T\n",
      "3   rs1048488           1      0.0    750775   T   C\n",
      "4  rs12562034           1      0.0    758311   G   A\n",
      "Read 112 samples\n",
      "Reading genotype data...\n"
     ]
    },
    {
     "name": "stderr",
     "output_type": "stream",
     "text": [
      "718848it [00:05, 124886.73it/s]\n",
      "Traceback (most recent call last):\n",
      "  File \"/var/folders/96/2s64979965l0x1hmvz6rctxh0000gp/T/ipykernel_35761/819443221.py\", line 154, in filter_all_populations\n",
      "    self.filter_population(population)\n",
      "  File \"/var/folders/96/2s64979965l0x1hmvz6rctxh0000gp/T/ipykernel_35761/819443221.py\", line 128, in filter_population\n",
      "    raise ValueError(\"No matching SNPs found! Please check the chromosome numbering and position matching logic.\")\n",
      "ValueError: No matching SNPs found! Please check the chromosome numbering and position matching logic.\n"
     ]
    },
    {
     "name": "stdout",
     "output_type": "stream",
     "text": [
      "Genotype array shape: (718848, 112)\n",
      "\n",
      "Chromosome distribution in HapMap data:\n",
      "chromosome\n",
      "1     55983\n",
      "2     58409\n",
      "3     48655\n",
      "4     43809\n",
      "5     45045\n",
      "6     46016\n",
      "7     38578\n",
      "8     38291\n",
      "9     32252\n",
      "10    36847\n",
      "11    36514\n",
      "12    33528\n",
      "13    26595\n",
      "14    22956\n",
      "15    21459\n",
      "16    22191\n",
      "17    19210\n",
      "18    21196\n",
      "19    13472\n",
      "20    18359\n",
      "21    10281\n",
      "22     9447\n",
      "23    19755\n",
      "Name: count, dtype: int64\n",
      "\n",
      "Finding common SNPs...\n",
      "Error processing population CEU: No matching SNPs found! Please check the chromosome numbering and position matching logic.\n",
      "\n",
      "Processing population: CHB\n",
      "Loading common SNP positions...\n",
      "Chromosome 1: 1617 common SNPs\n",
      "Chromosome 2: 1786 common SNPs\n",
      "Chromosome 3: 1446 common SNPs\n",
      "Chromosome 4: 1366 common SNPs\n",
      "Chromosome 5: 1325 common SNPs\n",
      "Chromosome 6: 1423 common SNPs\n",
      "Chromosome 7: 1215 common SNPs\n",
      "Chromosome 8: 1382 common SNPs\n",
      "Chromosome 9: 1038 common SNPs\n",
      "Chromosome 10: 1128 common SNPs\n",
      "Chromosome 11: 1154 common SNPs\n",
      "Chromosome 12: 1046 common SNPs\n",
      "Chromosome 13: 773 common SNPs\n",
      "Chromosome 14: 667 common SNPs\n",
      "Chromosome 15: 637 common SNPs\n",
      "Chromosome 16: 835 common SNPs\n",
      "Chromosome 17: 664 common SNPs\n",
      "Chromosome 18: 598 common SNPs\n",
      "Chromosome 19: 367 common SNPs\n",
      "Chromosome 20: 571 common SNPs\n",
      "Chromosome 21: 340 common SNPs\n",
      "Chromosome 22: 286 common SNPs\n",
      "\n",
      "Reading HapMap3 data...\n",
      "Reading data from /Users/jingl1/Desktop/CMU/02704/hw_data/02704_data/CHB\n",
      "Read 718848 SNPs\n",
      "Sample SNP data:\n",
      "          SNP  chromosome  morgans  position ref alt\n",
      "0   rs3131972           1      0.0    742584   G   A\n",
      "1   rs3131969           1      0.0    744045   G   A\n",
      "2   rs3131967           1      0.0    744197   C   T\n",
      "3   rs1048488           1      0.0    750775   T   C\n",
      "4  rs12562034           1      0.0    758311   G   A\n",
      "Read 84 samples\n",
      "Reading genotype data...\n"
     ]
    },
    {
     "name": "stderr",
     "output_type": "stream",
     "text": [
      "718848it [00:04, 163231.68it/s]\n",
      "Traceback (most recent call last):\n",
      "  File \"/var/folders/96/2s64979965l0x1hmvz6rctxh0000gp/T/ipykernel_35761/819443221.py\", line 154, in filter_all_populations\n",
      "    self.filter_population(population)\n",
      "  File \"/var/folders/96/2s64979965l0x1hmvz6rctxh0000gp/T/ipykernel_35761/819443221.py\", line 128, in filter_population\n",
      "    raise ValueError(\"No matching SNPs found! Please check the chromosome numbering and position matching logic.\")\n",
      "ValueError: No matching SNPs found! Please check the chromosome numbering and position matching logic.\n"
     ]
    },
    {
     "name": "stdout",
     "output_type": "stream",
     "text": [
      "Genotype array shape: (718848, 84)\n",
      "\n",
      "Chromosome distribution in HapMap data:\n",
      "chromosome\n",
      "1     55983\n",
      "2     58409\n",
      "3     48655\n",
      "4     43809\n",
      "5     45045\n",
      "6     46016\n",
      "7     38578\n",
      "8     38291\n",
      "9     32252\n",
      "10    36847\n",
      "11    36514\n",
      "12    33528\n",
      "13    26595\n",
      "14    22956\n",
      "15    21459\n",
      "16    22191\n",
      "17    19210\n",
      "18    21196\n",
      "19    13472\n",
      "20    18359\n",
      "21    10281\n",
      "22     9447\n",
      "23    19755\n",
      "Name: count, dtype: int64\n",
      "\n",
      "Finding common SNPs...\n",
      "Error processing population CHB: No matching SNPs found! Please check the chromosome numbering and position matching logic.\n",
      "\n",
      "Processing population: JPT\n",
      "Loading common SNP positions...\n",
      "Chromosome 1: 1617 common SNPs\n",
      "Chromosome 2: 1786 common SNPs\n",
      "Chromosome 3: 1446 common SNPs\n",
      "Chromosome 4: 1366 common SNPs\n",
      "Chromosome 5: 1325 common SNPs\n",
      "Chromosome 6: 1423 common SNPs\n",
      "Chromosome 7: 1215 common SNPs\n",
      "Chromosome 8: 1382 common SNPs\n",
      "Chromosome 9: 1038 common SNPs\n",
      "Chromosome 10: 1128 common SNPs\n",
      "Chromosome 11: 1154 common SNPs\n",
      "Chromosome 12: 1046 common SNPs\n",
      "Chromosome 13: 773 common SNPs\n",
      "Chromosome 14: 667 common SNPs\n",
      "Chromosome 15: 637 common SNPs\n",
      "Chromosome 16: 835 common SNPs\n",
      "Chromosome 17: 664 common SNPs\n",
      "Chromosome 18: 598 common SNPs\n",
      "Chromosome 19: 367 common SNPs\n",
      "Chromosome 20: 571 common SNPs\n",
      "Chromosome 21: 340 common SNPs\n",
      "Chromosome 22: 286 common SNPs\n",
      "\n",
      "Reading HapMap3 data...\n",
      "Reading data from /Users/jingl1/Desktop/CMU/02704/hw_data/02704_data/JPT\n",
      "Read 718848 SNPs\n",
      "Sample SNP data:\n",
      "          SNP  chromosome  morgans  position ref alt\n",
      "0   rs3131972           1      0.0    742584   G   A\n",
      "1   rs3131969           1      0.0    744045   G   A\n",
      "2   rs3131967           1      0.0    744197   C   T\n",
      "3   rs1048488           1      0.0    750775   T   C\n",
      "4  rs12562034           1      0.0    758311   G   A\n",
      "Read 86 samples\n",
      "Reading genotype data...\n"
     ]
    },
    {
     "name": "stderr",
     "output_type": "stream",
     "text": [
      "718848it [00:04, 167225.68it/s]\n",
      "Traceback (most recent call last):\n",
      "  File \"/var/folders/96/2s64979965l0x1hmvz6rctxh0000gp/T/ipykernel_35761/819443221.py\", line 154, in filter_all_populations\n",
      "    self.filter_population(population)\n",
      "  File \"/var/folders/96/2s64979965l0x1hmvz6rctxh0000gp/T/ipykernel_35761/819443221.py\", line 128, in filter_population\n",
      "    raise ValueError(\"No matching SNPs found! Please check the chromosome numbering and position matching logic.\")\n",
      "ValueError: No matching SNPs found! Please check the chromosome numbering and position matching logic.\n"
     ]
    },
    {
     "name": "stdout",
     "output_type": "stream",
     "text": [
      "Genotype array shape: (718848, 86)\n",
      "\n",
      "Chromosome distribution in HapMap data:\n",
      "chromosome\n",
      "1     55983\n",
      "2     58409\n",
      "3     48655\n",
      "4     43809\n",
      "5     45045\n",
      "6     46016\n",
      "7     38578\n",
      "8     38291\n",
      "9     32252\n",
      "10    36847\n",
      "11    36514\n",
      "12    33528\n",
      "13    26595\n",
      "14    22956\n",
      "15    21459\n",
      "16    22191\n",
      "17    19210\n",
      "18    21196\n",
      "19    13472\n",
      "20    18359\n",
      "21    10281\n",
      "22     9447\n",
      "23    19755\n",
      "Name: count, dtype: int64\n",
      "\n",
      "Finding common SNPs...\n",
      "Error processing population JPT: No matching SNPs found! Please check the chromosome numbering and position matching logic.\n",
      "\n",
      "Processing population: LWK\n",
      "Loading common SNP positions...\n",
      "Chromosome 1: 1617 common SNPs\n",
      "Chromosome 2: 1786 common SNPs\n",
      "Chromosome 3: 1446 common SNPs\n",
      "Chromosome 4: 1366 common SNPs\n",
      "Chromosome 5: 1325 common SNPs\n",
      "Chromosome 6: 1423 common SNPs\n",
      "Chromosome 7: 1215 common SNPs\n",
      "Chromosome 8: 1382 common SNPs\n",
      "Chromosome 9: 1038 common SNPs\n",
      "Chromosome 10: 1128 common SNPs\n",
      "Chromosome 11: 1154 common SNPs\n",
      "Chromosome 12: 1046 common SNPs\n",
      "Chromosome 13: 773 common SNPs\n",
      "Chromosome 14: 667 common SNPs\n",
      "Chromosome 15: 637 common SNPs\n",
      "Chromosome 16: 835 common SNPs\n",
      "Chromosome 17: 664 common SNPs\n",
      "Chromosome 18: 598 common SNPs\n",
      "Chromosome 19: 367 common SNPs\n",
      "Chromosome 20: 571 common SNPs\n",
      "Chromosome 21: 340 common SNPs\n",
      "Chromosome 22: 286 common SNPs\n",
      "\n",
      "Reading HapMap3 data...\n",
      "Reading data from /Users/jingl1/Desktop/CMU/02704/hw_data/02704_data/LWK\n",
      "Read 718848 SNPs\n",
      "Sample SNP data:\n",
      "          SNP  chromosome  morgans  position ref alt\n",
      "0   rs3131972           1      0.0    742584   G   A\n",
      "1   rs3131969           1      0.0    744045   G   A\n",
      "2   rs3131967           1      0.0    744197   C   T\n",
      "3   rs1048488           1      0.0    750775   T   C\n",
      "4  rs12562034           1      0.0    758311   G   A\n",
      "Read 90 samples\n",
      "Reading genotype data...\n"
     ]
    },
    {
     "name": "stderr",
     "output_type": "stream",
     "text": [
      "718848it [00:04, 159643.60it/s]\n",
      "Traceback (most recent call last):\n",
      "  File \"/var/folders/96/2s64979965l0x1hmvz6rctxh0000gp/T/ipykernel_35761/819443221.py\", line 154, in filter_all_populations\n",
      "    self.filter_population(population)\n",
      "  File \"/var/folders/96/2s64979965l0x1hmvz6rctxh0000gp/T/ipykernel_35761/819443221.py\", line 128, in filter_population\n",
      "    raise ValueError(\"No matching SNPs found! Please check the chromosome numbering and position matching logic.\")\n",
      "ValueError: No matching SNPs found! Please check the chromosome numbering and position matching logic.\n"
     ]
    },
    {
     "name": "stdout",
     "output_type": "stream",
     "text": [
      "Genotype array shape: (718848, 90)\n",
      "\n",
      "Chromosome distribution in HapMap data:\n",
      "chromosome\n",
      "1     55983\n",
      "2     58409\n",
      "3     48655\n",
      "4     43809\n",
      "5     45045\n",
      "6     46016\n",
      "7     38578\n",
      "8     38291\n",
      "9     32252\n",
      "10    36847\n",
      "11    36514\n",
      "12    33528\n",
      "13    26595\n",
      "14    22956\n",
      "15    21459\n",
      "16    22191\n",
      "17    19210\n",
      "18    21196\n",
      "19    13472\n",
      "20    18359\n",
      "21    10281\n",
      "22     9447\n",
      "23    19755\n",
      "Name: count, dtype: int64\n",
      "\n",
      "Finding common SNPs...\n",
      "Error processing population LWK: No matching SNPs found! Please check the chromosome numbering and position matching logic.\n",
      "\n",
      "Processing population: MXL\n",
      "Loading common SNP positions...\n",
      "Chromosome 1: 1617 common SNPs\n",
      "Chromosome 2: 1786 common SNPs\n",
      "Chromosome 3: 1446 common SNPs\n",
      "Chromosome 4: 1366 common SNPs\n",
      "Chromosome 5: 1325 common SNPs\n",
      "Chromosome 6: 1423 common SNPs\n",
      "Chromosome 7: 1215 common SNPs\n",
      "Chromosome 8: 1382 common SNPs\n",
      "Chromosome 9: 1038 common SNPs\n",
      "Chromosome 10: 1128 common SNPs\n",
      "Chromosome 11: 1154 common SNPs\n",
      "Chromosome 12: 1046 common SNPs\n",
      "Chromosome 13: 773 common SNPs\n",
      "Chromosome 14: 667 common SNPs\n",
      "Chromosome 15: 637 common SNPs\n",
      "Chromosome 16: 835 common SNPs\n",
      "Chromosome 17: 664 common SNPs\n",
      "Chromosome 18: 598 common SNPs\n",
      "Chromosome 19: 367 common SNPs\n",
      "Chromosome 20: 571 common SNPs\n",
      "Chromosome 21: 340 common SNPs\n",
      "Chromosome 22: 286 common SNPs\n",
      "\n",
      "Reading HapMap3 data...\n",
      "Reading data from /Users/jingl1/Desktop/CMU/02704/hw_data/02704_data/MXL\n",
      "Read 718848 SNPs\n",
      "Sample SNP data:\n",
      "          SNP  chromosome  morgans  position ref alt\n",
      "0   rs3131972           1      0.0    742584   G   A\n",
      "1   rs3131969           1      0.0    744045   G   A\n",
      "2   rs3131967           1      0.0    744197   C   T\n",
      "3   rs1048488           1      0.0    750775   T   C\n",
      "4  rs12562034           1      0.0    758311   G   A\n",
      "Read 50 samples\n",
      "Reading genotype data...\n"
     ]
    },
    {
     "name": "stderr",
     "output_type": "stream",
     "text": [
      "718848it [00:02, 257880.10it/s]\n",
      "Traceback (most recent call last):\n",
      "  File \"/var/folders/96/2s64979965l0x1hmvz6rctxh0000gp/T/ipykernel_35761/819443221.py\", line 154, in filter_all_populations\n",
      "    self.filter_population(population)\n",
      "  File \"/var/folders/96/2s64979965l0x1hmvz6rctxh0000gp/T/ipykernel_35761/819443221.py\", line 128, in filter_population\n",
      "    raise ValueError(\"No matching SNPs found! Please check the chromosome numbering and position matching logic.\")\n",
      "ValueError: No matching SNPs found! Please check the chromosome numbering and position matching logic.\n"
     ]
    },
    {
     "name": "stdout",
     "output_type": "stream",
     "text": [
      "Genotype array shape: (718848, 50)\n",
      "\n",
      "Chromosome distribution in HapMap data:\n",
      "chromosome\n",
      "1     55983\n",
      "2     58409\n",
      "3     48655\n",
      "4     43809\n",
      "5     45045\n",
      "6     46016\n",
      "7     38578\n",
      "8     38291\n",
      "9     32252\n",
      "10    36847\n",
      "11    36514\n",
      "12    33528\n",
      "13    26595\n",
      "14    22956\n",
      "15    21459\n",
      "16    22191\n",
      "17    19210\n",
      "18    21196\n",
      "19    13472\n",
      "20    18359\n",
      "21    10281\n",
      "22     9447\n",
      "23    19755\n",
      "Name: count, dtype: int64\n",
      "\n",
      "Finding common SNPs...\n",
      "Error processing population MXL: No matching SNPs found! Please check the chromosome numbering and position matching logic.\n",
      "\n",
      "Processing population: TSI\n",
      "Loading common SNP positions...\n",
      "Chromosome 1: 1617 common SNPs\n",
      "Chromosome 2: 1786 common SNPs\n",
      "Chromosome 3: 1446 common SNPs\n",
      "Chromosome 4: 1366 common SNPs\n",
      "Chromosome 5: 1325 common SNPs\n",
      "Chromosome 6: 1423 common SNPs\n",
      "Chromosome 7: 1215 common SNPs\n",
      "Chromosome 8: 1382 common SNPs\n",
      "Chromosome 9: 1038 common SNPs\n",
      "Chromosome 10: 1128 common SNPs\n",
      "Chromosome 11: 1154 common SNPs\n",
      "Chromosome 12: 1046 common SNPs\n",
      "Chromosome 13: 773 common SNPs\n",
      "Chromosome 14: 667 common SNPs\n",
      "Chromosome 15: 637 common SNPs\n",
      "Chromosome 16: 835 common SNPs\n",
      "Chromosome 17: 664 common SNPs\n",
      "Chromosome 18: 598 common SNPs\n",
      "Chromosome 19: 367 common SNPs\n",
      "Chromosome 20: 571 common SNPs\n",
      "Chromosome 21: 340 common SNPs\n",
      "Chromosome 22: 286 common SNPs\n",
      "\n",
      "Reading HapMap3 data...\n",
      "Reading data from /Users/jingl1/Desktop/CMU/02704/hw_data/02704_data/TSI\n",
      "Read 718848 SNPs\n",
      "Sample SNP data:\n",
      "          SNP  chromosome  morgans  position ref alt\n",
      "0   rs3131972           1      0.0    742584   G   A\n",
      "1   rs3131969           1      0.0    744045   G   A\n",
      "2   rs3131967           1      0.0    744197   C   T\n",
      "3   rs1048488           1      0.0    750775   T   C\n",
      "4  rs12562034           1      0.0    758311   G   A\n",
      "Read 88 samples\n",
      "Reading genotype data...\n"
     ]
    },
    {
     "name": "stderr",
     "output_type": "stream",
     "text": [
      "718848it [00:04, 157288.55it/s]\n",
      "Traceback (most recent call last):\n",
      "  File \"/var/folders/96/2s64979965l0x1hmvz6rctxh0000gp/T/ipykernel_35761/819443221.py\", line 154, in filter_all_populations\n",
      "    self.filter_population(population)\n",
      "  File \"/var/folders/96/2s64979965l0x1hmvz6rctxh0000gp/T/ipykernel_35761/819443221.py\", line 128, in filter_population\n",
      "    raise ValueError(\"No matching SNPs found! Please check the chromosome numbering and position matching logic.\")\n",
      "ValueError: No matching SNPs found! Please check the chromosome numbering and position matching logic.\n"
     ]
    },
    {
     "name": "stdout",
     "output_type": "stream",
     "text": [
      "Genotype array shape: (718848, 88)\n",
      "\n",
      "Chromosome distribution in HapMap data:\n",
      "chromosome\n",
      "1     55983\n",
      "2     58409\n",
      "3     48655\n",
      "4     43809\n",
      "5     45045\n",
      "6     46016\n",
      "7     38578\n",
      "8     38291\n",
      "9     32252\n",
      "10    36847\n",
      "11    36514\n",
      "12    33528\n",
      "13    26595\n",
      "14    22956\n",
      "15    21459\n",
      "16    22191\n",
      "17    19210\n",
      "18    21196\n",
      "19    13472\n",
      "20    18359\n",
      "21    10281\n",
      "22     9447\n",
      "23    19755\n",
      "Name: count, dtype: int64\n",
      "\n",
      "Finding common SNPs...\n",
      "Error processing population TSI: No matching SNPs found! Please check the chromosome numbering and position matching logic.\n",
      "\n",
      "Processing population: YRI\n",
      "Loading common SNP positions...\n",
      "Chromosome 1: 1617 common SNPs\n",
      "Chromosome 2: 1786 common SNPs\n",
      "Chromosome 3: 1446 common SNPs\n",
      "Chromosome 4: 1366 common SNPs\n",
      "Chromosome 5: 1325 common SNPs\n",
      "Chromosome 6: 1423 common SNPs\n",
      "Chromosome 7: 1215 common SNPs\n",
      "Chromosome 8: 1382 common SNPs\n",
      "Chromosome 9: 1038 common SNPs\n",
      "Chromosome 10: 1128 common SNPs\n",
      "Chromosome 11: 1154 common SNPs\n",
      "Chromosome 12: 1046 common SNPs\n",
      "Chromosome 13: 773 common SNPs\n",
      "Chromosome 14: 667 common SNPs\n",
      "Chromosome 15: 637 common SNPs\n",
      "Chromosome 16: 835 common SNPs\n",
      "Chromosome 17: 664 common SNPs\n",
      "Chromosome 18: 598 common SNPs\n",
      "Chromosome 19: 367 common SNPs\n",
      "Chromosome 20: 571 common SNPs\n",
      "Chromosome 21: 340 common SNPs\n",
      "Chromosome 22: 286 common SNPs\n",
      "\n",
      "Reading HapMap3 data...\n",
      "Reading data from /Users/jingl1/Desktop/CMU/02704/hw_data/02704_data/YRI\n",
      "Read 718848 SNPs\n",
      "Sample SNP data:\n",
      "          SNP  chromosome  morgans  position ref alt\n",
      "0   rs3131972           1      0.0    742584   G   A\n",
      "1   rs3131969           1      0.0    744045   G   A\n",
      "2   rs3131967           1      0.0    744197   C   T\n",
      "3   rs1048488           1      0.0    750775   T   C\n",
      "4  rs12562034           1      0.0    758311   G   A\n",
      "Read 113 samples\n",
      "Reading genotype data...\n"
     ]
    },
    {
     "name": "stderr",
     "output_type": "stream",
     "text": [
      "718848it [00:05, 124894.56it/s]\n"
     ]
    },
    {
     "name": "stdout",
     "output_type": "stream",
     "text": [
      "Genotype array shape: (718848, 113)\n",
      "\n",
      "Chromosome distribution in HapMap data:\n",
      "chromosome\n",
      "1     55983\n",
      "2     58409\n",
      "3     48655\n",
      "4     43809\n",
      "5     45045\n",
      "6     46016\n",
      "7     38578\n",
      "8     38291\n",
      "9     32252\n",
      "10    36847\n",
      "11    36514\n",
      "12    33528\n",
      "13    26595\n",
      "14    22956\n",
      "15    21459\n",
      "16    22191\n",
      "17    19210\n",
      "18    21196\n",
      "19    13472\n",
      "20    18359\n",
      "21    10281\n",
      "22     9447\n",
      "23    19755\n",
      "Name: count, dtype: int64\n",
      "\n",
      "Finding common SNPs...\n",
      "Error processing population YRI: No matching SNPs found! Please check the chromosome numbering and position matching logic.\n"
     ]
    },
    {
     "name": "stderr",
     "output_type": "stream",
     "text": [
      "Traceback (most recent call last):\n",
      "  File \"/var/folders/96/2s64979965l0x1hmvz6rctxh0000gp/T/ipykernel_35761/819443221.py\", line 154, in filter_all_populations\n",
      "    self.filter_population(population)\n",
      "  File \"/var/folders/96/2s64979965l0x1hmvz6rctxh0000gp/T/ipykernel_35761/819443221.py\", line 128, in filter_population\n",
      "    raise ValueError(\"No matching SNPs found! Please check the chromosome numbering and position matching logic.\")\n",
      "ValueError: No matching SNPs found! Please check the chromosome numbering and position matching logic.\n"
     ]
    }
   ],
   "source": [
    "\n",
    "import os\n",
    "import pandas as pd\n",
    "import numpy as np\n",
    "from tqdm import tqdm\n",
    "from typing import Dict, Set, Tuple\n",
    "\n",
    "class HapMapFilter:\n",
    "    def __init__(self, hapmap_dir: str, common_snps_dir: str, output_dir: str):\n",
    "        self.hapmap_dir = hapmap_dir\n",
    "        self.common_snps_dir = common_snps_dir\n",
    "        self.output_dir = output_dir\n",
    "        os.makedirs(output_dir, exist_ok=True)\n",
    "        \n",
    "    def _load_common_snps(self) -> Dict[int, pd.DataFrame]:\n",
    "        \"\"\"Load common SNP information by chromosome\"\"\"\n",
    "        common_snps = {}\n",
    "        \n",
    "        print(\"Loading common SNP positions...\")\n",
    "        for chrom in range(1, 23):\n",
    "            # Read both position and alleles from common SNPs VCF\n",
    "            vcf_file = os.path.join(self.common_snps_dir, f'common_snps.chr{chrom}.vcf.gz')\n",
    "            cmd = f\"bcftools query -f '%CHROM\\t%POS\\t%REF\\t%ALT\\n' {vcf_file}\"\n",
    "            import subprocess\n",
    "            result = subprocess.run(cmd, shell=True, capture_output=True, text=True)\n",
    "            \n",
    "            # Parse the output into a DataFrame\n",
    "            snp_info = []\n",
    "            for line in result.stdout.strip().split('\\n'):\n",
    "                if line:\n",
    "                    chrom, pos, ref, alt = line.split('\\t')\n",
    "                    snp_info.append({\n",
    "                        'chromosome': int(chrom),\n",
    "                        'position': int(pos),\n",
    "                        'ref': ref,\n",
    "                        'alt': alt\n",
    "                    })\n",
    "            \n",
    "            if snp_info:\n",
    "                common_snps[chrom] = pd.DataFrame(snp_info)\n",
    "                print(f\"Chromosome {chrom}: {len(snp_info)} common SNPs\")\n",
    "            else:\n",
    "                print(f\"Warning: No SNPs found for chromosome {chrom}\")\n",
    "        \n",
    "        return common_snps\n",
    "    \n",
    "    def _read_hapmap_data(self, population: str) -> Tuple[pd.DataFrame, pd.DataFrame, np.ndarray]:\n",
    "        \"\"\"Read HapMap3 data files for a population\"\"\"\n",
    "        base_path = os.path.join(self.hapmap_dir, population)\n",
    "        \n",
    "        print(f\"Reading data from {base_path}\")\n",
    "        \n",
    "        # Read SNP information\n",
    "        snp_data = pd.read_csv(f\"{base_path}.snp\", sep='\\s+', header=None,\n",
    "                              names=['SNP', 'chromosome', 'morgans', 'position', 'ref', 'alt'])\n",
    "        print(f\"Read {len(snp_data)} SNPs\")\n",
    "        print(\"Sample SNP data:\")\n",
    "        print(snp_data.head())\n",
    "        \n",
    "        # Read sample information\n",
    "        ind_data = pd.read_csv(f\"{base_path}.ind\", sep='\\s+', header=None,\n",
    "                              names=['sample', 'sex', 'population'])\n",
    "        print(f\"Read {len(ind_data)} samples\")\n",
    "        \n",
    "        # Read genotype data\n",
    "        print(\"Reading genotype data...\")\n",
    "        geno_data = []\n",
    "        with open(f\"{base_path}.geno\", 'r') as f:\n",
    "            for line in tqdm(f):\n",
    "                geno_data.append([int(g) for g in line.strip()])\n",
    "        geno_array = np.array(geno_data)\n",
    "        print(f\"Genotype array shape: {geno_array.shape}\")\n",
    "        \n",
    "        return snp_data, ind_data, geno_array\n",
    "    \n",
    "    def filter_population(self, population: str):\n",
    "        \"\"\"Filter HapMap3 data for a population to keep only common SNPs\"\"\"\n",
    "        print(f\"\\nProcessing population: {population}\")\n",
    "        \n",
    "        # Load common SNP positions\n",
    "        common_snps = self._load_common_snps()\n",
    "        \n",
    "        # Read HapMap3 data\n",
    "        print(\"\\nReading HapMap3 data...\")\n",
    "        snp_data, ind_data, geno_array = self._read_hapmap_data(population)\n",
    "        \n",
    "        # Debug: Print chromosome distribution in HapMap data\n",
    "        print(\"\\nChromosome distribution in HapMap data:\")\n",
    "        print(snp_data['chromosome'].value_counts().sort_index())\n",
    "        \n",
    "        # Create mask for common SNPs\n",
    "        print(\"\\nFinding common SNPs...\")\n",
    "        keep_mask = np.zeros(len(snp_data), dtype=bool)\n",
    "        \n",
    "        for chrom in range(1, 23):\n",
    "            # Get HapMap SNPs for this chromosome\n",
    "            chr_mask = snp_data['chromosome'] == chrom\n",
    "            chr_snps = snp_data[chr_mask]\n",
    "            \n",
    "            if chrom in common_snps:\n",
    "                common_chr_snps = common_snps[chrom]\n",
    "                \n",
    "                # Debug information\n",
    "                print(f\"\\nChromosome {chrom}:\")\n",
    "                print(f\"HapMap SNPs: {len(chr_snps)}\")\n",
    "                print(f\"Common SNPs: {len(common_chr_snps)}\")\n",
    "                \n",
    "                # Match positions\n",
    "                matches = chr_snps['position'].isin(common_chr_snps['position'])\n",
    "                keep_mask[chr_mask] = matches\n",
    "                \n",
    "                print(f\"Matching positions: {sum(matches)}\")\n",
    "                \n",
    "                # Debug: Show some matching examples\n",
    "                if sum(matches) > 0:\n",
    "                    print(\"\\nSample matching SNPs:\")\n",
    "                    matched_hapmap = chr_snps[matches].head()\n",
    "                    matched_common = common_chr_snps[common_chr_snps['position'].isin(matched_hapmap['position'])].head()\n",
    "                    print(\"HapMap SNPs:\")\n",
    "                    print(matched_hapmap[['position', 'ref', 'alt']])\n",
    "                    print(\"Common SNPs:\")\n",
    "                    print(matched_common[['position', 'ref', 'alt']])\n",
    "        \n",
    "        # Apply filtering\n",
    "        filtered_snps = snp_data[keep_mask]\n",
    "        filtered_geno = geno_array[keep_mask]\n",
    "        \n",
    "        if len(filtered_snps) == 0:\n",
    "            raise ValueError(\"No matching SNPs found! Please check the chromosome numbering and position matching logic.\")\n",
    "        \n",
    "        # Save filtered data\n",
    "        output_prefix = os.path.join(self.output_dir, f\"{population}_filtered\")\n",
    "        \n",
    "        filtered_snps.to_csv(f\"{output_prefix}.snp\", sep='\\t', index=False, header=False)\n",
    "        ind_data.to_csv(f\"{output_prefix}.ind\", sep='\\t', index=False, header=False)\n",
    "        \n",
    "        print(\"\\nSaving filtered genotypes...\")\n",
    "        with open(f\"{output_prefix}.geno\", 'w') as f:\n",
    "            for row in tqdm(filtered_geno):\n",
    "                f.write(''.join(map(str, row)) + '\\n')\n",
    "        \n",
    "        print(f\"\\nFiltering statistics for {population}:\")\n",
    "        print(f\"Original SNPs: {len(snp_data)}\")\n",
    "        print(f\"Filtered SNPs: {len(filtered_snps)}\")\n",
    "        print(f\"Retention rate: {len(filtered_snps)/len(snp_data)*100:.2f}%\")\n",
    "        \n",
    "        return filtered_snps, ind_data, filtered_geno\n",
    "\n",
    "    def filter_all_populations(self, populations=None):\n",
    "        if populations is None:\n",
    "            populations = ['ASW', 'CEU', 'CHB', 'JPT', 'LWK', 'MXL', 'TSI', 'YRI']\n",
    "        \n",
    "        for population in populations:\n",
    "            try:\n",
    "                self.filter_population(population)\n",
    "            except Exception as e:\n",
    "                print(f\"Error processing population {population}: {e}\")\n",
    "                import traceback\n",
    "                traceback.print_exc()\n",
    "\n",
    "if __name__ == \"__main__\":\n",
    "    # Configure paths\n",
    "    HAPMAP_DIR = '/Users/jingl1/Desktop/CMU/02704/hw_data/02704_data'  # HapMap3种群数据目录\n",
    "    COMMON_SNPS_DIR = \"../data/common_snps\"      # 共同SNP目录\n",
    "    OUTPUT_DIR = \"../data/hapmap3_filtered\"      # 输出目录\n",
    "    \n",
    "    # Initialize and run filter\n",
    "    hapmap_filter = HapMapFilter(HAPMAP_DIR, COMMON_SNPS_DIR, OUTPUT_DIR)\n",
    "    hapmap_filter.filter_all_populations()"
   ]
  },
  {
   "cell_type": "code",
   "execution_count": 47,
   "id": "31433808",
   "metadata": {},
   "outputs": [
    {
     "name": "stderr",
     "output_type": "stream",
     "text": [
      "INFO:__main__:Analyzing population: ASW\n",
      "INFO:__main__:Loaded 718848 SNPs from HapMap for ASW\n",
      "INFO:__main__:Chromosome 1: Found 55983 common SNPs\n",
      "INFO:__main__:Chromosome 2: Found 58409 common SNPs\n",
      "INFO:__main__:Chromosome 3: Found 48655 common SNPs\n",
      "INFO:__main__:Chromosome 4: Found 43809 common SNPs\n",
      "INFO:__main__:Chromosome 5: Found 45045 common SNPs\n",
      "INFO:__main__:Chromosome 6: Found 46016 common SNPs\n",
      "INFO:__main__:Chromosome 7: Found 38578 common SNPs\n",
      "INFO:__main__:Chromosome 8: Found 38291 common SNPs\n",
      "INFO:__main__:Chromosome 9: Found 32252 common SNPs\n",
      "INFO:__main__:Chromosome 10: Found 36847 common SNPs\n",
      "INFO:__main__:Chromosome 11: Found 36514 common SNPs\n",
      "INFO:__main__:Chromosome 12: Found 33528 common SNPs\n",
      "INFO:__main__:Chromosome 13: Found 26595 common SNPs\n",
      "INFO:__main__:Chromosome 14: Found 22956 common SNPs\n",
      "INFO:__main__:Chromosome 15: Found 21459 common SNPs\n",
      "INFO:__main__:Chromosome 16: Found 22191 common SNPs\n",
      "INFO:__main__:Chromosome 17: Found 19210 common SNPs\n",
      "INFO:__main__:Chromosome 18: Found 21196 common SNPs\n",
      "INFO:__main__:Chromosome 19: Found 13472 common SNPs\n",
      "INFO:__main__:Chromosome 20: Found 18359 common SNPs\n",
      "INFO:__main__:Chromosome 21: Found 10281 common SNPs\n",
      "INFO:__main__:Chromosome 22: Found 9447 common SNPs\n",
      "INFO:__main__:Analyzing population: CEU\n"
     ]
    },
    {
     "name": "stdout",
     "output_type": "stream",
     "text": [
      "\n",
      "Results for ASW:\n",
      "================================================================================\n",
      "Population              ASW\n",
      "Total HapMap SNPs    718848\n",
      "Total Common SNPs    718848\n",
      "Overall Overlap %     100.0\n",
      "\n",
      "Chromosome-level Statistics:\n",
      "            hapmap_snps  total_snps  common_snps  overlap_percentage\n",
      "Chromosome                                                          \n",
      "1                 55983       55983        55983               100.0\n",
      "2                 58409       58409        58409               100.0\n",
      "3                 48655       48655        48655               100.0\n",
      "4                 43809       43809        43809               100.0\n",
      "5                 45045       45045        45045               100.0\n",
      "6                 46016       46016        46016               100.0\n",
      "7                 38578       38578        38578               100.0\n",
      "8                 38291       38291        38291               100.0\n",
      "9                 32252       32252        32252               100.0\n",
      "10                36847       36847        36847               100.0\n",
      "11                36514       36514        36514               100.0\n",
      "12                33528       33528        33528               100.0\n",
      "13                26595       26595        26595               100.0\n",
      "14                22956       22956        22956               100.0\n",
      "15                21459       21459        21459               100.0\n",
      "16                22191       22191        22191               100.0\n",
      "17                19210       19210        19210               100.0\n",
      "18                21196       21196        21196               100.0\n",
      "19                13472       13472        13472               100.0\n",
      "20                18359       18359        18359               100.0\n",
      "21                10281       10281        10281               100.0\n",
      "22                 9447        9447         9447               100.0\n"
     ]
    },
    {
     "name": "stderr",
     "output_type": "stream",
     "text": [
      "INFO:__main__:Loaded 718848 SNPs from HapMap for CEU\n",
      "INFO:__main__:Chromosome 1: Found 55983 common SNPs\n",
      "INFO:__main__:Chromosome 2: Found 58409 common SNPs\n",
      "INFO:__main__:Chromosome 3: Found 48655 common SNPs\n",
      "INFO:__main__:Chromosome 4: Found 43809 common SNPs\n",
      "INFO:__main__:Chromosome 5: Found 45045 common SNPs\n",
      "INFO:__main__:Chromosome 6: Found 46016 common SNPs\n",
      "INFO:__main__:Chromosome 7: Found 38578 common SNPs\n",
      "INFO:__main__:Chromosome 8: Found 38291 common SNPs\n",
      "INFO:__main__:Chromosome 9: Found 32252 common SNPs\n",
      "INFO:__main__:Chromosome 10: Found 36847 common SNPs\n",
      "INFO:__main__:Chromosome 11: Found 36514 common SNPs\n",
      "INFO:__main__:Chromosome 12: Found 33528 common SNPs\n",
      "INFO:__main__:Chromosome 13: Found 26595 common SNPs\n",
      "INFO:__main__:Chromosome 14: Found 22956 common SNPs\n",
      "INFO:__main__:Chromosome 15: Found 21459 common SNPs\n",
      "INFO:__main__:Chromosome 16: Found 22191 common SNPs\n",
      "INFO:__main__:Chromosome 17: Found 19210 common SNPs\n",
      "INFO:__main__:Chromosome 18: Found 21196 common SNPs\n",
      "INFO:__main__:Chromosome 19: Found 13472 common SNPs\n",
      "INFO:__main__:Chromosome 20: Found 18359 common SNPs\n",
      "INFO:__main__:Chromosome 21: Found 10281 common SNPs\n",
      "INFO:__main__:Chromosome 22: Found 9447 common SNPs\n",
      "INFO:__main__:Analyzing population: CHB\n"
     ]
    },
    {
     "name": "stdout",
     "output_type": "stream",
     "text": [
      "\n",
      "Results for CEU:\n",
      "================================================================================\n",
      "Population              CEU\n",
      "Total HapMap SNPs    718848\n",
      "Total Common SNPs    718848\n",
      "Overall Overlap %     100.0\n",
      "\n",
      "Chromosome-level Statistics:\n",
      "            hapmap_snps  total_snps  common_snps  overlap_percentage\n",
      "Chromosome                                                          \n",
      "1                 55983       55983        55983               100.0\n",
      "2                 58409       58409        58409               100.0\n",
      "3                 48655       48655        48655               100.0\n",
      "4                 43809       43809        43809               100.0\n",
      "5                 45045       45045        45045               100.0\n",
      "6                 46016       46016        46016               100.0\n",
      "7                 38578       38578        38578               100.0\n",
      "8                 38291       38291        38291               100.0\n",
      "9                 32252       32252        32252               100.0\n",
      "10                36847       36847        36847               100.0\n",
      "11                36514       36514        36514               100.0\n",
      "12                33528       33528        33528               100.0\n",
      "13                26595       26595        26595               100.0\n",
      "14                22956       22956        22956               100.0\n",
      "15                21459       21459        21459               100.0\n",
      "16                22191       22191        22191               100.0\n",
      "17                19210       19210        19210               100.0\n",
      "18                21196       21196        21196               100.0\n",
      "19                13472       13472        13472               100.0\n",
      "20                18359       18359        18359               100.0\n",
      "21                10281       10281        10281               100.0\n",
      "22                 9447        9447         9447               100.0\n"
     ]
    },
    {
     "name": "stderr",
     "output_type": "stream",
     "text": [
      "INFO:__main__:Loaded 718848 SNPs from HapMap for CHB\n",
      "INFO:__main__:Chromosome 1: Found 55983 common SNPs\n",
      "INFO:__main__:Chromosome 2: Found 58409 common SNPs\n",
      "INFO:__main__:Chromosome 3: Found 48655 common SNPs\n",
      "INFO:__main__:Chromosome 4: Found 43809 common SNPs\n",
      "INFO:__main__:Chromosome 5: Found 45045 common SNPs\n",
      "INFO:__main__:Chromosome 6: Found 46016 common SNPs\n",
      "INFO:__main__:Chromosome 7: Found 38578 common SNPs\n",
      "INFO:__main__:Chromosome 8: Found 38291 common SNPs\n",
      "INFO:__main__:Chromosome 9: Found 32252 common SNPs\n",
      "INFO:__main__:Chromosome 10: Found 36847 common SNPs\n",
      "INFO:__main__:Chromosome 11: Found 36514 common SNPs\n",
      "INFO:__main__:Chromosome 12: Found 33528 common SNPs\n",
      "INFO:__main__:Chromosome 13: Found 26595 common SNPs\n",
      "INFO:__main__:Chromosome 14: Found 22956 common SNPs\n",
      "INFO:__main__:Chromosome 15: Found 21459 common SNPs\n",
      "INFO:__main__:Chromosome 16: Found 22191 common SNPs\n",
      "INFO:__main__:Chromosome 17: Found 19210 common SNPs\n",
      "INFO:__main__:Chromosome 18: Found 21196 common SNPs\n",
      "INFO:__main__:Chromosome 19: Found 13472 common SNPs\n",
      "INFO:__main__:Chromosome 20: Found 18359 common SNPs\n",
      "INFO:__main__:Chromosome 21: Found 10281 common SNPs\n",
      "INFO:__main__:Chromosome 22: Found 9447 common SNPs\n",
      "INFO:__main__:Analyzing population: CHD\n"
     ]
    },
    {
     "name": "stdout",
     "output_type": "stream",
     "text": [
      "\n",
      "Results for CHB:\n",
      "================================================================================\n",
      "Population              CHB\n",
      "Total HapMap SNPs    718848\n",
      "Total Common SNPs    718848\n",
      "Overall Overlap %     100.0\n",
      "\n",
      "Chromosome-level Statistics:\n",
      "            hapmap_snps  total_snps  common_snps  overlap_percentage\n",
      "Chromosome                                                          \n",
      "1                 55983       55983        55983               100.0\n",
      "2                 58409       58409        58409               100.0\n",
      "3                 48655       48655        48655               100.0\n",
      "4                 43809       43809        43809               100.0\n",
      "5                 45045       45045        45045               100.0\n",
      "6                 46016       46016        46016               100.0\n",
      "7                 38578       38578        38578               100.0\n",
      "8                 38291       38291        38291               100.0\n",
      "9                 32252       32252        32252               100.0\n",
      "10                36847       36847        36847               100.0\n",
      "11                36514       36514        36514               100.0\n",
      "12                33528       33528        33528               100.0\n",
      "13                26595       26595        26595               100.0\n",
      "14                22956       22956        22956               100.0\n",
      "15                21459       21459        21459               100.0\n",
      "16                22191       22191        22191               100.0\n",
      "17                19210       19210        19210               100.0\n",
      "18                21196       21196        21196               100.0\n",
      "19                13472       13472        13472               100.0\n",
      "20                18359       18359        18359               100.0\n",
      "21                10281       10281        10281               100.0\n",
      "22                 9447        9447         9447               100.0\n"
     ]
    },
    {
     "name": "stderr",
     "output_type": "stream",
     "text": [
      "INFO:__main__:Loaded 718848 SNPs from HapMap for CHD\n",
      "INFO:__main__:Chromosome 1: Found 55983 common SNPs\n",
      "INFO:__main__:Chromosome 2: Found 58409 common SNPs\n",
      "INFO:__main__:Chromosome 3: Found 48655 common SNPs\n",
      "INFO:__main__:Chromosome 4: Found 43809 common SNPs\n",
      "INFO:__main__:Chromosome 5: Found 45045 common SNPs\n",
      "INFO:__main__:Chromosome 6: Found 46016 common SNPs\n",
      "INFO:__main__:Chromosome 7: Found 38578 common SNPs\n",
      "INFO:__main__:Chromosome 8: Found 38291 common SNPs\n",
      "INFO:__main__:Chromosome 9: Found 32252 common SNPs\n",
      "INFO:__main__:Chromosome 10: Found 36847 common SNPs\n",
      "INFO:__main__:Chromosome 11: Found 36514 common SNPs\n",
      "INFO:__main__:Chromosome 12: Found 33528 common SNPs\n",
      "INFO:__main__:Chromosome 13: Found 26595 common SNPs\n",
      "INFO:__main__:Chromosome 14: Found 22956 common SNPs\n",
      "INFO:__main__:Chromosome 15: Found 21459 common SNPs\n",
      "INFO:__main__:Chromosome 16: Found 22191 common SNPs\n",
      "INFO:__main__:Chromosome 17: Found 19210 common SNPs\n",
      "INFO:__main__:Chromosome 18: Found 21196 common SNPs\n",
      "INFO:__main__:Chromosome 19: Found 13472 common SNPs\n",
      "INFO:__main__:Chromosome 20: Found 18359 common SNPs\n",
      "INFO:__main__:Chromosome 21: Found 10281 common SNPs\n",
      "INFO:__main__:Chromosome 22: Found 9447 common SNPs\n",
      "INFO:__main__:Analyzing population: GIH\n"
     ]
    },
    {
     "name": "stdout",
     "output_type": "stream",
     "text": [
      "\n",
      "Results for CHD:\n",
      "================================================================================\n",
      "Population              CHD\n",
      "Total HapMap SNPs    718848\n",
      "Total Common SNPs    718848\n",
      "Overall Overlap %     100.0\n",
      "\n",
      "Chromosome-level Statistics:\n",
      "            hapmap_snps  total_snps  common_snps  overlap_percentage\n",
      "Chromosome                                                          \n",
      "1                 55983       55983        55983               100.0\n",
      "2                 58409       58409        58409               100.0\n",
      "3                 48655       48655        48655               100.0\n",
      "4                 43809       43809        43809               100.0\n",
      "5                 45045       45045        45045               100.0\n",
      "6                 46016       46016        46016               100.0\n",
      "7                 38578       38578        38578               100.0\n",
      "8                 38291       38291        38291               100.0\n",
      "9                 32252       32252        32252               100.0\n",
      "10                36847       36847        36847               100.0\n",
      "11                36514       36514        36514               100.0\n",
      "12                33528       33528        33528               100.0\n",
      "13                26595       26595        26595               100.0\n",
      "14                22956       22956        22956               100.0\n",
      "15                21459       21459        21459               100.0\n",
      "16                22191       22191        22191               100.0\n",
      "17                19210       19210        19210               100.0\n",
      "18                21196       21196        21196               100.0\n",
      "19                13472       13472        13472               100.0\n",
      "20                18359       18359        18359               100.0\n",
      "21                10281       10281        10281               100.0\n",
      "22                 9447        9447         9447               100.0\n"
     ]
    },
    {
     "name": "stderr",
     "output_type": "stream",
     "text": [
      "INFO:__main__:Loaded 718848 SNPs from HapMap for GIH\n",
      "INFO:__main__:Chromosome 1: Found 55983 common SNPs\n",
      "INFO:__main__:Chromosome 2: Found 58409 common SNPs\n",
      "INFO:__main__:Chromosome 3: Found 48655 common SNPs\n",
      "INFO:__main__:Chromosome 4: Found 43809 common SNPs\n",
      "INFO:__main__:Chromosome 5: Found 45045 common SNPs\n",
      "INFO:__main__:Chromosome 6: Found 46016 common SNPs\n",
      "INFO:__main__:Chromosome 7: Found 38578 common SNPs\n",
      "INFO:__main__:Chromosome 8: Found 38291 common SNPs\n",
      "INFO:__main__:Chromosome 9: Found 32252 common SNPs\n",
      "INFO:__main__:Chromosome 10: Found 36847 common SNPs\n",
      "INFO:__main__:Chromosome 11: Found 36514 common SNPs\n",
      "INFO:__main__:Chromosome 12: Found 33528 common SNPs\n",
      "INFO:__main__:Chromosome 13: Found 26595 common SNPs\n",
      "INFO:__main__:Chromosome 14: Found 22956 common SNPs\n",
      "INFO:__main__:Chromosome 15: Found 21459 common SNPs\n",
      "INFO:__main__:Chromosome 16: Found 22191 common SNPs\n",
      "INFO:__main__:Chromosome 17: Found 19210 common SNPs\n",
      "INFO:__main__:Chromosome 18: Found 21196 common SNPs\n",
      "INFO:__main__:Chromosome 19: Found 13472 common SNPs\n",
      "INFO:__main__:Chromosome 20: Found 18359 common SNPs\n",
      "INFO:__main__:Chromosome 21: Found 10281 common SNPs\n",
      "INFO:__main__:Chromosome 22: Found 9447 common SNPs\n",
      "INFO:__main__:Analyzing population: JPT\n"
     ]
    },
    {
     "name": "stdout",
     "output_type": "stream",
     "text": [
      "\n",
      "Results for GIH:\n",
      "================================================================================\n",
      "Population              GIH\n",
      "Total HapMap SNPs    718848\n",
      "Total Common SNPs    718848\n",
      "Overall Overlap %     100.0\n",
      "\n",
      "Chromosome-level Statistics:\n",
      "            hapmap_snps  total_snps  common_snps  overlap_percentage\n",
      "Chromosome                                                          \n",
      "1                 55983       55983        55983               100.0\n",
      "2                 58409       58409        58409               100.0\n",
      "3                 48655       48655        48655               100.0\n",
      "4                 43809       43809        43809               100.0\n",
      "5                 45045       45045        45045               100.0\n",
      "6                 46016       46016        46016               100.0\n",
      "7                 38578       38578        38578               100.0\n",
      "8                 38291       38291        38291               100.0\n",
      "9                 32252       32252        32252               100.0\n",
      "10                36847       36847        36847               100.0\n",
      "11                36514       36514        36514               100.0\n",
      "12                33528       33528        33528               100.0\n",
      "13                26595       26595        26595               100.0\n",
      "14                22956       22956        22956               100.0\n",
      "15                21459       21459        21459               100.0\n",
      "16                22191       22191        22191               100.0\n",
      "17                19210       19210        19210               100.0\n",
      "18                21196       21196        21196               100.0\n",
      "19                13472       13472        13472               100.0\n",
      "20                18359       18359        18359               100.0\n",
      "21                10281       10281        10281               100.0\n",
      "22                 9447        9447         9447               100.0\n"
     ]
    },
    {
     "name": "stderr",
     "output_type": "stream",
     "text": [
      "INFO:__main__:Loaded 718848 SNPs from HapMap for JPT\n",
      "INFO:__main__:Chromosome 1: Found 55983 common SNPs\n",
      "INFO:__main__:Chromosome 2: Found 58409 common SNPs\n",
      "INFO:__main__:Chromosome 3: Found 48655 common SNPs\n",
      "INFO:__main__:Chromosome 4: Found 43809 common SNPs\n",
      "INFO:__main__:Chromosome 5: Found 45045 common SNPs\n",
      "INFO:__main__:Chromosome 6: Found 46016 common SNPs\n",
      "INFO:__main__:Chromosome 7: Found 38578 common SNPs\n",
      "INFO:__main__:Chromosome 8: Found 38291 common SNPs\n",
      "INFO:__main__:Chromosome 9: Found 32252 common SNPs\n",
      "INFO:__main__:Chromosome 10: Found 36847 common SNPs\n",
      "INFO:__main__:Chromosome 11: Found 36514 common SNPs\n",
      "INFO:__main__:Chromosome 12: Found 33528 common SNPs\n",
      "INFO:__main__:Chromosome 13: Found 26595 common SNPs\n",
      "INFO:__main__:Chromosome 14: Found 22956 common SNPs\n",
      "INFO:__main__:Chromosome 15: Found 21459 common SNPs\n",
      "INFO:__main__:Chromosome 16: Found 22191 common SNPs\n",
      "INFO:__main__:Chromosome 17: Found 19210 common SNPs\n",
      "INFO:__main__:Chromosome 18: Found 21196 common SNPs\n",
      "INFO:__main__:Chromosome 19: Found 13472 common SNPs\n",
      "INFO:__main__:Chromosome 20: Found 18359 common SNPs\n",
      "INFO:__main__:Chromosome 21: Found 10281 common SNPs\n",
      "INFO:__main__:Chromosome 22: Found 9447 common SNPs\n",
      "INFO:__main__:Analyzing population: LWK\n"
     ]
    },
    {
     "name": "stdout",
     "output_type": "stream",
     "text": [
      "\n",
      "Results for JPT:\n",
      "================================================================================\n",
      "Population              JPT\n",
      "Total HapMap SNPs    718848\n",
      "Total Common SNPs    718848\n",
      "Overall Overlap %     100.0\n",
      "\n",
      "Chromosome-level Statistics:\n",
      "            hapmap_snps  total_snps  common_snps  overlap_percentage\n",
      "Chromosome                                                          \n",
      "1                 55983       55983        55983               100.0\n",
      "2                 58409       58409        58409               100.0\n",
      "3                 48655       48655        48655               100.0\n",
      "4                 43809       43809        43809               100.0\n",
      "5                 45045       45045        45045               100.0\n",
      "6                 46016       46016        46016               100.0\n",
      "7                 38578       38578        38578               100.0\n",
      "8                 38291       38291        38291               100.0\n",
      "9                 32252       32252        32252               100.0\n",
      "10                36847       36847        36847               100.0\n",
      "11                36514       36514        36514               100.0\n",
      "12                33528       33528        33528               100.0\n",
      "13                26595       26595        26595               100.0\n",
      "14                22956       22956        22956               100.0\n",
      "15                21459       21459        21459               100.0\n",
      "16                22191       22191        22191               100.0\n",
      "17                19210       19210        19210               100.0\n",
      "18                21196       21196        21196               100.0\n",
      "19                13472       13472        13472               100.0\n",
      "20                18359       18359        18359               100.0\n",
      "21                10281       10281        10281               100.0\n",
      "22                 9447        9447         9447               100.0\n"
     ]
    },
    {
     "name": "stderr",
     "output_type": "stream",
     "text": [
      "INFO:__main__:Loaded 718848 SNPs from HapMap for LWK\n",
      "INFO:__main__:Chromosome 1: Found 55983 common SNPs\n",
      "INFO:__main__:Chromosome 2: Found 58409 common SNPs\n",
      "INFO:__main__:Chromosome 3: Found 48655 common SNPs\n",
      "INFO:__main__:Chromosome 4: Found 43809 common SNPs\n",
      "INFO:__main__:Chromosome 5: Found 45045 common SNPs\n",
      "INFO:__main__:Chromosome 6: Found 46016 common SNPs\n",
      "INFO:__main__:Chromosome 7: Found 38578 common SNPs\n",
      "INFO:__main__:Chromosome 8: Found 38291 common SNPs\n",
      "INFO:__main__:Chromosome 9: Found 32252 common SNPs\n",
      "INFO:__main__:Chromosome 10: Found 36847 common SNPs\n",
      "INFO:__main__:Chromosome 11: Found 36514 common SNPs\n",
      "INFO:__main__:Chromosome 12: Found 33528 common SNPs\n",
      "INFO:__main__:Chromosome 13: Found 26595 common SNPs\n",
      "INFO:__main__:Chromosome 14: Found 22956 common SNPs\n",
      "INFO:__main__:Chromosome 15: Found 21459 common SNPs\n",
      "INFO:__main__:Chromosome 16: Found 22191 common SNPs\n",
      "INFO:__main__:Chromosome 17: Found 19210 common SNPs\n",
      "INFO:__main__:Chromosome 18: Found 21196 common SNPs\n",
      "INFO:__main__:Chromosome 19: Found 13472 common SNPs\n",
      "INFO:__main__:Chromosome 20: Found 18359 common SNPs\n",
      "INFO:__main__:Chromosome 21: Found 10281 common SNPs\n",
      "INFO:__main__:Chromosome 22: Found 9447 common SNPs\n",
      "INFO:__main__:Analyzing population: MKK\n"
     ]
    },
    {
     "name": "stdout",
     "output_type": "stream",
     "text": [
      "\n",
      "Results for LWK:\n",
      "================================================================================\n",
      "Population              LWK\n",
      "Total HapMap SNPs    718848\n",
      "Total Common SNPs    718848\n",
      "Overall Overlap %     100.0\n",
      "\n",
      "Chromosome-level Statistics:\n",
      "            hapmap_snps  total_snps  common_snps  overlap_percentage\n",
      "Chromosome                                                          \n",
      "1                 55983       55983        55983               100.0\n",
      "2                 58409       58409        58409               100.0\n",
      "3                 48655       48655        48655               100.0\n",
      "4                 43809       43809        43809               100.0\n",
      "5                 45045       45045        45045               100.0\n",
      "6                 46016       46016        46016               100.0\n",
      "7                 38578       38578        38578               100.0\n",
      "8                 38291       38291        38291               100.0\n",
      "9                 32252       32252        32252               100.0\n",
      "10                36847       36847        36847               100.0\n",
      "11                36514       36514        36514               100.0\n",
      "12                33528       33528        33528               100.0\n",
      "13                26595       26595        26595               100.0\n",
      "14                22956       22956        22956               100.0\n",
      "15                21459       21459        21459               100.0\n",
      "16                22191       22191        22191               100.0\n",
      "17                19210       19210        19210               100.0\n",
      "18                21196       21196        21196               100.0\n",
      "19                13472       13472        13472               100.0\n",
      "20                18359       18359        18359               100.0\n",
      "21                10281       10281        10281               100.0\n",
      "22                 9447        9447         9447               100.0\n"
     ]
    },
    {
     "name": "stderr",
     "output_type": "stream",
     "text": [
      "INFO:__main__:Loaded 718848 SNPs from HapMap for MKK\n",
      "INFO:__main__:Chromosome 1: Found 55983 common SNPs\n",
      "INFO:__main__:Chromosome 2: Found 58409 common SNPs\n",
      "INFO:__main__:Chromosome 3: Found 48655 common SNPs\n",
      "INFO:__main__:Chromosome 4: Found 43809 common SNPs\n",
      "INFO:__main__:Chromosome 5: Found 45045 common SNPs\n",
      "INFO:__main__:Chromosome 6: Found 46016 common SNPs\n",
      "INFO:__main__:Chromosome 7: Found 38578 common SNPs\n",
      "INFO:__main__:Chromosome 8: Found 38291 common SNPs\n",
      "INFO:__main__:Chromosome 9: Found 32252 common SNPs\n",
      "INFO:__main__:Chromosome 10: Found 36847 common SNPs\n",
      "INFO:__main__:Chromosome 11: Found 36514 common SNPs\n",
      "INFO:__main__:Chromosome 12: Found 33528 common SNPs\n",
      "INFO:__main__:Chromosome 13: Found 26595 common SNPs\n",
      "INFO:__main__:Chromosome 14: Found 22956 common SNPs\n",
      "INFO:__main__:Chromosome 15: Found 21459 common SNPs\n",
      "INFO:__main__:Chromosome 16: Found 22191 common SNPs\n",
      "INFO:__main__:Chromosome 17: Found 19210 common SNPs\n",
      "INFO:__main__:Chromosome 18: Found 21196 common SNPs\n",
      "INFO:__main__:Chromosome 19: Found 13472 common SNPs\n",
      "INFO:__main__:Chromosome 20: Found 18359 common SNPs\n",
      "INFO:__main__:Chromosome 21: Found 10281 common SNPs\n",
      "INFO:__main__:Chromosome 22: Found 9447 common SNPs\n",
      "INFO:__main__:Analyzing population: MXL\n"
     ]
    },
    {
     "name": "stdout",
     "output_type": "stream",
     "text": [
      "\n",
      "Results for MKK:\n",
      "================================================================================\n",
      "Population              MKK\n",
      "Total HapMap SNPs    718848\n",
      "Total Common SNPs    718848\n",
      "Overall Overlap %     100.0\n",
      "\n",
      "Chromosome-level Statistics:\n",
      "            hapmap_snps  total_snps  common_snps  overlap_percentage\n",
      "Chromosome                                                          \n",
      "1                 55983       55983        55983               100.0\n",
      "2                 58409       58409        58409               100.0\n",
      "3                 48655       48655        48655               100.0\n",
      "4                 43809       43809        43809               100.0\n",
      "5                 45045       45045        45045               100.0\n",
      "6                 46016       46016        46016               100.0\n",
      "7                 38578       38578        38578               100.0\n",
      "8                 38291       38291        38291               100.0\n",
      "9                 32252       32252        32252               100.0\n",
      "10                36847       36847        36847               100.0\n",
      "11                36514       36514        36514               100.0\n",
      "12                33528       33528        33528               100.0\n",
      "13                26595       26595        26595               100.0\n",
      "14                22956       22956        22956               100.0\n",
      "15                21459       21459        21459               100.0\n",
      "16                22191       22191        22191               100.0\n",
      "17                19210       19210        19210               100.0\n",
      "18                21196       21196        21196               100.0\n",
      "19                13472       13472        13472               100.0\n",
      "20                18359       18359        18359               100.0\n",
      "21                10281       10281        10281               100.0\n",
      "22                 9447        9447         9447               100.0\n"
     ]
    },
    {
     "name": "stderr",
     "output_type": "stream",
     "text": [
      "INFO:__main__:Loaded 718848 SNPs from HapMap for MXL\n",
      "INFO:__main__:Chromosome 1: Found 55983 common SNPs\n",
      "INFO:__main__:Chromosome 2: Found 58409 common SNPs\n",
      "INFO:__main__:Chromosome 3: Found 48655 common SNPs\n",
      "INFO:__main__:Chromosome 4: Found 43809 common SNPs\n",
      "INFO:__main__:Chromosome 5: Found 45045 common SNPs\n",
      "INFO:__main__:Chromosome 6: Found 46016 common SNPs\n",
      "INFO:__main__:Chromosome 7: Found 38578 common SNPs\n",
      "INFO:__main__:Chromosome 8: Found 38291 common SNPs\n",
      "INFO:__main__:Chromosome 9: Found 32252 common SNPs\n",
      "INFO:__main__:Chromosome 10: Found 36847 common SNPs\n",
      "INFO:__main__:Chromosome 11: Found 36514 common SNPs\n",
      "INFO:__main__:Chromosome 12: Found 33528 common SNPs\n",
      "INFO:__main__:Chromosome 13: Found 26595 common SNPs\n",
      "INFO:__main__:Chromosome 14: Found 22956 common SNPs\n",
      "INFO:__main__:Chromosome 15: Found 21459 common SNPs\n",
      "INFO:__main__:Chromosome 16: Found 22191 common SNPs\n",
      "INFO:__main__:Chromosome 17: Found 19210 common SNPs\n",
      "INFO:__main__:Chromosome 18: Found 21196 common SNPs\n",
      "INFO:__main__:Chromosome 19: Found 13472 common SNPs\n",
      "INFO:__main__:Chromosome 20: Found 18359 common SNPs\n",
      "INFO:__main__:Chromosome 21: Found 10281 common SNPs\n",
      "INFO:__main__:Chromosome 22: Found 9447 common SNPs\n",
      "INFO:__main__:Analyzing population: TSI\n"
     ]
    },
    {
     "name": "stdout",
     "output_type": "stream",
     "text": [
      "\n",
      "Results for MXL:\n",
      "================================================================================\n",
      "Population              MXL\n",
      "Total HapMap SNPs    718848\n",
      "Total Common SNPs    718848\n",
      "Overall Overlap %     100.0\n",
      "\n",
      "Chromosome-level Statistics:\n",
      "            hapmap_snps  total_snps  common_snps  overlap_percentage\n",
      "Chromosome                                                          \n",
      "1                 55983       55983        55983               100.0\n",
      "2                 58409       58409        58409               100.0\n",
      "3                 48655       48655        48655               100.0\n",
      "4                 43809       43809        43809               100.0\n",
      "5                 45045       45045        45045               100.0\n",
      "6                 46016       46016        46016               100.0\n",
      "7                 38578       38578        38578               100.0\n",
      "8                 38291       38291        38291               100.0\n",
      "9                 32252       32252        32252               100.0\n",
      "10                36847       36847        36847               100.0\n",
      "11                36514       36514        36514               100.0\n",
      "12                33528       33528        33528               100.0\n",
      "13                26595       26595        26595               100.0\n",
      "14                22956       22956        22956               100.0\n",
      "15                21459       21459        21459               100.0\n",
      "16                22191       22191        22191               100.0\n",
      "17                19210       19210        19210               100.0\n",
      "18                21196       21196        21196               100.0\n",
      "19                13472       13472        13472               100.0\n",
      "20                18359       18359        18359               100.0\n",
      "21                10281       10281        10281               100.0\n",
      "22                 9447        9447         9447               100.0\n"
     ]
    },
    {
     "name": "stderr",
     "output_type": "stream",
     "text": [
      "INFO:__main__:Loaded 718848 SNPs from HapMap for TSI\n",
      "INFO:__main__:Chromosome 1: Found 55983 common SNPs\n",
      "INFO:__main__:Chromosome 2: Found 58409 common SNPs\n",
      "INFO:__main__:Chromosome 3: Found 48655 common SNPs\n",
      "INFO:__main__:Chromosome 4: Found 43809 common SNPs\n",
      "INFO:__main__:Chromosome 5: Found 45045 common SNPs\n",
      "INFO:__main__:Chromosome 6: Found 46016 common SNPs\n",
      "INFO:__main__:Chromosome 7: Found 38578 common SNPs\n",
      "INFO:__main__:Chromosome 8: Found 38291 common SNPs\n",
      "INFO:__main__:Chromosome 9: Found 32252 common SNPs\n",
      "INFO:__main__:Chromosome 10: Found 36847 common SNPs\n",
      "INFO:__main__:Chromosome 11: Found 36514 common SNPs\n",
      "INFO:__main__:Chromosome 12: Found 33528 common SNPs\n",
      "INFO:__main__:Chromosome 13: Found 26595 common SNPs\n",
      "INFO:__main__:Chromosome 14: Found 22956 common SNPs\n",
      "INFO:__main__:Chromosome 15: Found 21459 common SNPs\n",
      "INFO:__main__:Chromosome 16: Found 22191 common SNPs\n",
      "INFO:__main__:Chromosome 17: Found 19210 common SNPs\n",
      "INFO:__main__:Chromosome 18: Found 21196 common SNPs\n",
      "INFO:__main__:Chromosome 19: Found 13472 common SNPs\n",
      "INFO:__main__:Chromosome 20: Found 18359 common SNPs\n",
      "INFO:__main__:Chromosome 21: Found 10281 common SNPs\n",
      "INFO:__main__:Chromosome 22: Found 9447 common SNPs\n",
      "INFO:__main__:Analyzing population: YRI\n"
     ]
    },
    {
     "name": "stdout",
     "output_type": "stream",
     "text": [
      "\n",
      "Results for TSI:\n",
      "================================================================================\n",
      "Population              TSI\n",
      "Total HapMap SNPs    718848\n",
      "Total Common SNPs    718848\n",
      "Overall Overlap %     100.0\n",
      "\n",
      "Chromosome-level Statistics:\n",
      "            hapmap_snps  total_snps  common_snps  overlap_percentage\n",
      "Chromosome                                                          \n",
      "1                 55983       55983        55983               100.0\n",
      "2                 58409       58409        58409               100.0\n",
      "3                 48655       48655        48655               100.0\n",
      "4                 43809       43809        43809               100.0\n",
      "5                 45045       45045        45045               100.0\n",
      "6                 46016       46016        46016               100.0\n",
      "7                 38578       38578        38578               100.0\n",
      "8                 38291       38291        38291               100.0\n",
      "9                 32252       32252        32252               100.0\n",
      "10                36847       36847        36847               100.0\n",
      "11                36514       36514        36514               100.0\n",
      "12                33528       33528        33528               100.0\n",
      "13                26595       26595        26595               100.0\n",
      "14                22956       22956        22956               100.0\n",
      "15                21459       21459        21459               100.0\n",
      "16                22191       22191        22191               100.0\n",
      "17                19210       19210        19210               100.0\n",
      "18                21196       21196        21196               100.0\n",
      "19                13472       13472        13472               100.0\n",
      "20                18359       18359        18359               100.0\n",
      "21                10281       10281        10281               100.0\n",
      "22                 9447        9447         9447               100.0\n"
     ]
    },
    {
     "name": "stderr",
     "output_type": "stream",
     "text": [
      "INFO:__main__:Loaded 718848 SNPs from HapMap for YRI\n",
      "INFO:__main__:Chromosome 1: Found 55983 common SNPs\n",
      "INFO:__main__:Chromosome 2: Found 58409 common SNPs\n",
      "INFO:__main__:Chromosome 3: Found 48655 common SNPs\n",
      "INFO:__main__:Chromosome 4: Found 43809 common SNPs\n",
      "INFO:__main__:Chromosome 5: Found 45045 common SNPs\n",
      "INFO:__main__:Chromosome 6: Found 46016 common SNPs\n",
      "INFO:__main__:Chromosome 7: Found 38578 common SNPs\n",
      "INFO:__main__:Chromosome 8: Found 38291 common SNPs\n",
      "INFO:__main__:Chromosome 9: Found 32252 common SNPs\n",
      "INFO:__main__:Chromosome 10: Found 36847 common SNPs\n",
      "INFO:__main__:Chromosome 11: Found 36514 common SNPs\n",
      "INFO:__main__:Chromosome 12: Found 33528 common SNPs\n",
      "INFO:__main__:Chromosome 13: Found 26595 common SNPs\n",
      "INFO:__main__:Chromosome 14: Found 22956 common SNPs\n",
      "INFO:__main__:Chromosome 15: Found 21459 common SNPs\n",
      "INFO:__main__:Chromosome 16: Found 22191 common SNPs\n",
      "INFO:__main__:Chromosome 17: Found 19210 common SNPs\n",
      "INFO:__main__:Chromosome 18: Found 21196 common SNPs\n",
      "INFO:__main__:Chromosome 19: Found 13472 common SNPs\n",
      "INFO:__main__:Chromosome 20: Found 18359 common SNPs\n",
      "INFO:__main__:Chromosome 21: Found 10281 common SNPs\n",
      "INFO:__main__:Chromosome 22: Found 9447 common SNPs\n",
      "INFO:__main__:Analysis complete. Results saved to CSV files.\n"
     ]
    },
    {
     "name": "stdout",
     "output_type": "stream",
     "text": [
      "\n",
      "Results for YRI:\n",
      "================================================================================\n",
      "Population              YRI\n",
      "Total HapMap SNPs    718848\n",
      "Total Common SNPs    718848\n",
      "Overall Overlap %     100.0\n",
      "\n",
      "Chromosome-level Statistics:\n",
      "            hapmap_snps  total_snps  common_snps  overlap_percentage\n",
      "Chromosome                                                          \n",
      "1                 55983       55983        55983               100.0\n",
      "2                 58409       58409        58409               100.0\n",
      "3                 48655       48655        48655               100.0\n",
      "4                 43809       43809        43809               100.0\n",
      "5                 45045       45045        45045               100.0\n",
      "6                 46016       46016        46016               100.0\n",
      "7                 38578       38578        38578               100.0\n",
      "8                 38291       38291        38291               100.0\n",
      "9                 32252       32252        32252               100.0\n",
      "10                36847       36847        36847               100.0\n",
      "11                36514       36514        36514               100.0\n",
      "12                33528       33528        33528               100.0\n",
      "13                26595       26595        26595               100.0\n",
      "14                22956       22956        22956               100.0\n",
      "15                21459       21459        21459               100.0\n",
      "16                22191       22191        22191               100.0\n",
      "17                19210       19210        19210               100.0\n",
      "18                21196       21196        21196               100.0\n",
      "19                13472       13472        13472               100.0\n",
      "20                18359       18359        18359               100.0\n",
      "21                10281       10281        10281               100.0\n",
      "22                 9447        9447         9447               100.0\n"
     ]
    }
   ],
   "source": [
    "from CB_02704 import *\n",
    "import pandas as pd\n",
    "import numpy as np\n",
    "import os\n",
    "import logging\n",
    "from typing import Dict, Tuple, Set\n",
    "\n",
    "logging.basicConfig(level=logging.INFO)\n",
    "logger = logging.getLogger(__name__)\n",
    "\n",
    "class DatasetComparator:\n",
    "    def __init__(self):\n",
    "        self.populations = ['ASW', 'CEU', 'CHB', 'CHD', 'GIH', 'JPT', 'LWK', 'MKK', 'MXL', 'TSI', 'YRI']\n",
    "        \n",
    "    def compare_datasets(self, pop: str) -> Dict:\n",
    "        \"\"\"比较HapMap和1000G数据集的SNP重叠情况\"\"\"\n",
    "        results = {\n",
    "            'population': pop,\n",
    "            'hapmap_snps': 0,\n",
    "            'common_snps': 0,\n",
    "            'chromosome_stats': {}\n",
    "        }\n",
    "        \n",
    "        # 读取HapMap数据\n",
    "        try:\n",
    "            hapmap_df = read_snp_pop(pop)\n",
    "            results['hapmap_snps'] = len(hapmap_df)\n",
    "            logger.info(f\"Loaded {len(hapmap_df)} SNPs from HapMap for {pop}\")\n",
    "            \n",
    "            # 获取所有SNP ID\n",
    "            hapmap_snps = set(hapmap_df.index)\n",
    "            \n",
    "            # 使用SNPs全局变量（从课程文档中看到这个是HapMap3的所有SNP信息）\n",
    "            all_snps = set(SNPs.index)\n",
    "            \n",
    "            # 计算重叠\n",
    "            common_snps = hapmap_snps.intersection(all_snps)\n",
    "            results['common_snps'] = len(common_snps)\n",
    "            results['overlap_percentage'] = (len(common_snps) / len(hapmap_snps) * 100) \\\n",
    "                                          if len(hapmap_snps) > 0 else 0\n",
    "            \n",
    "            # 按染色体统计\n",
    "            for chrom in range(1, 23):\n",
    "                hapmap_chr = hapmap_df[hapmap_df['chromosome'] == chrom]\n",
    "                all_chr = SNPs[SNPs['chromosome'] == chrom]\n",
    "                \n",
    "                common_chr = set(hapmap_chr.index).intersection(set(all_chr.index))\n",
    "                \n",
    "                results['chromosome_stats'][chrom] = {\n",
    "                    'hapmap_snps': len(hapmap_chr),\n",
    "                    'total_snps': len(all_chr),\n",
    "                    'common_snps': len(common_chr),\n",
    "                    'overlap_percentage': (len(common_chr) / len(hapmap_chr) * 100) \\\n",
    "                                        if len(hapmap_chr) > 0 else 0\n",
    "                }\n",
    "                \n",
    "                logger.info(f\"Chromosome {chrom}: Found {len(common_chr)} common SNPs\")\n",
    "                \n",
    "        except Exception as e:\n",
    "            logger.error(f\"Error processing population {pop}: {e}\")\n",
    "            raise\n",
    "            \n",
    "        return results\n",
    "\n",
    "    def analyze_population(self, pop: str) -> Tuple[pd.Series, pd.DataFrame]:\n",
    "        \"\"\"分析单个人群的数据集重叠情况，并返回详细的染色体级别统计信息\"\"\"\n",
    "        results = self.compare_datasets(pop)\n",
    "        \n",
    "        # 创建染色体级别的DataFrame\n",
    "        chr_stats = pd.DataFrame.from_dict(results['chromosome_stats'], orient='index')\n",
    "        chr_stats.index.name = 'Chromosome'\n",
    "        \n",
    "        # 添加总体统计信息\n",
    "        summary = pd.Series({\n",
    "            'Population': pop,\n",
    "            'Total HapMap SNPs': results['hapmap_snps'],\n",
    "            'Total Common SNPs': results['common_snps'],\n",
    "            'Overall Overlap %': results['overlap_percentage']\n",
    "        })\n",
    "        \n",
    "        return summary, chr_stats\n",
    "\n",
    "def main():\n",
    "    \"\"\"主函数\"\"\"\n",
    "    comparator = DatasetComparator()\n",
    "    \n",
    "    # 分析所有人群\n",
    "    all_summaries = []\n",
    "    all_chr_stats = {}\n",
    "    \n",
    "    for pop in comparator.populations:\n",
    "        logger.info(f\"Analyzing population: {pop}\")\n",
    "        try:\n",
    "            summary, chr_stats = comparator.analyze_population(pop)\n",
    "            all_summaries.append(summary)\n",
    "            all_chr_stats[pop] = chr_stats\n",
    "            \n",
    "            print(f\"\\nResults for {pop}:\")\n",
    "            print(\"=\" * 80)\n",
    "            print(summary.to_string())\n",
    "            print(\"\\nChromosome-level Statistics:\")\n",
    "            print(chr_stats.to_string())\n",
    "            \n",
    "        except Exception as e:\n",
    "            logger.error(f\"Failed to analyze {pop}: {e}\")\n",
    "            continue\n",
    "    \n",
    "    # 合并所有结果\n",
    "    overall_summary = pd.DataFrame(all_summaries)\n",
    "    \n",
    "    # 保存结果\n",
    "    overall_summary.to_csv('population_comparison_summary.csv', index=False)\n",
    "    \n",
    "    for pop, stats in all_chr_stats.items():\n",
    "        stats.to_csv(f'{pop}_chromosome_stats.csv')\n",
    "    \n",
    "    logger.info(\"Analysis complete. Results saved to CSV files.\")\n",
    "    \n",
    "if __name__ == \"__main__\":\n",
    "    main()"
   ]
  },
  {
   "cell_type": "code",
   "execution_count": null,
   "id": "43c78928",
   "metadata": {},
   "outputs": [],
   "source": []
  },
  {
   "cell_type": "code",
   "execution_count": 52,
   "id": "df04f562",
   "metadata": {},
   "outputs": [
    {
     "name": "stderr",
     "output_type": "stream",
     "text": [
      "INFO:__main__:\n",
      "Processing chromosome 1\n"
     ]
    },
    {
     "name": "stdout",
     "output_type": "stream",
     "text": [
      "\n",
      "Starting SNP dataset comparison...\n"
     ]
    },
    {
     "name": "stderr",
     "output_type": "stream",
     "text": [
      "INFO:__main__:Chromosome 1 summary:\n",
      "INFO:__main__:  HapMap SNPs: 55,983\n",
      "INFO:__main__:  1000G SNPs: 633,841\n",
      "INFO:__main__:  Matched by rs ID: 0\n",
      "INFO:__main__:  Matched by position: 172\n",
      "INFO:__main__:  Total matches: 172\n",
      "INFO:__main__:\n",
      "Processing chromosome 2\n",
      "INFO:__main__:Chromosome 2 summary:\n",
      "INFO:__main__:  HapMap SNPs: 58,409\n",
      "INFO:__main__:  1000G SNPs: 675,710\n",
      "INFO:__main__:  Matched by rs ID: 0\n",
      "INFO:__main__:  Matched by position: 182\n",
      "INFO:__main__:  Total matches: 182\n",
      "INFO:__main__:\n",
      "Processing chromosome 3\n",
      "INFO:__main__:Chromosome 3 summary:\n",
      "INFO:__main__:  HapMap SNPs: 48,655\n",
      "INFO:__main__:  1000G SNPs: 583,523\n",
      "INFO:__main__:  Matched by rs ID: 0\n",
      "INFO:__main__:  Matched by position: 139\n",
      "INFO:__main__:  Total matches: 139\n",
      "INFO:__main__:\n",
      "Processing chromosome 4\n",
      "INFO:__main__:Chromosome 4 summary:\n",
      "INFO:__main__:  HapMap SNPs: 43,809\n",
      "INFO:__main__:  1000G SNPs: 603,946\n",
      "INFO:__main__:  Matched by rs ID: 0\n",
      "INFO:__main__:  Matched by position: 144\n",
      "INFO:__main__:  Total matches: 144\n",
      "INFO:__main__:\n",
      "Processing chromosome 5\n",
      "INFO:__main__:Chromosome 5 summary:\n",
      "INFO:__main__:  HapMap SNPs: 45,045\n",
      "INFO:__main__:  1000G SNPs: 512,157\n",
      "INFO:__main__:  Matched by rs ID: 0\n",
      "INFO:__main__:  Matched by position: 150\n",
      "INFO:__main__:  Total matches: 150\n",
      "INFO:__main__:\n",
      "Processing chromosome 6\n",
      "INFO:__main__:Chromosome 6 summary:\n",
      "INFO:__main__:  HapMap SNPs: 46,016\n",
      "INFO:__main__:  1000G SNPs: 548,585\n",
      "INFO:__main__:  Matched by rs ID: 0\n",
      "INFO:__main__:  Matched by position: 177\n",
      "INFO:__main__:  Total matches: 177\n",
      "INFO:__main__:\n",
      "Processing chromosome 7\n",
      "INFO:__main__:Chromosome 7 summary:\n",
      "INFO:__main__:  HapMap SNPs: 38,578\n",
      "INFO:__main__:  1000G SNPs: 482,234\n",
      "INFO:__main__:  Matched by rs ID: 0\n",
      "INFO:__main__:  Matched by position: 132\n",
      "INFO:__main__:  Total matches: 132\n",
      "INFO:__main__:\n",
      "Processing chromosome 8\n",
      "INFO:__main__:Chromosome 8 summary:\n",
      "INFO:__main__:  HapMap SNPs: 38,291\n",
      "INFO:__main__:  1000G SNPs: 447,449\n",
      "INFO:__main__:  Matched by rs ID: 0\n",
      "INFO:__main__:  Matched by position: 126\n",
      "INFO:__main__:  Total matches: 126\n",
      "INFO:__main__:\n",
      "Processing chromosome 9\n",
      "INFO:__main__:Chromosome 9 summary:\n",
      "INFO:__main__:  HapMap SNPs: 32,252\n",
      "INFO:__main__:  1000G SNPs: 353,854\n",
      "INFO:__main__:  Matched by rs ID: 0\n",
      "INFO:__main__:  Matched by position: 113\n",
      "INFO:__main__:  Total matches: 113\n",
      "INFO:__main__:\n",
      "Processing chromosome 10\n",
      "INFO:__main__:Chromosome 10 summary:\n",
      "INFO:__main__:  HapMap SNPs: 36,847\n",
      "INFO:__main__:  1000G SNPs: 416,405\n",
      "INFO:__main__:  Matched by rs ID: 0\n",
      "INFO:__main__:  Matched by position: 114\n",
      "INFO:__main__:  Total matches: 114\n",
      "INFO:__main__:\n",
      "Processing chromosome 11\n",
      "INFO:__main__:Chromosome 11 summary:\n",
      "INFO:__main__:  HapMap SNPs: 36,514\n",
      "INFO:__main__:  1000G SNPs: 400,116\n",
      "INFO:__main__:  Matched by rs ID: 0\n",
      "INFO:__main__:  Matched by position: 111\n",
      "INFO:__main__:  Total matches: 111\n",
      "INFO:__main__:\n",
      "Processing chromosome 12\n",
      "INFO:__main__:Chromosome 12 summary:\n",
      "INFO:__main__:  HapMap SNPs: 33,528\n",
      "INFO:__main__:  1000G SNPs: 392,922\n",
      "INFO:__main__:  Matched by rs ID: 0\n",
      "INFO:__main__:  Matched by position: 131\n",
      "INFO:__main__:  Total matches: 131\n",
      "INFO:__main__:\n",
      "Processing chromosome 13\n",
      "INFO:__main__:Chromosome 13 summary:\n",
      "INFO:__main__:  HapMap SNPs: 26,595\n",
      "INFO:__main__:  1000G SNPs: 297,420\n",
      "INFO:__main__:  Matched by rs ID: 0\n",
      "INFO:__main__:  Matched by position: 79\n",
      "INFO:__main__:  Total matches: 79\n",
      "INFO:__main__:\n",
      "Processing chromosome 14\n",
      "INFO:__main__:Chromosome 14 summary:\n",
      "INFO:__main__:  HapMap SNPs: 22,956\n",
      "INFO:__main__:  1000G SNPs: 267,809\n",
      "INFO:__main__:  Matched by rs ID: 0\n",
      "INFO:__main__:  Matched by position: 80\n",
      "INFO:__main__:  Total matches: 80\n",
      "INFO:__main__:\n",
      "Processing chromosome 15\n",
      "INFO:__main__:Chromosome 15 summary:\n",
      "INFO:__main__:  HapMap SNPs: 21,459\n",
      "INFO:__main__:  1000G SNPs: 241,113\n",
      "INFO:__main__:  Matched by rs ID: 0\n",
      "INFO:__main__:  Matched by position: 67\n",
      "INFO:__main__:  Total matches: 67\n",
      "INFO:__main__:\n",
      "Processing chromosome 16\n",
      "INFO:__main__:Chromosome 16 summary:\n",
      "INFO:__main__:  HapMap SNPs: 22,191\n",
      "INFO:__main__:  1000G SNPs: 255,765\n",
      "INFO:__main__:  Matched by rs ID: 0\n",
      "INFO:__main__:  Matched by position: 98\n",
      "INFO:__main__:  Total matches: 98\n",
      "INFO:__main__:\n",
      "Processing chromosome 17\n",
      "INFO:__main__:Chromosome 17 summary:\n",
      "INFO:__main__:  HapMap SNPs: 19,210\n",
      "INFO:__main__:  1000G SNPs: 227,840\n",
      "INFO:__main__:  Matched by rs ID: 0\n",
      "INFO:__main__:  Matched by position: 152\n",
      "INFO:__main__:  Total matches: 152\n",
      "INFO:__main__:\n",
      "Processing chromosome 18\n",
      "INFO:__main__:Chromosome 18 summary:\n",
      "INFO:__main__:  HapMap SNPs: 21,196\n",
      "INFO:__main__:  1000G SNPs: 231,990\n",
      "INFO:__main__:  Matched by rs ID: 0\n",
      "INFO:__main__:  Matched by position: 54\n",
      "INFO:__main__:  Total matches: 54\n",
      "INFO:__main__:\n",
      "Processing chromosome 19\n",
      "INFO:__main__:Chromosome 19 summary:\n",
      "INFO:__main__:  HapMap SNPs: 13,472\n",
      "INFO:__main__:  1000G SNPs: 195,210\n",
      "INFO:__main__:  Matched by rs ID: 0\n",
      "INFO:__main__:  Matched by position: 37\n",
      "INFO:__main__:  Total matches: 37\n",
      "INFO:__main__:\n",
      "Processing chromosome 20\n",
      "INFO:__main__:Chromosome 20 summary:\n",
      "INFO:__main__:  HapMap SNPs: 18,359\n",
      "INFO:__main__:  1000G SNPs: 178,461\n",
      "INFO:__main__:  Matched by rs ID: 0\n",
      "INFO:__main__:  Matched by position: 64\n",
      "INFO:__main__:  Total matches: 64\n",
      "INFO:__main__:\n",
      "Processing chromosome 21\n",
      "INFO:__main__:Chromosome 21 summary:\n",
      "INFO:__main__:  HapMap SNPs: 10,281\n",
      "INFO:__main__:  1000G SNPs: 119,743\n",
      "INFO:__main__:  Matched by rs ID: 0\n",
      "INFO:__main__:  Matched by position: 36\n",
      "INFO:__main__:  Total matches: 36\n",
      "INFO:__main__:\n",
      "Processing chromosome 22\n",
      "INFO:__main__:Chromosome 22 summary:\n",
      "INFO:__main__:  HapMap SNPs: 9,447\n",
      "INFO:__main__:  1000G SNPs: 116,458\n",
      "INFO:__main__:  Matched by rs ID: 0\n",
      "INFO:__main__:  Matched by position: 29\n",
      "INFO:__main__:  Total matches: 29\n"
     ]
    },
    {
     "name": "stdout",
     "output_type": "stream",
     "text": [
      "\n",
      "Comparison Summary:\n",
      "================================================================================\n",
      "            hapmap_snps  1000g_snps  rs_matches  pos_matches  total_matches  \\\n",
      "chromosome                                                                    \n",
      "1                 55983      633841           0          172            172   \n",
      "2                 58409      675710           0          182            182   \n",
      "3                 48655      583523           0          139            139   \n",
      "4                 43809      603946           0          144            144   \n",
      "5                 45045      512157           0          150            150   \n",
      "6                 46016      548585           0          177            177   \n",
      "7                 38578      482234           0          132            132   \n",
      "8                 38291      447449           0          126            126   \n",
      "9                 32252      353854           0          113            113   \n",
      "10                36847      416405           0          114            114   \n",
      "11                36514      400116           0          111            111   \n",
      "12                33528      392922           0          131            131   \n",
      "13                26595      297420           0           79             79   \n",
      "14                22956      267809           0           80             80   \n",
      "15                21459      241113           0           67             67   \n",
      "16                22191      255765           0           98             98   \n",
      "17                19210      227840           0          152            152   \n",
      "18                21196      231990           0           54             54   \n",
      "19                13472      195210           0           37             37   \n",
      "20                18359      178461           0           64             64   \n",
      "21                10281      119743           0           36             36   \n",
      "22                 9447      116458           0           29             29   \n",
      "Total            699093     8182551           0         2387           2387   \n",
      "\n",
      "            hapmap_overlap  1000g_overlap  \n",
      "chromosome                                 \n",
      "1                 0.307236       0.027136  \n",
      "2                 0.311596       0.026935  \n",
      "3                 0.285685       0.023821  \n",
      "4                 0.328700       0.023843  \n",
      "5                 0.333000       0.029288  \n",
      "6                 0.384649       0.032265  \n",
      "7                 0.342164       0.027373  \n",
      "8                 0.329059       0.028160  \n",
      "9                 0.350366       0.031934  \n",
      "10                0.309387       0.027377  \n",
      "11                0.303993       0.027742  \n",
      "12                0.390718       0.033340  \n",
      "13                0.297048       0.026562  \n",
      "14                0.348493       0.029872  \n",
      "15                0.312223       0.027788  \n",
      "16                0.441620       0.038316  \n",
      "17                0.791255       0.066713  \n",
      "18                0.254765       0.023277  \n",
      "19                0.274644       0.018954  \n",
      "20                0.348603       0.035862  \n",
      "21                0.350160       0.030064  \n",
      "22                0.306976       0.024902  \n",
      "Total             0.341442       0.029172  \n",
      "\n",
      "Results saved to snp_comparison_summary.csv\n"
     ]
    }
   ],
   "source": [
    "from CB_02704 import *\n",
    "import pandas as pd\n",
    "import numpy as np\n",
    "import subprocess\n",
    "import logging\n",
    "import os\n",
    "from pathlib import Path\n",
    "\n",
    "logging.basicConfig(level=logging.INFO)\n",
    "logger = logging.getLogger(__name__)\n",
    "\n",
    "def read_1000g_snps(chrom: int, base_path: str) -> pd.DataFrame:\n",
    "    \"\"\"读取1000G VCF文件并返回SNP信息，包括位置信息\"\"\"\n",
    "    vcf_path = Path(base_path) / f\"maf_filtered.chr{chrom}.phase3.vcf.gz\"\n",
    "    \n",
    "    if not vcf_path.exists():\n",
    "        logger.warning(f\"File not found: {vcf_path}\")\n",
    "        return pd.DataFrame()\n",
    "        \n",
    "    try:\n",
    "        # 使用bcftools提取SNP信息，包括位置信息\n",
    "        cmd = f\"bcftools view -H {vcf_path} | cut -f1-5\"\n",
    "        result = subprocess.run(cmd, shell=True, capture_output=True, text=True)\n",
    "        \n",
    "        if result.returncode != 0:\n",
    "            logger.error(f\"bcftools error: {result.stderr}\")\n",
    "            return pd.DataFrame()\n",
    "        \n",
    "        # 将输出转换为DataFrame\n",
    "        rows = []\n",
    "        for line in result.stdout.strip().split('\\n'):\n",
    "            if line:\n",
    "                chrom, pos, snp_id, ref, alt = line.split('\\t')\n",
    "                rows.append({\n",
    "                    'chromosome': int(chrom.replace('chr', '')),\n",
    "                    'position': int(pos),\n",
    "                    'snp_id': snp_id if snp_id != '.' else f\"chr{chrom}:{pos}\",\n",
    "                    'ref': ref,\n",
    "                    'alt': alt\n",
    "                })\n",
    "        \n",
    "        df = pd.DataFrame(rows)\n",
    "        return df\n",
    "    \n",
    "    except Exception as e:\n",
    "        logger.error(f\"Error reading chromosome {chrom} from 1000G: {e}\")\n",
    "        return pd.DataFrame()\n",
    "\n",
    "def compare_snp_sets(kg_base_path: str=\"../data/1000g/maf_filtered\"):\n",
    "    \"\"\"比较HapMap和1000G的SNP集合，使用ID和位置信息\"\"\"\n",
    "    results = []\n",
    "    total_stats = {'hapmap': 0, '1000g': 0, 'matched': 0}\n",
    "    \n",
    "    # 处理每条染色体\n",
    "    for chrom in range(1, 23):\n",
    "        logger.info(f\"\\nProcessing chromosome {chrom}\")\n",
    "        \n",
    "        # 获取HapMap数据\n",
    "        hapmap_chr = SNPs[SNPs['chromosome'] == chrom].copy()\n",
    "        hapmap_chr['pos_key'] = hapmap_chr.apply(lambda x: f\"chr{x['chromosome']}:{x['position']}\", axis=1)\n",
    "        \n",
    "        # 获取1000G数据\n",
    "        kg_chr = read_1000g_snps(chrom, kg_base_path)\n",
    "        if kg_chr.empty:\n",
    "            continue\n",
    "            \n",
    "        # 创建位置键\n",
    "        kg_chr['pos_key'] = kg_chr.apply(lambda x: f\"chr{x['chromosome']}:{x['position']}\", axis=1)\n",
    "        \n",
    "        # 1. 首先通过rs ID匹配\n",
    "        hapmap_rs_ids = set(hapmap_chr.index)\n",
    "        kg_rs_ids = set(kg_chr[kg_chr['snp_id'].str.startswith('rs')]['snp_id'])\n",
    "        id_matches = hapmap_rs_ids.intersection(kg_rs_ids)\n",
    "        \n",
    "        # 2. 然后通过位置匹配\n",
    "        hapmap_positions = set(hapmap_chr['pos_key'])\n",
    "        kg_positions = set(kg_chr['pos_key'])\n",
    "        pos_matches = hapmap_positions.intersection(kg_positions)\n",
    "        \n",
    "        # 统计\n",
    "        n_hapmap = len(hapmap_chr)\n",
    "        n_1000g = len(kg_chr)\n",
    "        n_id_matches = len(id_matches)\n",
    "        n_pos_matches = len(pos_matches)\n",
    "        n_total_matches = len(set(id_matches).union(pos_matches))\n",
    "        \n",
    "        results.append({\n",
    "            'chromosome': chrom,\n",
    "            'hapmap_snps': n_hapmap,\n",
    "            '1000g_snps': n_1000g,\n",
    "            'rs_matches': n_id_matches,\n",
    "            'pos_matches': n_pos_matches,\n",
    "            'total_matches': n_total_matches,\n",
    "            'hapmap_overlap': (n_total_matches / n_hapmap * 100) if n_hapmap > 0 else 0,\n",
    "            '1000g_overlap': (n_total_matches / n_1000g * 100) if n_1000g > 0 else 0\n",
    "        })\n",
    "        \n",
    "        # 更新总计\n",
    "        total_stats['hapmap'] += n_hapmap\n",
    "        total_stats['1000g'] += n_1000g\n",
    "        total_stats['matched'] += n_total_matches\n",
    "        \n",
    "        # 输出染色体级别的统计\n",
    "        logger.info(f\"Chromosome {chrom} summary:\")\n",
    "        logger.info(f\"  HapMap SNPs: {n_hapmap:,}\")\n",
    "        logger.info(f\"  1000G SNPs: {n_1000g:,}\")\n",
    "        logger.info(f\"  Matched by rs ID: {n_id_matches:,}\")\n",
    "        logger.info(f\"  Matched by position: {n_pos_matches:,}\")\n",
    "        logger.info(f\"  Total matches: {n_total_matches:,}\")\n",
    "    \n",
    "    # 创建汇总DataFrame\n",
    "    summary_df = pd.DataFrame(results)\n",
    "    summary_df.set_index('chromosome', inplace=True)\n",
    "    \n",
    "    # 添加总计行\n",
    "    if not summary_df.empty:\n",
    "        summary_df.loc['Total'] = {\n",
    "            'hapmap_snps': total_stats['hapmap'],\n",
    "            '1000g_snps': total_stats['1000g'],\n",
    "            'rs_matches': sum(r['rs_matches'] for r in results),\n",
    "            'pos_matches': sum(r['pos_matches'] for r in results),\n",
    "            'total_matches': total_stats['matched'],\n",
    "            'hapmap_overlap': (total_stats['matched'] / total_stats['hapmap'] * 100),\n",
    "            '1000g_overlap': (total_stats['matched'] / total_stats['1000g'] * 100)\n",
    "        }\n",
    "    \n",
    "    return summary_df\n",
    "\n",
    "def main():\n",
    "    print(\"\\nStarting SNP dataset comparison...\")\n",
    "    summary_df = compare_snp_sets()\n",
    "    \n",
    "    print(\"\\nComparison Summary:\")\n",
    "    print(\"=\" * 80)\n",
    "    print(summary_df)\n",
    "    \n",
    "    # 保存结果\n",
    "    summary_df.to_csv('snp_comparison_summary.csv')\n",
    "    print(\"\\nResults saved to snp_comparison_summary.csv\")\n",
    "\n",
    "if __name__ == \"__main__\":\n",
    "    main()"
   ]
  },
  {
   "cell_type": "code",
   "execution_count": 54,
   "id": "abaadbf0",
   "metadata": {},
   "outputs": [
    {
     "name": "stderr",
     "output_type": "stream",
     "text": [
      "INFO:__main__:Chromosome 1 range: 0-55983\n",
      "INFO:__main__:\n",
      "HapMap SNPs for chr1:\n",
      "INFO:__main__:Total SNPs: 55983\n",
      "INFO:__main__:\n",
      "First 5 SNPs:\n",
      "INFO:__main__:\n",
      "HapMap chromosome stats:\n",
      "INFO:__main__:Number of unique positions: 55861\n",
      "INFO:__main__:Number of unique SNP IDs: 55983\n",
      "INFO:__main__:Chromosome 2 range: 55983-114392\n",
      "INFO:__main__:\n",
      "HapMap SNPs for chr2:\n",
      "INFO:__main__:Total SNPs: 58409\n",
      "INFO:__main__:\n",
      "First 5 SNPs:\n",
      "INFO:__main__:\n",
      "HapMap chromosome stats:\n",
      "INFO:__main__:Number of unique positions: 58275\n",
      "INFO:__main__:Number of unique SNP IDs: 58409\n",
      "INFO:__main__:Chromosome 3 range: 114392-163047\n",
      "INFO:__main__:\n",
      "HapMap SNPs for chr3:\n",
      "INFO:__main__:Total SNPs: 48655\n",
      "INFO:__main__:\n",
      "First 5 SNPs:\n",
      "INFO:__main__:\n",
      "HapMap chromosome stats:\n",
      "INFO:__main__:Number of unique positions: 48546\n",
      "INFO:__main__:Number of unique SNP IDs: 48655\n"
     ]
    },
    {
     "name": "stdout",
     "output_type": "stream",
     "text": [
      "            chromosome  morgans  position ref alt\n",
      "rs3131972            1      0.0    742584   G   A\n",
      "rs3131969            1      0.0    744045   G   A\n",
      "rs3131967            1      0.0    744197   C   T\n",
      "rs1048488            1      0.0    750775   T   C\n",
      "rs12562034           1      0.0    758311   G   A\n",
      "\n",
      "================================================================================\n",
      "\n",
      "            chromosome  morgans  position ref alt\n",
      "rs10165221           2      0.0     40814   C   T\n",
      "rs7580475            2      0.0     90190   T   C\n",
      "rs300803             2      0.0     91514   G   C\n",
      "rs7588043            2      0.0     94979   C   T\n",
      "rs436446             2      0.0     96409   C   T\n",
      "\n",
      "================================================================================\n",
      "\n",
      "            chromosome  morgans  position ref alt\n",
      "rs13060385           3      0.0     36495   A   G\n",
      "rs9713920            3      0.0     41083   T   C\n",
      "rs9681213            3      0.0     41894   G   A\n",
      "rs9682794            3      0.0     45895   T   C\n",
      "rs12637617           3      0.0     46404   T   C\n",
      "\n",
      "================================================================================\n",
      "\n"
     ]
    }
   ],
   "source": [
    "from CB_02704 import *\n",
    "import pandas as pd\n",
    "import numpy as np\n",
    "import logging\n",
    "\n",
    "logging.basicConfig(level=logging.INFO)\n",
    "logger = logging.getLogger(__name__)\n",
    "\n",
    "def debug_chromosome_data(chrom: int = 1):\n",
    "    \"\"\"调试指定染色体的数据格式\"\"\"\n",
    "    # 获取该染色体的SNP范围\n",
    "    start, stop = get_chr_range(chrom)\n",
    "    logger.info(f\"Chromosome {chrom} range: {start}-{stop}\")\n",
    "    \n",
    "    # 获取HapMap数据\n",
    "    hapmap_chr = SNPs.iloc[start:stop]\n",
    "    logger.info(f\"\\nHapMap SNPs for chr{chrom}:\")\n",
    "    logger.info(f\"Total SNPs: {len(hapmap_chr)}\")\n",
    "    logger.info(\"\\nFirst 5 SNPs:\")\n",
    "    print(hapmap_chr.head())\n",
    "    \n",
    "    # 统计数据\n",
    "    logger.info(f\"\\nHapMap chromosome stats:\")\n",
    "    logger.info(f\"Number of unique positions: {len(hapmap_chr['position'].unique())}\")\n",
    "    logger.info(f\"Number of unique SNP IDs: {len(hapmap_chr.index.unique())}\")\n",
    "\n",
    "def main():\n",
    "    # 测试前几条染色体\n",
    "    for chrom in range(1, 4):\n",
    "        debug_chromosome_data(chrom)\n",
    "        print(\"\\n\" + \"=\"*80 + \"\\n\")\n",
    "\n",
    "if __name__ == \"__main__\":\n",
    "    main()"
   ]
  },
  {
   "cell_type": "code",
   "execution_count": 55,
   "id": "a4ce6ff5",
   "metadata": {},
   "outputs": [
    {
     "name": "stderr",
     "output_type": "stream",
     "text": [
      "INFO:__main__:\n",
      "Processing chromosome 1\n",
      "INFO:__main__:HapMap chromosome 1: 55983 SNPs\n"
     ]
    },
    {
     "name": "stdout",
     "output_type": "stream",
     "text": [
      "\n",
      "Starting SNP dataset comparison...\n"
     ]
    },
    {
     "name": "stderr",
     "output_type": "stream",
     "text": [
      "INFO:__main__:\n",
      "Processing chromosome 2\n",
      "INFO:__main__:HapMap chromosome 2: 58409 SNPs\n",
      "INFO:__main__:\n",
      "Processing chromosome 3\n",
      "INFO:__main__:HapMap chromosome 3: 48655 SNPs\n",
      "INFO:__main__:\n",
      "Processing chromosome 4\n",
      "INFO:__main__:HapMap chromosome 4: 43809 SNPs\n",
      "INFO:__main__:\n",
      "Processing chromosome 5\n",
      "INFO:__main__:HapMap chromosome 5: 45045 SNPs\n",
      "INFO:__main__:\n",
      "Processing chromosome 6\n",
      "INFO:__main__:HapMap chromosome 6: 46016 SNPs\n",
      "INFO:__main__:\n",
      "Processing chromosome 7\n",
      "INFO:__main__:HapMap chromosome 7: 38578 SNPs\n",
      "INFO:__main__:\n",
      "Processing chromosome 8\n",
      "INFO:__main__:HapMap chromosome 8: 38291 SNPs\n",
      "INFO:__main__:\n",
      "Processing chromosome 9\n",
      "INFO:__main__:HapMap chromosome 9: 32252 SNPs\n",
      "INFO:__main__:\n",
      "Processing chromosome 10\n",
      "INFO:__main__:HapMap chromosome 10: 36847 SNPs\n",
      "INFO:__main__:\n",
      "Processing chromosome 11\n",
      "INFO:__main__:HapMap chromosome 11: 36514 SNPs\n",
      "INFO:__main__:\n",
      "Processing chromosome 12\n",
      "INFO:__main__:HapMap chromosome 12: 33528 SNPs\n",
      "INFO:__main__:\n",
      "Processing chromosome 13\n",
      "INFO:__main__:HapMap chromosome 13: 26595 SNPs\n",
      "INFO:__main__:\n",
      "Processing chromosome 14\n",
      "INFO:__main__:HapMap chromosome 14: 22956 SNPs\n",
      "INFO:__main__:\n",
      "Processing chromosome 15\n",
      "INFO:__main__:HapMap chromosome 15: 21459 SNPs\n",
      "INFO:__main__:\n",
      "Processing chromosome 16\n",
      "INFO:__main__:HapMap chromosome 16: 22191 SNPs\n",
      "INFO:__main__:\n",
      "Processing chromosome 17\n",
      "INFO:__main__:HapMap chromosome 17: 19210 SNPs\n",
      "INFO:__main__:\n",
      "Processing chromosome 18\n",
      "INFO:__main__:HapMap chromosome 18: 21196 SNPs\n",
      "INFO:__main__:\n",
      "Processing chromosome 19\n",
      "INFO:__main__:HapMap chromosome 19: 13472 SNPs\n",
      "INFO:__main__:\n",
      "Processing chromosome 20\n",
      "INFO:__main__:HapMap chromosome 20: 18359 SNPs\n",
      "INFO:__main__:\n",
      "Processing chromosome 21\n",
      "INFO:__main__:HapMap chromosome 21: 10281 SNPs\n",
      "INFO:__main__:\n",
      "Processing chromosome 22\n",
      "INFO:__main__:HapMap chromosome 22: 9447 SNPs\n"
     ]
    },
    {
     "ename": "KeyError",
     "evalue": "\"None of ['chromosome'] are in the columns\"",
     "output_type": "error",
     "traceback": [
      "\u001b[0;31m---------------------------------------------------------------------------\u001b[0m",
      "\u001b[0;31mKeyError\u001b[0m                                  Traceback (most recent call last)",
      "\u001b[0;32m/var/folders/96/2s64979965l0x1hmvz6rctxh0000gp/T/ipykernel_35761/274872235.py\u001b[0m in \u001b[0;36m?\u001b[0;34m()\u001b[0m\n\u001b[1;32m    151\u001b[0m     \u001b[0msummary_df\u001b[0m\u001b[0;34m.\u001b[0m\u001b[0mto_csv\u001b[0m\u001b[0;34m(\u001b[0m\u001b[0;34m'snp_comparison_summary.csv'\u001b[0m\u001b[0;34m)\u001b[0m\u001b[0;34m\u001b[0m\u001b[0;34m\u001b[0m\u001b[0m\n\u001b[1;32m    152\u001b[0m     \u001b[0mprint\u001b[0m\u001b[0;34m(\u001b[0m\u001b[0;34m\"\\nResults saved to snp_comparison_summary.csv\"\u001b[0m\u001b[0;34m)\u001b[0m\u001b[0;34m\u001b[0m\u001b[0;34m\u001b[0m\u001b[0m\n\u001b[1;32m    153\u001b[0m \u001b[0;34m\u001b[0m\u001b[0m\n\u001b[1;32m    154\u001b[0m \u001b[0;32mif\u001b[0m \u001b[0m__name__\u001b[0m \u001b[0;34m==\u001b[0m \u001b[0;34m\"__main__\"\u001b[0m\u001b[0;34m:\u001b[0m\u001b[0;34m\u001b[0m\u001b[0;34m\u001b[0m\u001b[0m\n\u001b[0;32m--> 155\u001b[0;31m     \u001b[0mmain\u001b[0m\u001b[0;34m(\u001b[0m\u001b[0;34m)\u001b[0m\u001b[0;34m\u001b[0m\u001b[0;34m\u001b[0m\u001b[0m\n\u001b[0m",
      "\u001b[0;32m/var/folders/96/2s64979965l0x1hmvz6rctxh0000gp/T/ipykernel_35761/274872235.py\u001b[0m in \u001b[0;36m?\u001b[0;34m()\u001b[0m\n\u001b[1;32m    142\u001b[0m \u001b[0;32mdef\u001b[0m \u001b[0mmain\u001b[0m\u001b[0;34m(\u001b[0m\u001b[0;34m)\u001b[0m\u001b[0;34m:\u001b[0m\u001b[0;34m\u001b[0m\u001b[0;34m\u001b[0m\u001b[0m\n\u001b[1;32m    143\u001b[0m     \u001b[0mprint\u001b[0m\u001b[0;34m(\u001b[0m\u001b[0;34m\"\\nStarting SNP dataset comparison...\"\u001b[0m\u001b[0;34m)\u001b[0m\u001b[0;34m\u001b[0m\u001b[0;34m\u001b[0m\u001b[0m\n\u001b[0;32m--> 144\u001b[0;31m     \u001b[0msummary_df\u001b[0m \u001b[0;34m=\u001b[0m \u001b[0mcompare_snp_sets\u001b[0m\u001b[0;34m(\u001b[0m\u001b[0;34m)\u001b[0m\u001b[0;34m\u001b[0m\u001b[0;34m\u001b[0m\u001b[0m\n\u001b[0m\u001b[1;32m    145\u001b[0m \u001b[0;34m\u001b[0m\u001b[0m\n\u001b[1;32m    146\u001b[0m     \u001b[0mprint\u001b[0m\u001b[0;34m(\u001b[0m\u001b[0;34m\"\\nComparison Summary:\"\u001b[0m\u001b[0;34m)\u001b[0m\u001b[0;34m\u001b[0m\u001b[0;34m\u001b[0m\u001b[0m\n\u001b[1;32m    147\u001b[0m     \u001b[0mprint\u001b[0m\u001b[0;34m(\u001b[0m\u001b[0;34m\"=\"\u001b[0m \u001b[0;34m*\u001b[0m \u001b[0;36m80\u001b[0m\u001b[0;34m)\u001b[0m\u001b[0;34m\u001b[0m\u001b[0;34m\u001b[0m\u001b[0m\n",
      "\u001b[0;32m/var/folders/96/2s64979965l0x1hmvz6rctxh0000gp/T/ipykernel_35761/274872235.py\u001b[0m in \u001b[0;36m?\u001b[0;34m(kg_base_path)\u001b[0m\n\u001b[1;32m    121\u001b[0m                 \u001b[0mlogger\u001b[0m\u001b[0;34m.\u001b[0m\u001b[0minfo\u001b[0m\u001b[0;34m(\u001b[0m\u001b[0;34mf\"{snp_id}: pos={snp['position']}, {snp['ref']}/{snp['alt']}\"\u001b[0m\u001b[0;34m)\u001b[0m\u001b[0;34m\u001b[0m\u001b[0;34m\u001b[0m\u001b[0m\n\u001b[1;32m    122\u001b[0m \u001b[0;34m\u001b[0m\u001b[0m\n\u001b[1;32m    123\u001b[0m     \u001b[0;31m# 创建汇总DataFrame\u001b[0m\u001b[0;34m\u001b[0m\u001b[0;34m\u001b[0m\u001b[0m\n\u001b[1;32m    124\u001b[0m     \u001b[0msummary_df\u001b[0m \u001b[0;34m=\u001b[0m \u001b[0mpd\u001b[0m\u001b[0;34m.\u001b[0m\u001b[0mDataFrame\u001b[0m\u001b[0;34m(\u001b[0m\u001b[0mresults\u001b[0m\u001b[0;34m)\u001b[0m\u001b[0;34m\u001b[0m\u001b[0;34m\u001b[0m\u001b[0m\n\u001b[0;32m--> 125\u001b[0;31m     \u001b[0msummary_df\u001b[0m\u001b[0;34m.\u001b[0m\u001b[0mset_index\u001b[0m\u001b[0;34m(\u001b[0m\u001b[0;34m'chromosome'\u001b[0m\u001b[0;34m,\u001b[0m \u001b[0minplace\u001b[0m\u001b[0;34m=\u001b[0m\u001b[0;32mTrue\u001b[0m\u001b[0;34m)\u001b[0m\u001b[0;34m\u001b[0m\u001b[0;34m\u001b[0m\u001b[0m\n\u001b[0m\u001b[1;32m    126\u001b[0m \u001b[0;34m\u001b[0m\u001b[0m\n\u001b[1;32m    127\u001b[0m     \u001b[0;31m# 添加总计行\u001b[0m\u001b[0;34m\u001b[0m\u001b[0;34m\u001b[0m\u001b[0m\n\u001b[1;32m    128\u001b[0m     total_dict = {\n",
      "\u001b[0;32m/Applications/anaconda3/lib/python3.11/site-packages/pandas/core/frame.py\u001b[0m in \u001b[0;36m?\u001b[0;34m(self, keys, drop, append, inplace, verify_integrity)\u001b[0m\n\u001b[1;32m   5855\u001b[0m                     \u001b[0;32mif\u001b[0m \u001b[0;32mnot\u001b[0m \u001b[0mfound\u001b[0m\u001b[0;34m:\u001b[0m\u001b[0;34m\u001b[0m\u001b[0;34m\u001b[0m\u001b[0m\n\u001b[1;32m   5856\u001b[0m                         \u001b[0mmissing\u001b[0m\u001b[0;34m.\u001b[0m\u001b[0mappend\u001b[0m\u001b[0;34m(\u001b[0m\u001b[0mcol\u001b[0m\u001b[0;34m)\u001b[0m\u001b[0;34m\u001b[0m\u001b[0;34m\u001b[0m\u001b[0m\n\u001b[1;32m   5857\u001b[0m \u001b[0;34m\u001b[0m\u001b[0m\n\u001b[1;32m   5858\u001b[0m         \u001b[0;32mif\u001b[0m \u001b[0mmissing\u001b[0m\u001b[0;34m:\u001b[0m\u001b[0;34m\u001b[0m\u001b[0;34m\u001b[0m\u001b[0m\n\u001b[0;32m-> 5859\u001b[0;31m             \u001b[0;32mraise\u001b[0m \u001b[0mKeyError\u001b[0m\u001b[0;34m(\u001b[0m\u001b[0;34mf\"None of {missing} are in the columns\"\u001b[0m\u001b[0;34m)\u001b[0m\u001b[0;34m\u001b[0m\u001b[0;34m\u001b[0m\u001b[0m\n\u001b[0m\u001b[1;32m   5860\u001b[0m \u001b[0;34m\u001b[0m\u001b[0m\n\u001b[1;32m   5861\u001b[0m         \u001b[0;32mif\u001b[0m \u001b[0minplace\u001b[0m\u001b[0;34m:\u001b[0m\u001b[0;34m\u001b[0m\u001b[0;34m\u001b[0m\u001b[0m\n\u001b[1;32m   5862\u001b[0m             \u001b[0mframe\u001b[0m \u001b[0;34m=\u001b[0m \u001b[0mself\u001b[0m\u001b[0;34m\u001b[0m\u001b[0;34m\u001b[0m\u001b[0m\n",
      "\u001b[0;31mKeyError\u001b[0m: \"None of ['chromosome'] are in the columns\""
     ]
    }
   ],
   "source": [
    "from CB_02704 import *\n",
    "import pandas as pd\n",
    "import numpy as np\n",
    "import subprocess\n",
    "import logging\n",
    "from pathlib import Path\n",
    "\n",
    "logging.basicConfig(level=logging.INFO)\n",
    "logger = logging.getLogger(__name__)\n",
    "\n",
    "def read_1000g_snps(chrom: int, base_path: str) -> pd.DataFrame:\n",
    "    \"\"\"读取1000G VCF文件并返回SNP信息，规范化格式以匹配HapMap\"\"\"\n",
    "    vcf_path = Path(base_path) / f\"maf_filtered.chr{chrom}.phase3.vcf.gz\"\n",
    "    \n",
    "    if not vcf_path.exists():\n",
    "        logger.warning(f\"File not found: {vcf_path}\")\n",
    "        return pd.DataFrame()\n",
    "        \n",
    "    try:\n",
    "        cmd = f\"bcftools view -H {vcf_path} | cut -f1-5\"\n",
    "        result = subprocess.run(cmd, shell=True, capture_output=True, text=True)\n",
    "        \n",
    "        rows = []\n",
    "        for line in result.stdout.strip().split('\\n'):\n",
    "            if line:\n",
    "                chrom_str, pos, snp_id, ref, alt = line.split('\\t')\n",
    "                # 只保留标准rs ID的SNP\n",
    "                if snp_id.startswith('rs'):\n",
    "                    rows.append({\n",
    "                        'chromosome': int(chrom_str),\n",
    "                        'position': int(pos),\n",
    "                        'snp_id': snp_id,\n",
    "                        'ref': ref,\n",
    "                        'alt': alt\n",
    "                    })\n",
    "        \n",
    "        df = pd.DataFrame(rows)\n",
    "        if not df.empty:\n",
    "            df.set_index('snp_id', inplace=True)\n",
    "            # 确保ref和alt是大写的\n",
    "            df['ref'] = df['ref'].str.upper()\n",
    "            df['alt'] = df['alt'].str.upper()\n",
    "        return df\n",
    "    \n",
    "    except Exception as e:\n",
    "        logger.error(f\"Error reading chromosome {chrom} from 1000G: {e}\")\n",
    "        return pd.DataFrame()\n",
    "\n",
    "def check_allele_match(row1, row2):\n",
    "    \"\"\"检查两个SNP的等位基因是否匹配（考虑互补和顺序）\"\"\"\n",
    "    alleles1 = {row1['ref'], row1['alt']}\n",
    "    alleles2 = {row2['ref'], row2['alt']}\n",
    "    \n",
    "    # 直接匹配\n",
    "    if alleles1 == alleles2:\n",
    "        return True\n",
    "    \n",
    "    # 检查互补\n",
    "    complement = {'A': 'T', 'T': 'A', 'C': 'G', 'G': 'C'}\n",
    "    alleles2_complement = {complement.get(base, base) for base in alleles2}\n",
    "    return alleles1 == alleles2_complement\n",
    "\n",
    "def compare_snp_sets(kg_base_path: str=\"../data/1000g/maf_filtered\"):\n",
    "    \"\"\"比较HapMap和1000G的SNP集合，确保正确的位置和等位基因匹配\"\"\"\n",
    "    results = []\n",
    "    \n",
    "    for chrom in range(1, 23):\n",
    "        logger.info(f\"\\nProcessing chromosome {chrom}\")\n",
    "        \n",
    "        # 获取HapMap数据\n",
    "        hapmap_chr = SNPs[SNPs['chromosome'] == chrom].copy()\n",
    "        logger.info(f\"HapMap chromosome {chrom}: {len(hapmap_chr)} SNPs\")\n",
    "        \n",
    "        # 读取1000G数据\n",
    "        kg_chr = read_1000g_snps(chrom, kg_base_path)\n",
    "        if kg_chr.empty:\n",
    "            continue\n",
    "        logger.info(f\"1000G chromosome {chrom}: {len(kg_chr)} SNPs\")\n",
    "        \n",
    "        # 计数器\n",
    "        matched_by_id = 0\n",
    "        matched_by_pos = 0\n",
    "        matched_total = set()\n",
    "        \n",
    "        # 通过rs ID匹配\n",
    "        common_ids = set(hapmap_chr.index) & set(kg_chr.index)\n",
    "        for snp_id in common_ids:\n",
    "            if check_allele_match(hapmap_chr.loc[snp_id], kg_chr.loc[snp_id]):\n",
    "                matched_by_id += 1\n",
    "                matched_total.add(snp_id)\n",
    "        \n",
    "        # 通过位置匹配（对于ID不匹配的SNP）\n",
    "        hapmap_pos_dict = {(row['position'], row['ref'], row['alt']): idx \n",
    "                          for idx, row in hapmap_chr.iterrows() \n",
    "                          if idx not in matched_total}\n",
    "                          \n",
    "        for idx, row in kg_chr.iterrows():\n",
    "            if idx not in matched_total:\n",
    "                pos_key = (row['position'], row['ref'], row['alt'])\n",
    "                if pos_key in hapmap_pos_dict:\n",
    "                    matched_by_pos += 1\n",
    "                    matched_total.add(hapmap_pos_dict[pos_key])\n",
    "        \n",
    "        results.append({\n",
    "            'chromosome': chrom,\n",
    "            'hapmap_snps': len(hapmap_chr),\n",
    "            '1000g_snps': len(kg_chr),\n",
    "            'id_matches': matched_by_id,\n",
    "            'pos_matches': matched_by_pos,\n",
    "            'total_matches': len(matched_total),\n",
    "            'hapmap_overlap': len(matched_total) / len(hapmap_chr) * 100 if len(hapmap_chr) > 0 else 0,\n",
    "            '1000g_overlap': len(matched_total) / len(kg_chr) * 100 if len(kg_chr) > 0 else 0\n",
    "        })\n",
    "        \n",
    "        # 输出一些不匹配的例子\n",
    "        if len(results) == 1:  # 只对第一条染色体做详细分析\n",
    "            unmatched_hapmap = set(hapmap_chr.index) - matched_total\n",
    "            logger.info(\"\\nExample unmatched HapMap SNPs:\")\n",
    "            for snp_id in list(unmatched_hapmap)[:5]:\n",
    "                snp = hapmap_chr.loc[snp_id]\n",
    "                logger.info(f\"{snp_id}: pos={snp['position']}, {snp['ref']}/{snp['alt']}\")\n",
    "    \n",
    "    # 创建汇总DataFrame\n",
    "    summary_df = pd.DataFrame(results)\n",
    "    summary_df.set_index('chromosome', inplace=True)\n",
    "    \n",
    "    # 添加总计行\n",
    "    total_dict = {\n",
    "        'hapmap_snps': summary_df['hapmap_snps'].sum(),\n",
    "        '1000g_snps': summary_df['1000g_snps'].sum(),\n",
    "        'id_matches': summary_df['id_matches'].sum(),\n",
    "        'pos_matches': summary_df['pos_matches'].sum(),\n",
    "        'total_matches': summary_df['total_matches'].sum()\n",
    "    }\n",
    "    total_dict['hapmap_overlap'] = total_dict['total_matches'] / total_dict['hapmap_snps'] * 100\n",
    "    total_dict['1000g_overlap'] = total_dict['total_matches'] / total_dict['1000g_snps'] * 100\n",
    "    \n",
    "    summary_df.loc['Total'] = pd.Series(total_dict)\n",
    "    \n",
    "    return summary_df\n",
    "\n",
    "def main():\n",
    "    print(\"\\nStarting SNP dataset comparison...\")\n",
    "    summary_df = compare_snp_sets()\n",
    "    \n",
    "    print(\"\\nComparison Summary:\")\n",
    "    print(\"=\" * 80)\n",
    "    print(summary_df)\n",
    "    \n",
    "    # 保存结果\n",
    "    summary_df.to_csv('snp_comparison_summary.csv')\n",
    "    print(\"\\nResults saved to snp_comparison_summary.csv\")\n",
    "\n",
    "if __name__ == \"__main__\":\n",
    "    main()"
   ]
  },
  {
   "cell_type": "code",
   "execution_count": null,
   "id": "78d5fc53",
   "metadata": {},
   "outputs": [],
   "source": [
    "debug_snp_format()"
   ]
  },
  {
   "cell_type": "code",
   "execution_count": 41,
   "id": "df39d6bc",
   "metadata": {},
   "outputs": [],
   "source": [
    "from CB_02704 import *\n",
    "import pandas as pd\n",
    "import numpy as np\n",
    "from typing import Dict, Set, Tuple\n",
    "import subprocess\n",
    "import os\n",
    "\n",
    "def get_1000g_positions(vcf_file: str) -> Set[str]:\n",
    "    \"\"\"Get SNP positions from filtered 1000G VCF file\"\"\"\n",
    "    cmd = f\"bcftools query -f '%CHROM:%POS\\n' {vcf_file}\"\n",
    "    result = subprocess.run(cmd, shell=True, capture_output=True, text=True)\n",
    "    return set(result.stdout.strip().split('\\n'))\n",
    "\n",
    "def get_all_1000g_positions() -> Set[str]:\n",
    "    \"\"\"Get all SNP positions from filtered 1000G VCF files\"\"\"\n",
    "    all_positions = set()\n",
    "    for chr in range(1, 23):\n",
    "        vcf_file = f\"../data/common_snps/common_snps.chr{chr}.vcf.gz\"\n",
    "        positions = get_1000g_positions(vcf_file)\n",
    "        all_positions.update(positions)\n",
    "    return all_positions\n",
    "\n",
    "def filter_hapmap3(population: str, kg_positions: Set[str], data_dir: str) -> Tuple[np.ndarray, pd.DataFrame]:\n",
    "    \"\"\"Filter HapMap3 data for a population to keep only common SNPs\"\"\"\n",
    "    # Read HapMap3 data\n",
    "    print(f\"Reading {population} data...\")\n",
    "    snp_data = read_snp_pop(population)\n",
    "    geno_data = read_geno_pop(population)\n",
    "    ind_data = read_ind_pop(population)\n",
    "    \n",
    "    # Create position strings for comparison\n",
    "    snp_positions = set(f\"{row['chromosome']}:{row['position']}\" \n",
    "                       for _, row in snp_data.iterrows())\n",
    "    \n",
    "    # Find common positions\n",
    "    common_positions = snp_positions.intersection(kg_positions)\n",
    "    \n",
    "    # Get indices of SNPs to keep\n",
    "    keep_idx = [i for i, (_, row) in enumerate(snp_data.iterrows())\n",
    "                if f\"{row['chromosome']}:{row['position']}\" in common_positions]\n",
    "    \n",
    "    # Filter data\n",
    "    filtered_geno = geno_data[keep_idx]\n",
    "    filtered_snps = snp_data.iloc[keep_idx]\n",
    "    \n",
    "    # Print statistics\n",
    "    print(f\"\\nFiltering statistics for {population}:\")\n",
    "    print(f\"Original SNPs: {len(snp_data):,}\")\n",
    "    print(f\"Retained SNPs: {len(filtered_snps):,}\")\n",
    "    print(f\"Retention rate: {(len(filtered_snps)/len(snp_data)*100):.2f}%\")\n",
    "    \n",
    "    return filtered_geno, filtered_snps, ind_data\n",
    "\n",
    "def save_hapmap3_files(population: str, geno_data: np.ndarray, \n",
    "                      snp_data: pd.DataFrame, ind_data: pd.DataFrame,\n",
    "                      output_dir: str):\n",
    "    \"\"\"Save filtered HapMap3 data in original format\"\"\"\n",
    "    os.makedirs(output_dir, exist_ok=True)\n",
    "    \n",
    "    # Save .geno file\n",
    "    geno_path = os.path.join(output_dir, f\"{population}.geno\")\n",
    "    with open(geno_path, 'w') as f:\n",
    "        for row in geno_data:\n",
    "            f.write(''.join(map(str, row)) + '\\n')\n",
    "    \n",
    "    # Save .snp file\n",
    "    snp_path = os.path.join(output_dir, f\"{population}.snp\")\n",
    "    snp_data.to_csv(snp_path, sep='\\t', index=True, header=False)\n",
    "    \n",
    "    # Save .ind file (unchanged)\n",
    "    ind_path = os.path.join(output_dir, f\"{population}.ind\")\n",
    "    ind_data.to_csv(ind_path, sep='\\t', index=True, header=False)\n",
    "    \n",
    "    print(f\"\\nSaved filtered files for {population}:\")\n",
    "    print(f\"Genotype data: {geno_path}\")\n",
    "    print(f\"SNP data: {snp_path}\")\n",
    "    print(f\"Individual data: {ind_path}\")\n",
    "\n",
    "def main():\n",
    "    # Configuration\n",
    "    DATA_DIR = \"/Users/jingl1/Desktop/CMU/02704/hw_data/02704_data\"\n",
    "    OUTPUT_DIR = \"filtered_hapmap3\"\n",
    "    POPULATIONS = ['ASW', 'CEU', 'CHB', 'JPT', 'LWK', 'MXL', 'TSI', 'YRI']\n",
    "    \n",
    "    # Get all 1000G positions\n",
    "    print(\"Getting 1000G SNP positions...\")\n",
    "    kg_positions = get_all_1000g_positions()\n",
    "    print(f\"Found {len(kg_positions):,} SNPs in filtered 1000G data\")\n",
    "    \n",
    "    # Process each population\n",
    "    for population in POPULATIONS:\n",
    "        print(f\"\\nProcessing {population}...\")\n",
    "        \n",
    "        # Filter population data\n",
    "        filtered_geno, filtered_snps, ind_data = filter_hapmap3(\n",
    "            population, kg_positions, DATA_DIR)\n",
    "        \n",
    "        # Save filtered data\n",
    "        save_hapmap3_files(population, filtered_geno, filtered_snps, \n",
    "                          ind_data, OUTPUT_DIR)\n",
    "\n",
    "if __name__ == \"__main__\":\n",
    "    main()"
   ]
  },
  {
   "cell_type": "code",
   "execution_count": 30,
   "id": "ea7b0167",
   "metadata": {},
   "outputs": [
    {
     "name": "stdout",
     "output_type": "stream",
     "text": [
      "Reading data for ASW...\n",
      "\n",
      "Results for ASW:\n",
      "Population: ASW\n",
      "HapMap3_SNPs: 21,694\n",
      "KG_SNPs: 21,664\n",
      "Common_SNPs: 21,643\n",
      "Unique_to_HapMap3: 0\n",
      "Unique_to_KG: 0\n",
      "Allele_Match_Rate: 26.58%\n",
      "Reading data for CEU...\n",
      "\n",
      "Results for CEU:\n",
      "Population: CEU\n",
      "HapMap3_SNPs: 21,694\n",
      "KG_SNPs: 21,664\n",
      "Common_SNPs: 21,643\n",
      "Unique_to_HapMap3: 0\n",
      "Unique_to_KG: 0\n",
      "Allele_Match_Rate: 26.58%\n",
      "Reading data for CHB...\n",
      "\n",
      "Results for CHB:\n",
      "Population: CHB\n",
      "HapMap3_SNPs: 21,694\n",
      "KG_SNPs: 21,664\n",
      "Common_SNPs: 21,643\n",
      "Unique_to_HapMap3: 0\n",
      "Unique_to_KG: 0\n",
      "Allele_Match_Rate: 26.58%\n",
      "Reading data for JPT...\n",
      "\n",
      "Results for JPT:\n",
      "Population: JPT\n",
      "HapMap3_SNPs: 21,694\n",
      "KG_SNPs: 21,664\n",
      "Common_SNPs: 21,643\n",
      "Unique_to_HapMap3: 0\n",
      "Unique_to_KG: 0\n",
      "Allele_Match_Rate: 26.58%\n",
      "Reading data for LWK...\n",
      "\n",
      "Results for LWK:\n",
      "Population: LWK\n",
      "HapMap3_SNPs: 21,694\n",
      "KG_SNPs: 21,664\n",
      "Common_SNPs: 21,643\n",
      "Unique_to_HapMap3: 0\n",
      "Unique_to_KG: 0\n",
      "Allele_Match_Rate: 26.58%\n",
      "Reading data for MXL...\n",
      "\n",
      "Results for MXL:\n",
      "Population: MXL\n",
      "HapMap3_SNPs: 21,694\n",
      "KG_SNPs: 21,664\n",
      "Common_SNPs: 21,643\n",
      "Unique_to_HapMap3: 0\n",
      "Unique_to_KG: 0\n",
      "Allele_Match_Rate: 26.58%\n",
      "Reading data for TSI...\n",
      "\n",
      "Results for TSI:\n",
      "Population: TSI\n",
      "HapMap3_SNPs: 21,694\n",
      "KG_SNPs: 21,664\n",
      "Common_SNPs: 21,643\n",
      "Unique_to_HapMap3: 0\n",
      "Unique_to_KG: 0\n",
      "Allele_Match_Rate: 26.58%\n",
      "Reading data for YRI...\n",
      "\n",
      "Results for YRI:\n",
      "Population: YRI\n",
      "HapMap3_SNPs: 21,694\n",
      "KG_SNPs: 21,664\n",
      "Common_SNPs: 21,643\n",
      "Unique_to_HapMap3: 0\n",
      "Unique_to_KG: 0\n",
      "Allele_Match_Rate: 26.58%\n",
      "\n",
      "Overall Summary:\n",
      "Population  HapMap3_SNPs  KG_SNPs  Common_SNPs  Unique_to_HapMap3  Unique_to_KG  Allele_Match_Rate  Common_SNP_Pct\n",
      "       ASW         21694    21664        21643                  0             0          26.581343           99.76\n",
      "       CEU         21694    21664        21643                  0             0          26.581343           99.76\n",
      "       CHB         21694    21664        21643                  0             0          26.581343           99.76\n",
      "       JPT         21694    21664        21643                  0             0          26.581343           99.76\n",
      "       LWK         21694    21664        21643                  0             0          26.581343           99.76\n",
      "       MXL         21694    21664        21643                  0             0          26.581343           99.76\n",
      "       TSI         21694    21664        21643                  0             0          26.581343           99.76\n",
      "       YRI         21694    21664        21643                  0             0          26.581343           99.76\n"
     ]
    }
   ],
   "source": [
    "from CB_02704 import *\n",
    "import pandas as pd\n",
    "import numpy as np\n",
    "from typing import Dict\n",
    "from pathlib import Path\n",
    "\n",
    "def read_hapmap_data(pop: str, data_dir: str) -> pd.DataFrame:\n",
    "    \"\"\"Read HapMap3 SNP data\"\"\"\n",
    "    snp_file = Path(data_dir) / f\"{pop}.snp\"\n",
    "    return pd.read_csv(snp_file, sep='\\s+', header=None,\n",
    "                      names=['SNP', 'chromosome', 'morgans', 'position', 'ref', 'alt'])\n",
    "\n",
    "def read_1000g_data(pop: str, data_dir: str) -> pd.DataFrame:\n",
    "    \"\"\"Read 1000G SNP data\"\"\"\n",
    "    snp_file = Path(data_dir) / f\"{pop}.snp\"\n",
    "    return pd.read_csv(snp_file, sep='\\s+', header=None,\n",
    "                      names=['chromosome', 'position', 'ref', 'alt', 'morgans'])\n",
    "\n",
    "def check_allele_match(row1, row2) -> bool:\n",
    "    \"\"\"Check if alleles match considering possible flips\"\"\"\n",
    "    return ((row1['ref'] == row2['ref'] and row1['alt'] == row2['alt']) or\n",
    "            (row1['ref'] == row2['alt'] and row1['alt'] == row2['ref']))\n",
    "\n",
    "def verify_population_alignment(pop: str, \n",
    "                              hapmap_dir: str=\"../data/filtered_hapmap3\",\n",
    "                              kg_dir: str=\"../data/1000g/populations\") -> Dict:\n",
    "    \"\"\"Verify SNP alignment between HapMap3 and 1000G for a population\"\"\"\n",
    "    \n",
    "    # Read both datasets\n",
    "    print(f\"Reading data for {pop}...\")\n",
    "    hapmap_snps = read_hapmap_data(pop, hapmap_dir)\n",
    "    kg_snps = read_1000g_data(pop, kg_dir)\n",
    "    \n",
    "    # Create position identifiers\n",
    "    hapmap_pos = set(zip(hapmap_snps['chromosome'], hapmap_snps['position']))\n",
    "    kg_pos = set(zip(kg_snps['chromosome'], kg_snps['position']))\n",
    "    \n",
    "    # Find common positions\n",
    "    common_positions = hapmap_pos.intersection(kg_pos)\n",
    "    \n",
    "    # Check allele matching for common SNPs\n",
    "    if common_positions:\n",
    "        match_count = 0\n",
    "        total_checked = 0\n",
    "        \n",
    "        for chrom, pos in common_positions:\n",
    "            hm_row = hapmap_snps[(hapmap_snps['chromosome'] == chrom) & \n",
    "                                (hapmap_snps['position'] == pos)].iloc[0]\n",
    "            kg_row = kg_snps[(kg_snps['chromosome'] == chrom) & \n",
    "                            (kg_snps['position'] == pos)].iloc[0]\n",
    "            \n",
    "            if check_allele_match(hm_row, kg_row):\n",
    "                match_count += 1\n",
    "            total_checked += 1\n",
    "        \n",
    "        allele_match_rate = (match_count / total_checked * 100) if total_checked > 0 else 0\n",
    "    else:\n",
    "        allele_match_rate = 0\n",
    "    \n",
    "    return {\n",
    "        'Population': pop,\n",
    "        'HapMap3_SNPs': len(hapmap_snps),\n",
    "        'KG_SNPs': len(kg_snps),\n",
    "        'Common_SNPs': len(common_positions),\n",
    "        'Unique_to_HapMap3': len(hapmap_pos - kg_pos),\n",
    "        'Unique_to_KG': len(kg_pos - hapmap_pos),\n",
    "        'Allele_Match_Rate': allele_match_rate\n",
    "    }\n",
    "\n",
    "def main():\n",
    "    \"\"\"Verify alignment for all populations\"\"\"\n",
    "    populations = ['ASW', 'CEU', 'CHB', 'JPT', 'LWK', 'MXL', 'TSI', 'YRI']\n",
    "    \n",
    "    # Verify each population\n",
    "    all_stats = []\n",
    "    for pop in populations:\n",
    "        stats = verify_population_alignment(pop)\n",
    "        all_stats.append(stats)\n",
    "        \n",
    "        # Print detailed results for each population\n",
    "        print(f\"\\nResults for {pop}:\")\n",
    "        for key, value in stats.items():\n",
    "            if isinstance(value, (int, float)):\n",
    "                print(f\"{key}: {value:,}\" if isinstance(value, int) else f\"{key}: {value:.2f}%\")\n",
    "            else:\n",
    "                print(f\"{key}: {value}\")\n",
    "    \n",
    "    # Create summary DataFrame\n",
    "    summary_df = pd.DataFrame(all_stats)\n",
    "    \n",
    "    # Add percentage of common SNPs\n",
    "    summary_df['Common_SNP_Pct'] = (summary_df['Common_SNPs'] / summary_df['HapMap3_SNPs'] * 100).round(2)\n",
    "    \n",
    "    # Display and save summary\n",
    "    print(\"\\nOverall Summary:\")\n",
    "    print(summary_df.to_string(index=False))\n",
    "    summary_df.to_csv(\"dataset_alignment_summary.csv\", index=False)\n",
    "    \n",
    "    return summary_df\n",
    "\n",
    "if __name__ == \"__main__\":\n",
    "    summary_df = main()"
   ]
  },
  {
   "cell_type": "code",
   "execution_count": 42,
   "id": "055e937f",
   "metadata": {},
   "outputs": [
    {
     "ename": "TypeError",
     "evalue": "SNPDatasetComparison.load_hapmap_data() missing 1 required positional argument: 'ind_file'",
     "output_type": "error",
     "traceback": [
      "\u001b[0;31m---------------------------------------------------------------------------\u001b[0m",
      "\u001b[0;31mTypeError\u001b[0m                                 Traceback (most recent call last)",
      "Cell \u001b[0;32mIn[42], line 5\u001b[0m\n\u001b[1;32m      2\u001b[0m comparator \u001b[38;5;241m=\u001b[39m SNPDatasetComparison()\n\u001b[1;32m      4\u001b[0m \u001b[38;5;66;03m# 加载数据\u001b[39;00m\n\u001b[0;32m----> 5\u001b[0m comparator\u001b[38;5;241m.\u001b[39mload_hapmap_data(\u001b[38;5;124m\"\u001b[39m\u001b[38;5;124mhapmap3\u001b[39m\u001b[38;5;124m\"\u001b[39m)\n\u001b[1;32m      6\u001b[0m comparator\u001b[38;5;241m.\u001b[39mload_1000g_data(\u001b[38;5;124m\"\u001b[39m\u001b[38;5;124mpath_to_1000g_data\u001b[39m\u001b[38;5;124m\"\u001b[39m)\n\u001b[1;32m      8\u001b[0m \u001b[38;5;66;03m# 执行比较分析\u001b[39;00m\n",
      "\u001b[0;31mTypeError\u001b[0m: SNPDatasetComparison.load_hapmap_data() missing 1 required positional argument: 'ind_file'"
     ]
    }
   ],
   "source": [
    "# 初始化比较器\n",
    "comparator = SNPDatasetComparison()\n",
    "\n",
    "# 加载数据\n",
    "comparator.load_hapmap_data(\"hapmap3\")\n",
    "comparator.load_1000g_data(\"path_to_1000g_data\")\n",
    "\n",
    "# 执行比较分析\n",
    "results, chr_analysis = comparator.compare_snp_overlap()\n",
    "common_snps = set(comparator.hapmap_data['snp'].index).intersection(\n",
    "    set(comparator.kg_data['snp'].index))\n",
    "allele_analysis = comparator.analyze_allele_consistency(common_snps)\n",
    "\n",
    "# 生成报告\n",
    "report = generate_report(results, chr_analysis, allele_analysis)\n",
    "print(report)"
   ]
  },
  {
   "cell_type": "code",
   "execution_count": 39,
   "id": "8db97af7",
   "metadata": {},
   "outputs": [
    {
     "name": "stdout",
     "output_type": "stream",
     "text": [
      "Getting 1000G SNP positions from all chromosomes...\n",
      "Reading chromosome 1...\n",
      "Found 1,616 SNPs in chromosome 1\n",
      "Reading chromosome 2...\n",
      "Found 1,784 SNPs in chromosome 2\n",
      "Reading chromosome 3...\n",
      "Found 1,445 SNPs in chromosome 3\n",
      "Reading chromosome 4...\n",
      "Found 1,366 SNPs in chromosome 4\n",
      "Reading chromosome 5...\n",
      "Found 1,323 SNPs in chromosome 5\n",
      "Reading chromosome 6...\n",
      "Found 1,421 SNPs in chromosome 6\n",
      "Reading chromosome 7...\n",
      "Found 1,211 SNPs in chromosome 7\n",
      "Reading chromosome 8...\n",
      "Found 1,381 SNPs in chromosome 8\n",
      "Reading chromosome 9...\n",
      "Found 1,036 SNPs in chromosome 9\n",
      "Reading chromosome 10...\n",
      "Found 1,126 SNPs in chromosome 10\n",
      "Reading chromosome 11...\n",
      "Found 1,153 SNPs in chromosome 11\n",
      "Reading chromosome 12...\n",
      "Found 1,045 SNPs in chromosome 12\n",
      "Reading chromosome 13...\n",
      "Found 772 SNPs in chromosome 13\n",
      "Reading chromosome 14...\n",
      "Found 666 SNPs in chromosome 14\n",
      "Reading chromosome 15...\n",
      "Found 637 SNPs in chromosome 15\n",
      "Reading chromosome 16...\n",
      "Found 835 SNPs in chromosome 16\n",
      "Reading chromosome 17...\n",
      "Found 664 SNPs in chromosome 17\n",
      "Reading chromosome 18...\n",
      "Found 598 SNPs in chromosome 18\n",
      "Reading chromosome 19...\n",
      "Found 367 SNPs in chromosome 19\n",
      "Reading chromosome 20...\n",
      "Found 571 SNPs in chromosome 20\n",
      "Reading chromosome 21...\n",
      "Found 340 SNPs in chromosome 21\n",
      "Reading chromosome 22...\n",
      "Found 286 SNPs in chromosome 22\n",
      "Found total of 21,643 SNPs in filtered 1000G data\n",
      "\n",
      "Reading ASW data...\n",
      "\n",
      "Filtering statistics for ASW:\n",
      "Original SNPs: 718,848\n",
      "Retained SNPs: 21,694\n",
      "Retention rate: 3.02%\n",
      "\n",
      "Saved filtered files for ASW:\n",
      "- Genotype data: ../data/filtered_hapmap3/ASW.geno\n",
      "- SNP data: ../data/filtered_hapmap3/ASW.snp\n",
      "- Individual data: ../data/filtered_hapmap3/ASW.ind\n",
      "\n",
      "Reading CEU data...\n",
      "\n",
      "Filtering statistics for CEU:\n",
      "Original SNPs: 718,848\n",
      "Retained SNPs: 21,694\n",
      "Retention rate: 3.02%\n",
      "\n",
      "Saved filtered files for CEU:\n",
      "- Genotype data: ../data/filtered_hapmap3/CEU.geno\n",
      "- SNP data: ../data/filtered_hapmap3/CEU.snp\n",
      "- Individual data: ../data/filtered_hapmap3/CEU.ind\n",
      "\n",
      "Reading CHB data...\n",
      "\n",
      "Filtering statistics for CHB:\n",
      "Original SNPs: 718,848\n",
      "Retained SNPs: 21,694\n",
      "Retention rate: 3.02%\n",
      "\n",
      "Saved filtered files for CHB:\n",
      "- Genotype data: ../data/filtered_hapmap3/CHB.geno\n",
      "- SNP data: ../data/filtered_hapmap3/CHB.snp\n",
      "- Individual data: ../data/filtered_hapmap3/CHB.ind\n",
      "\n",
      "Reading JPT data...\n",
      "\n",
      "Filtering statistics for JPT:\n",
      "Original SNPs: 718,848\n",
      "Retained SNPs: 21,694\n",
      "Retention rate: 3.02%\n",
      "\n",
      "Saved filtered files for JPT:\n",
      "- Genotype data: ../data/filtered_hapmap3/JPT.geno\n",
      "- SNP data: ../data/filtered_hapmap3/JPT.snp\n",
      "- Individual data: ../data/filtered_hapmap3/JPT.ind\n",
      "\n",
      "Reading LWK data...\n",
      "\n",
      "Filtering statistics for LWK:\n",
      "Original SNPs: 718,848\n",
      "Retained SNPs: 21,694\n",
      "Retention rate: 3.02%\n",
      "\n",
      "Saved filtered files for LWK:\n",
      "- Genotype data: ../data/filtered_hapmap3/LWK.geno\n",
      "- SNP data: ../data/filtered_hapmap3/LWK.snp\n",
      "- Individual data: ../data/filtered_hapmap3/LWK.ind\n",
      "\n",
      "Reading MXL data...\n",
      "\n",
      "Filtering statistics for MXL:\n",
      "Original SNPs: 718,848\n",
      "Retained SNPs: 21,694\n",
      "Retention rate: 3.02%\n",
      "\n",
      "Saved filtered files for MXL:\n",
      "- Genotype data: ../data/filtered_hapmap3/MXL.geno\n",
      "- SNP data: ../data/filtered_hapmap3/MXL.snp\n",
      "- Individual data: ../data/filtered_hapmap3/MXL.ind\n",
      "\n",
      "Reading TSI data...\n",
      "\n",
      "Filtering statistics for TSI:\n",
      "Original SNPs: 718,848\n",
      "Retained SNPs: 21,694\n",
      "Retention rate: 3.02%\n",
      "\n",
      "Saved filtered files for TSI:\n",
      "- Genotype data: ../data/filtered_hapmap3/TSI.geno\n",
      "- SNP data: ../data/filtered_hapmap3/TSI.snp\n",
      "- Individual data: ../data/filtered_hapmap3/TSI.ind\n",
      "\n",
      "Reading YRI data...\n",
      "\n",
      "Filtering statistics for YRI:\n",
      "Original SNPs: 718,848\n",
      "Retained SNPs: 21,694\n",
      "Retention rate: 3.02%\n",
      "\n",
      "Saved filtered files for YRI:\n",
      "- Genotype data: ../data/filtered_hapmap3/YRI.geno\n",
      "- SNP data: ../data/filtered_hapmap3/YRI.snp\n",
      "- Individual data: ../data/filtered_hapmap3/YRI.ind\n",
      "\n",
      "Saved summary report to: ../data/filtered_hapmap3/filtering_summary.csv\n"
     ]
    }
   ],
   "source": [
    "from CB_02704 import *\n",
    "import pandas as pd\n",
    "import numpy as np\n",
    "from typing import Dict, Set, List, Tuple\n",
    "import subprocess\n",
    "import os\n",
    "\n",
    "def get_1000g_positions(vcf_file: str) -> Set[str]:\n",
    "    \"\"\"Extract SNP positions from filtered 1000G VCF file\"\"\"\n",
    "    cmd = f\"bcftools query -f '%CHROM\\t%POS\\n' {vcf_file}\"\n",
    "    result = subprocess.run(cmd, shell=True, capture_output=True, text=True)\n",
    "    # Create position IDs in the same format as HapMap3\n",
    "    positions = set()\n",
    "    for line in result.stdout.strip().split('\\n'):\n",
    "        if line:  # Skip empty lines\n",
    "            chrom, pos = line.split('\\t')\n",
    "            positions.add(f\"{chrom}:{pos}\")\n",
    "    return positions\n",
    "\n",
    "def get_all_1000g_positions(common_snps_dir: str) -> Set[str]:\n",
    "    \"\"\"Get SNP positions from all chromosomes in filtered 1000G data\"\"\"\n",
    "    all_positions = set()\n",
    "    for chrom in range(1, 23):\n",
    "        vcf_file = f\"{common_snps_dir}/common_snps.chr{chrom}.vcf.gz\"\n",
    "        if os.path.exists(vcf_file):\n",
    "            print(f\"Reading chromosome {chrom}...\")\n",
    "            positions = get_1000g_positions(vcf_file)\n",
    "            all_positions.update(positions)\n",
    "            print(f\"Found {len(positions):,} SNPs in chromosome {chrom}\")\n",
    "    return all_positions\n",
    "\n",
    "def filter_hapmap_data(pop: str, common_positions: Set[str]) -> Tuple[np.ndarray, pd.DataFrame, pd.DataFrame]:\n",
    "    \"\"\"Filter HapMap3 population data to keep only common SNPs\"\"\"\n",
    "    print(f\"Reading {pop} data...\")\n",
    "    \n",
    "    # Read population data\n",
    "    geno_data = read_geno_pop(pop)\n",
    "    snp_data = read_snp_pop(pop)\n",
    "    ind_data = read_ind_pop(pop)\n",
    "    \n",
    "    # Create position identifiers for HapMap SNPs\n",
    "    snp_data['pos_id'] = snp_data['chromosome'].astype(str) + ':' + snp_data['position'].astype(str)\n",
    "    \n",
    "    # Find indices of common SNPs\n",
    "    keep_idx = snp_data['pos_id'].isin(common_positions)\n",
    "    \n",
    "    # Filter data\n",
    "    filtered_geno = geno_data[keep_idx]\n",
    "    filtered_snps = snp_data[keep_idx].drop('pos_id', axis=1)\n",
    "    \n",
    "    # Print filtering statistics\n",
    "    print(f\"\\nFiltering statistics for {pop}:\")\n",
    "    print(f\"Original SNPs: {len(snp_data):,}\")\n",
    "    print(f\"Retained SNPs: {len(filtered_snps):,}\")\n",
    "    print(f\"Retention rate: {(len(filtered_snps)/len(snp_data)*100):.2f}%\\n\")\n",
    "    \n",
    "    return filtered_geno, filtered_snps, ind_data\n",
    "\n",
    "def save_hapmap_format(geno_data: np.ndarray, snp_data: pd.DataFrame, \n",
    "                      ind_data: pd.DataFrame, pop: str, output_dir: str):\n",
    "    \"\"\"Save filtered data in HapMap3 format\"\"\"\n",
    "    # Create output directory\n",
    "    os.makedirs(output_dir, exist_ok=True)\n",
    "    \n",
    "    # Save genotype data (.geno)\n",
    "    geno_file = f\"{output_dir}/{pop}.geno\"\n",
    "    with open(geno_file, 'w') as f:\n",
    "        for row in geno_data:\n",
    "            # Convert masked array to regular array and handle masked values\n",
    "            row_data = row.filled(9)  # Fill masked values with 9\n",
    "            f.write(''.join(map(str, row_data)) + '\\n')\n",
    "    \n",
    "    # Save SNP data (.snp)\n",
    "    snp_file = f\"{output_dir}/{pop}.snp\"\n",
    "    snp_data.to_csv(snp_file, sep='\\t', index=True, header=False)\n",
    "    \n",
    "    # Save individual data (.ind)\n",
    "    ind_file = f\"{output_dir}/{pop}.ind\"\n",
    "    ind_data.to_csv(ind_file, sep='\\t', index=True, header=False)\n",
    "    \n",
    "    print(f\"Saved filtered files for {pop}:\")\n",
    "    print(f\"- Genotype data: {geno_file}\")\n",
    "    print(f\"- SNP data: {snp_file}\")\n",
    "    print(f\"- Individual data: {ind_file}\\n\")\n",
    "\n",
    "def main():\n",
    "    # Configuration\n",
    "    KG_DIR = '../data/common_snps'  # Directory with filtered 1000G VCF files\n",
    "    OUTPUT_DIR = '../data/filtered_hapmap3'  # Output directory for filtered HapMap3 data\n",
    "    \n",
    "    # Get positions from all chromosomes\n",
    "    print(\"Getting 1000G SNP positions from all chromosomes...\")\n",
    "    common_positions = get_all_1000g_positions(KG_DIR)\n",
    "    print(f\"Found total of {len(common_positions):,} SNPs in filtered 1000G data\\n\")\n",
    "    \n",
    "    # HapMap3 populations to process\n",
    "    populations = ['ASW', 'CEU', 'CHB', 'JPT', 'LWK', 'MXL', 'TSI', 'YRI']\n",
    "    \n",
    "    # Process each population\n",
    "    stats = []\n",
    "    for pop in populations:\n",
    "        # Filter population data\n",
    "        geno_filtered, snp_filtered, ind_data = filter_hapmap_data(pop, common_positions)\n",
    "        \n",
    "        # Save filtered data\n",
    "        save_hapmap_format(geno_filtered, snp_filtered, ind_data, pop, OUTPUT_DIR)\n",
    "        \n",
    "        # Collect statistics\n",
    "        stats.append({\n",
    "            'Population': pop,\n",
    "            'Original_SNPs': len(read_snp_pop(pop)),\n",
    "            'Filtered_SNPs': len(snp_filtered),\n",
    "            'Individuals': len(ind_data),\n",
    "            'Retention_Rate': (len(snp_filtered)/len(read_snp_pop(pop))*100)\n",
    "        })\n",
    "    \n",
    "    # Create summary report\n",
    "    stats_df = pd.DataFrame(stats)\n",
    "    summary_file = f\"{OUTPUT_DIR}/filtering_summary.csv\"\n",
    "    stats_df.to_csv(summary_file, index=False)\n",
    "    print(f\"Saved summary report to: {summary_file}\")\n",
    "    \n",
    "    return stats_df\n",
    "\n",
    "if __name__ == \"__main__\":\n",
    "    main()"
   ]
  },
  {
   "cell_type": "code",
   "execution_count": 35,
   "id": "933b34a1",
   "metadata": {},
   "outputs": [
    {
     "name": "stdout",
     "output_type": "stream",
     "text": [
      "==================================================\n",
      "Checking paths for population ASW:\n",
      "HapMap3 file: /Users/jingl1/Documents/GitHub/02704_Cross-Database-Analysis-of-Population-Structure/scripts/../data/filtered_hapmap3/ASW.snp\n",
      "1000G file: /Users/jingl1/Documents/GitHub/02704_Cross-Database-Analysis-of-Population-Structure/scripts/../data/1000g/populations/ASW.snp\n",
      "\n",
      "Checking file existence:\n",
      "HapMap3 file exists: True\n",
      "1000G file exists: True\n",
      "\n",
      "Directory contents:\n",
      "\n",
      "HapMap3 directory:\n",
      "['TSI.snp', 'ASW.snp', 'JPT.snp', 'MXL.snp', 'YRI.snp', 'LWK.snp', 'CEU.snp', 'CHB.snp']\n",
      "\n",
      "1000G directory:\n",
      "['TSI.snp', 'ASW.snp', 'JPT.snp', 'MXL.snp', 'YRI.snp', 'LWK.snp', 'CEU.snp', 'CHB.snp']\n",
      "\n",
      "First 3 lines from ASW HapMap3 file:\n",
      "rs4442317\t1\t0.0\t1096647\tT\tC\n",
      "rs6697886\t1\t0.0\t1163474\tG\tA\n",
      "rs11260577\t1\t0.0\t1200334\tC\tT\n",
      "\n",
      "First 3 lines from ASW 1000G file:\n",
      "1\t1096647\tC\tT\t0.0\n",
      "1\t1163474\tA\tG\t0.0\n",
      "1\t1200334\tT\tC\t0.0\n",
      "\n",
      "\n",
      "==================================================\n",
      "Checking paths for population CEU:\n",
      "HapMap3 file: /Users/jingl1/Documents/GitHub/02704_Cross-Database-Analysis-of-Population-Structure/scripts/../data/filtered_hapmap3/CEU.snp\n",
      "1000G file: /Users/jingl1/Documents/GitHub/02704_Cross-Database-Analysis-of-Population-Structure/scripts/../data/1000g/populations/CEU.snp\n",
      "\n",
      "Checking file existence:\n",
      "HapMap3 file exists: True\n",
      "1000G file exists: True\n",
      "\n",
      "Directory contents:\n",
      "\n",
      "HapMap3 directory:\n",
      "['TSI.snp', 'ASW.snp', 'JPT.snp', 'MXL.snp', 'YRI.snp', 'LWK.snp', 'CEU.snp', 'CHB.snp']\n",
      "\n",
      "1000G directory:\n",
      "['TSI.snp', 'ASW.snp', 'JPT.snp', 'MXL.snp', 'YRI.snp', 'LWK.snp', 'CEU.snp', 'CHB.snp']\n",
      "\n",
      "First 3 lines from CEU HapMap3 file:\n",
      "rs4442317\t1\t0.0\t1096647\tT\tC\n",
      "rs6697886\t1\t0.0\t1163474\tG\tA\n",
      "rs11260577\t1\t0.0\t1200334\tC\tT\n",
      "\n",
      "First 3 lines from CEU 1000G file:\n",
      "1\t1096647\tC\tT\t0.0\n",
      "1\t1163474\tA\tG\t0.0\n",
      "1\t1200334\tT\tC\t0.0\n",
      "\n",
      "\n",
      "==================================================\n",
      "Checking paths for population CHB:\n",
      "HapMap3 file: /Users/jingl1/Documents/GitHub/02704_Cross-Database-Analysis-of-Population-Structure/scripts/../data/filtered_hapmap3/CHB.snp\n",
      "1000G file: /Users/jingl1/Documents/GitHub/02704_Cross-Database-Analysis-of-Population-Structure/scripts/../data/1000g/populations/CHB.snp\n",
      "\n",
      "Checking file existence:\n",
      "HapMap3 file exists: True\n",
      "1000G file exists: True\n",
      "\n",
      "Directory contents:\n",
      "\n",
      "HapMap3 directory:\n",
      "['TSI.snp', 'ASW.snp', 'JPT.snp', 'MXL.snp', 'YRI.snp', 'LWK.snp', 'CEU.snp', 'CHB.snp']\n",
      "\n",
      "1000G directory:\n",
      "['TSI.snp', 'ASW.snp', 'JPT.snp', 'MXL.snp', 'YRI.snp', 'LWK.snp', 'CEU.snp', 'CHB.snp']\n",
      "\n",
      "First 3 lines from CHB HapMap3 file:\n",
      "rs4442317\t1\t0.0\t1096647\tT\tC\n",
      "rs6697886\t1\t0.0\t1163474\tG\tA\n",
      "rs11260577\t1\t0.0\t1200334\tC\tT\n",
      "\n",
      "First 3 lines from CHB 1000G file:\n",
      "1\t1096647\tC\tT\t0.0\n",
      "1\t1163474\tA\tG\t0.0\n",
      "1\t1200334\tT\tC\t0.0\n",
      "\n",
      "\n",
      "==================================================\n",
      "Checking paths for population JPT:\n",
      "HapMap3 file: /Users/jingl1/Documents/GitHub/02704_Cross-Database-Analysis-of-Population-Structure/scripts/../data/filtered_hapmap3/JPT.snp\n",
      "1000G file: /Users/jingl1/Documents/GitHub/02704_Cross-Database-Analysis-of-Population-Structure/scripts/../data/1000g/populations/JPT.snp\n",
      "\n",
      "Checking file existence:\n",
      "HapMap3 file exists: True\n",
      "1000G file exists: True\n",
      "\n",
      "Directory contents:\n",
      "\n",
      "HapMap3 directory:\n",
      "['TSI.snp', 'ASW.snp', 'JPT.snp', 'MXL.snp', 'YRI.snp', 'LWK.snp', 'CEU.snp', 'CHB.snp']\n",
      "\n",
      "1000G directory:\n",
      "['TSI.snp', 'ASW.snp', 'JPT.snp', 'MXL.snp', 'YRI.snp', 'LWK.snp', 'CEU.snp', 'CHB.snp']\n",
      "\n",
      "First 3 lines from JPT HapMap3 file:\n",
      "rs4442317\t1\t0.0\t1096647\tT\tC\n",
      "rs6697886\t1\t0.0\t1163474\tG\tA\n",
      "rs11260577\t1\t0.0\t1200334\tC\tT\n",
      "\n",
      "First 3 lines from JPT 1000G file:\n",
      "1\t1096647\tC\tT\t0.0\n",
      "1\t1163474\tA\tG\t0.0\n",
      "1\t1200334\tT\tC\t0.0\n",
      "\n",
      "\n",
      "==================================================\n",
      "Checking paths for population LWK:\n",
      "HapMap3 file: /Users/jingl1/Documents/GitHub/02704_Cross-Database-Analysis-of-Population-Structure/scripts/../data/filtered_hapmap3/LWK.snp\n",
      "1000G file: /Users/jingl1/Documents/GitHub/02704_Cross-Database-Analysis-of-Population-Structure/scripts/../data/1000g/populations/LWK.snp\n",
      "\n",
      "Checking file existence:\n",
      "HapMap3 file exists: True\n",
      "1000G file exists: True\n",
      "\n",
      "Directory contents:\n",
      "\n",
      "HapMap3 directory:\n",
      "['TSI.snp', 'ASW.snp', 'JPT.snp', 'MXL.snp', 'YRI.snp', 'LWK.snp', 'CEU.snp', 'CHB.snp']\n",
      "\n",
      "1000G directory:\n",
      "['TSI.snp', 'ASW.snp', 'JPT.snp', 'MXL.snp', 'YRI.snp', 'LWK.snp', 'CEU.snp', 'CHB.snp']\n",
      "\n",
      "First 3 lines from LWK HapMap3 file:\n",
      "rs4442317\t1\t0.0\t1096647\tT\tC\n",
      "rs6697886\t1\t0.0\t1163474\tG\tA\n",
      "rs11260577\t1\t0.0\t1200334\tC\tT\n",
      "\n",
      "First 3 lines from LWK 1000G file:\n",
      "1\t1096647\tC\tT\t0.0\n",
      "1\t1163474\tA\tG\t0.0\n",
      "1\t1200334\tT\tC\t0.0\n",
      "\n",
      "\n",
      "==================================================\n",
      "Checking paths for population MXL:\n",
      "HapMap3 file: /Users/jingl1/Documents/GitHub/02704_Cross-Database-Analysis-of-Population-Structure/scripts/../data/filtered_hapmap3/MXL.snp\n",
      "1000G file: /Users/jingl1/Documents/GitHub/02704_Cross-Database-Analysis-of-Population-Structure/scripts/../data/1000g/populations/MXL.snp\n",
      "\n",
      "Checking file existence:\n",
      "HapMap3 file exists: True\n",
      "1000G file exists: True\n",
      "\n",
      "Directory contents:\n",
      "\n",
      "HapMap3 directory:\n",
      "['TSI.snp', 'ASW.snp', 'JPT.snp', 'MXL.snp', 'YRI.snp', 'LWK.snp', 'CEU.snp', 'CHB.snp']\n",
      "\n",
      "1000G directory:\n",
      "['TSI.snp', 'ASW.snp', 'JPT.snp', 'MXL.snp', 'YRI.snp', 'LWK.snp', 'CEU.snp', 'CHB.snp']\n",
      "\n",
      "First 3 lines from MXL HapMap3 file:\n",
      "rs4442317\t1\t0.0\t1096647\tT\tC\n",
      "rs6697886\t1\t0.0\t1163474\tG\tA\n",
      "rs11260577\t1\t0.0\t1200334\tC\tT\n",
      "\n",
      "First 3 lines from MXL 1000G file:\n",
      "1\t1096647\tC\tT\t0.0\n",
      "1\t1163474\tA\tG\t0.0\n",
      "1\t1200334\tT\tC\t0.0\n",
      "\n",
      "\n",
      "==================================================\n",
      "Checking paths for population TSI:\n",
      "HapMap3 file: /Users/jingl1/Documents/GitHub/02704_Cross-Database-Analysis-of-Population-Structure/scripts/../data/filtered_hapmap3/TSI.snp\n",
      "1000G file: /Users/jingl1/Documents/GitHub/02704_Cross-Database-Analysis-of-Population-Structure/scripts/../data/1000g/populations/TSI.snp\n",
      "\n",
      "Checking file existence:\n",
      "HapMap3 file exists: True\n",
      "1000G file exists: True\n",
      "\n",
      "Directory contents:\n",
      "\n",
      "HapMap3 directory:\n",
      "['TSI.snp', 'ASW.snp', 'JPT.snp', 'MXL.snp', 'YRI.snp', 'LWK.snp', 'CEU.snp', 'CHB.snp']\n",
      "\n",
      "1000G directory:\n",
      "['TSI.snp', 'ASW.snp', 'JPT.snp', 'MXL.snp', 'YRI.snp', 'LWK.snp', 'CEU.snp', 'CHB.snp']\n",
      "\n",
      "First 3 lines from TSI HapMap3 file:\n",
      "rs4442317\t1\t0.0\t1096647\tT\tC\n",
      "rs6697886\t1\t0.0\t1163474\tG\tA\n",
      "rs11260577\t1\t0.0\t1200334\tC\tT\n",
      "\n",
      "First 3 lines from TSI 1000G file:\n",
      "1\t1096647\tC\tT\t0.0\n",
      "1\t1163474\tA\tG\t0.0\n",
      "1\t1200334\tT\tC\t0.0\n",
      "\n",
      "\n",
      "==================================================\n",
      "Checking paths for population YRI:\n",
      "HapMap3 file: /Users/jingl1/Documents/GitHub/02704_Cross-Database-Analysis-of-Population-Structure/scripts/../data/filtered_hapmap3/YRI.snp\n",
      "1000G file: /Users/jingl1/Documents/GitHub/02704_Cross-Database-Analysis-of-Population-Structure/scripts/../data/1000g/populations/YRI.snp\n",
      "\n",
      "Checking file existence:\n",
      "HapMap3 file exists: True\n",
      "1000G file exists: True\n",
      "\n",
      "Directory contents:\n",
      "\n",
      "HapMap3 directory:\n",
      "['TSI.snp', 'ASW.snp', 'JPT.snp', 'MXL.snp', 'YRI.snp', 'LWK.snp', 'CEU.snp', 'CHB.snp']\n",
      "\n",
      "1000G directory:\n",
      "['TSI.snp', 'ASW.snp', 'JPT.snp', 'MXL.snp', 'YRI.snp', 'LWK.snp', 'CEU.snp', 'CHB.snp']\n",
      "\n",
      "First 3 lines from YRI HapMap3 file:\n",
      "rs4442317\t1\t0.0\t1096647\tT\tC\n",
      "rs6697886\t1\t0.0\t1163474\tG\tA\n",
      "rs11260577\t1\t0.0\t1200334\tC\tT\n",
      "\n",
      "First 3 lines from YRI 1000G file:\n",
      "1\t1096647\tC\tT\t0.0\n",
      "1\t1163474\tA\tG\t0.0\n",
      "1\t1200334\tT\tC\t0.0\n",
      "\n",
      "\n"
     ]
    }
   ],
   "source": [
    "from CB_02704 import *\n",
    "import pandas as pd\n",
    "from pathlib import Path\n",
    "\n",
    "def inspect_files_and_paths(pop='ASW'):\n",
    "    \"\"\"Inspect the actual file paths and first few lines of data\"\"\"\n",
    "    # Define paths\n",
    "    hapmap_dir = Path(\"../data/filtered_hapmap3\")\n",
    "    kg_dir = Path(\"../data/1000g/populations\")\n",
    "    \n",
    "    hapmap_file = hapmap_dir / f\"{pop}.snp\"\n",
    "    kg_file = kg_dir / f\"{pop}.snp\"\n",
    "    \n",
    "    print(f\"Checking paths for population {pop}:\")\n",
    "    print(f\"HapMap3 file: {hapmap_file.absolute()}\")\n",
    "    print(f\"1000G file: {kg_file.absolute()}\")\n",
    "    \n",
    "    print(f\"\\nChecking file existence:\")\n",
    "    print(f\"HapMap3 file exists: {hapmap_file.exists()}\")\n",
    "    print(f\"1000G file exists: {kg_file.exists()}\")\n",
    "    \n",
    "    print(\"\\nDirectory contents:\")\n",
    "    print(\"\\nHapMap3 directory:\")\n",
    "    print([x.name for x in hapmap_dir.glob(\"*.snp\")])\n",
    "    \n",
    "    print(\"\\n1000G directory:\")\n",
    "    print([x.name for x in kg_dir.glob(\"*.snp\")])\n",
    "    \n",
    "    if hapmap_file.exists() and kg_file.exists():\n",
    "        print(f\"\\nFirst 3 lines from {pop} HapMap3 file:\")\n",
    "        with open(hapmap_file) as f:\n",
    "            for i, line in enumerate(f):\n",
    "                if i < 3:\n",
    "                    print(line.strip())\n",
    "        \n",
    "        print(f\"\\nFirst 3 lines from {pop} 1000G file:\")\n",
    "        with open(kg_file) as f:\n",
    "            for i, line in enumerate(f):\n",
    "                if i < 3:\n",
    "                    print(line.strip())\n",
    "\n",
    "if __name__ == \"__main__\":\n",
    "    populations = ['ASW', 'CEU', 'CHB', 'JPT', 'LWK', 'MXL', 'TSI', 'YRI']\n",
    "    for pop in populations:\n",
    "        print(\"=\"*50)\n",
    "        inspect_files_and_paths(pop)\n",
    "        print(\"\\n\")"
   ]
  },
  {
   "cell_type": "code",
   "execution_count": null,
   "id": "f13246b7",
   "metadata": {},
   "outputs": [],
   "source": [
    "vcf_file = \"../data/common_snps/common_snps.chr15.vcf.gz\"\n",
    "# Check if file exists\n",
    "print(f\"File exists: {os.path.exists(vcf_file)}\")\n",
    "\n",
    "# Try to get first few lines with bcftools\n",
    "cmd = f\"bcftools view {vcf_file} | head\"\n",
    "result = subprocess.run(cmd, shell=True, capture_output=True, text=True)\n",
    "print(\"\\nFirst few lines:\")\n",
    "print(result.stdout)"
   ]
  },
  {
   "cell_type": "code",
   "execution_count": null,
   "id": "14d3de21",
   "metadata": {},
   "outputs": [],
   "source": []
  }
 ],
 "metadata": {
  "kernelspec": {
   "display_name": "Python 3 (ipykernel)",
   "language": "python",
   "name": "python3"
  },
  "language_info": {
   "codemirror_mode": {
    "name": "ipython",
    "version": 3
   },
   "file_extension": ".py",
   "mimetype": "text/x-python",
   "name": "python",
   "nbconvert_exporter": "python",
   "pygments_lexer": "ipython3",
   "version": "3.11.5"
  }
 },
 "nbformat": 4,
 "nbformat_minor": 5
}
