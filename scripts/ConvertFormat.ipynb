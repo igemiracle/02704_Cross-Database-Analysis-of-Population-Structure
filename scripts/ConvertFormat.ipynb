{
 "cells": [
  {
   "cell_type": "code",
   "execution_count": 1,
   "id": "1bcd0497",
   "metadata": {},
   "outputs": [],
   "source": [
    "import os\n",
    "import subprocess\n",
    "import pandas as pd\n",
    "import numpy as np\n",
    "from tqdm import tqdm"
   ]
  },
  {
   "cell_type": "code",
   "execution_count": null,
   "id": "dee03004",
   "metadata": {},
   "outputs": [
    {
     "name": "stdout",
     "output_type": "stream",
     "text": [
      "\n",
      "Processing population: CHB\n",
      "Converting chromosome 1\n"
     ]
    },
    {
     "name": "stderr",
     "output_type": "stream",
     "text": [
      "Converting genotypes for chr1: 6468094it [00:13, 485780.83it/s]\n"
     ]
    },
    {
     "name": "stdout",
     "output_type": "stream",
     "text": [
      "Created files: ../data/1000g/converted/CHB.snp/ind/geno\n",
      "Converting chromosome 2\n"
     ]
    }
   ],
   "source": [
    "class VCFConverter:\n",
    "    def __init__(self, data_dir='../data/1000g'):\n",
    "        self.data_dir = data_dir\n",
    "        self.output_dir = os.path.join(data_dir, 'converted')\n",
    "        os.makedirs(self.output_dir, exist_ok=True)\n",
    "        \n",
    "    def convert_vcf_to_hapmap(self, chrom, population):\n",
    "        \"\"\"Convert VCF file to HapMap3 format (.snp, .ind, .geno) for a specific chromosome\"\"\"\n",
    "        vcf_file = os.path.join(self.data_dir, f'filtered.chr{chrom}.phase3.vcf.gz')\n",
    "        base_out = os.path.join(self.output_dir, f'{population}')\n",
    "        \n",
    "        # 1. Create .ind file (only need to do once for all chromosomes)\n",
    "        if not os.path.exists(f'{base_out}.ind'):\n",
    "            cmd = f\"bcftools query -l {vcf_file} > temp_samples.txt\"\n",
    "            subprocess.run(cmd, shell=True, check=True)\n",
    "            \n",
    "            # Read sample IDs and create .ind file\n",
    "            with open('temp_samples.txt', 'r') as f:\n",
    "                samples = [line.strip() for line in f]\n",
    "            \n",
    "            # Get population info from our panel file\n",
    "            panel_data = pd.read_csv(os.path.join(self.data_dir, 'population_summary.csv'))\n",
    "            \n",
    "            # Create .ind format DataFrame\n",
    "            ind_data = pd.DataFrame({\n",
    "                'sample': samples,\n",
    "                'sex': 'U',  # Unknown sex, can be updated if we have the info\n",
    "                'pop': population\n",
    "            })\n",
    "            \n",
    "            # Save .ind file\n",
    "            ind_data.to_csv(f'{base_out}.ind', sep='\\t', index=False, header=False)\n",
    "            os.remove('temp_samples.txt')\n",
    "        \n",
    "        # 2. Create .snp file\n",
    "        cmd = f\"\"\"bcftools query -f '%CHROM\\t%POS\\t%ID\\t%REF\\t%ALT\\n' {vcf_file} > temp_snps.txt\"\"\"\n",
    "        subprocess.run(cmd, shell=True, check=True)\n",
    "        \n",
    "        # Read and format SNP data\n",
    "        snp_data = pd.read_csv('temp_snps.txt', sep='\\t', \n",
    "                              names=['chromosome', 'position', 'rsid', 'ref', 'alt'])\n",
    "        snp_data['morgans'] = 0.0  # Set morgans to 0 as in HapMap3\n",
    "        \n",
    "        # Save .snp file\n",
    "        snp_data.to_csv(f'{base_out}.snp', sep='\\t', index=False, header=False)\n",
    "        os.remove('temp_snps.txt')\n",
    "        \n",
    "        # 3. Create .geno file\n",
    "        # Extract genotypes and convert to 0,1,2 format\n",
    "        cmd = f\"\"\"bcftools query -f '[%GT]\\n' {vcf_file} > temp_geno.txt\"\"\"\n",
    "        subprocess.run(cmd, shell=True, check=True)\n",
    "        \n",
    "        # Convert genotypes\n",
    "        with open('temp_geno.txt', 'r') as f:\n",
    "            with open(f'{base_out}.geno', 'w') as out:\n",
    "                for line in tqdm(f, desc=f\"Converting genotypes for chr{chrom}\"):\n",
    "                    gts = line.strip().split('\\t')\n",
    "                    converted = []\n",
    "                    for gt in gts:\n",
    "                        if gt == '0|0':\n",
    "                            converted.append('0')\n",
    "                        elif gt in ('0|1', '1|0'):\n",
    "                            converted.append('1')\n",
    "                        elif gt == '1|1':\n",
    "                            converted.append('2')\n",
    "                        else:\n",
    "                            converted.append('9')  # Missing data\n",
    "                    out.write(''.join(converted) + '\\n')\n",
    "        \n",
    "        os.remove('temp_geno.txt')\n",
    "        return base_out\n",
    "\n",
    "def main():\n",
    "    converter = VCFConverter()\n",
    "    \n",
    "    # Convert each chromosome\n",
    "    for population in ['CHB', 'JPT', 'CEU', 'YRI', 'ASW', 'LWK', 'MXL', 'TSI']:\n",
    "        print(f\"\\nProcessing population: {population}\")\n",
    "        for chrom in range(1, 23):\n",
    "            print(f\"Converting chromosome {chrom}\")\n",
    "            output_prefix = converter.convert_vcf_to_hapmap(chrom, population)\n",
    "            print(f\"Created files: {output_prefix}.snp/ind/geno\")\n",
    "\n",
    "if __name__ == \"__main__\":\n",
    "    main()"
   ]
  },
  {
   "cell_type": "code",
   "execution_count": null,
   "id": "5003fb53",
   "metadata": {},
   "outputs": [],
   "source": []
  }
 ],
 "metadata": {
  "kernelspec": {
   "display_name": "Python 3 (ipykernel)",
   "language": "python",
   "name": "python3"
  },
  "language_info": {
   "codemirror_mode": {
    "name": "ipython",
    "version": 3
   },
   "file_extension": ".py",
   "mimetype": "text/x-python",
   "name": "python",
   "nbconvert_exporter": "python",
   "pygments_lexer": "ipython3",
   "version": "3.11.5"
  }
 },
 "nbformat": 4,
 "nbformat_minor": 5
}
